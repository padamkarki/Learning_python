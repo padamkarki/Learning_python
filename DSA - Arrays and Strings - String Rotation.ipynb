{
 "cells": [
  {
   "cell_type": "markdown",
   "id": "14f920b1",
   "metadata": {},
   "source": [
    "### String Rotation: \n",
    "Assume you have a method isSubst ring which checks if one word is a substring <br>\n",
    "of another. Given two strings, s1 and s2, write code to check if s2 is a rotation of s1 using only one <br>\n",
    "call to isSubstring (e.g., \"waterbottle\" is a rotation of\"erbottlewat\")."
   ]
  },
  {
   "cell_type": "code",
   "execution_count": 17,
   "id": "db2357b5",
   "metadata": {},
   "outputs": [],
   "source": [
    "def string_rotation(s1, s2):\n",
    "    if s1 == s2:\n",
    "        return True\n",
    "    elif len(s1) != len(s2):\n",
    "        return False\n",
    "    elif len(s1) == len(s2):\n",
    "        for i in range(len(s1)):\n",
    "            if s1 == s2:\n",
    "                return True\n",
    "            s1 = s1[1:] + s1[0]\n",
    "        return False\n",
    "    else:\n",
    "        return False\n",
    "        \n",
    "        "
   ]
  },
  {
   "cell_type": "code",
   "execution_count": 19,
   "id": "1f85f35f",
   "metadata": {},
   "outputs": [
    {
     "data": {
      "text/plain": [
       "True"
      ]
     },
     "execution_count": 19,
     "metadata": {},
     "output_type": "execute_result"
    }
   ],
   "source": [
    "string_rotation(\"waterbottle\", \"erbottlewat\")"
   ]
  },
  {
   "cell_type": "markdown",
   "id": "d924fc8c",
   "metadata": {},
   "source": [
    "### Easy solution:"
   ]
  },
  {
   "cell_type": "code",
   "execution_count": 21,
   "id": "deb6573d",
   "metadata": {},
   "outputs": [],
   "source": [
    "def string_rotatn(s1,s2):\n",
    "    if len(s1) != len(s2):\n",
    "        return False\n",
    "    else :\n",
    "        string = s1 + s1\n",
    "        if s2 in string:\n",
    "            return True\n",
    "        else:\n",
    "            return False"
   ]
  },
  {
   "cell_type": "code",
   "execution_count": 26,
   "id": "c0ddee4a",
   "metadata": {},
   "outputs": [
    {
     "data": {
      "text/plain": [
       "True"
      ]
     },
     "execution_count": 26,
     "metadata": {},
     "output_type": "execute_result"
    }
   ],
   "source": [
    "string_rotatn(\"waterbottle\", \"erbottlewat\")"
   ]
  },
  {
   "cell_type": "code",
   "execution_count": null,
   "id": "61b5cc27",
   "metadata": {},
   "outputs": [],
   "source": []
  }
 ],
 "metadata": {
  "kernelspec": {
   "display_name": "Python 3 (ipykernel)",
   "language": "python",
   "name": "python3"
  },
  "language_info": {
   "codemirror_mode": {
    "name": "ipython",
    "version": 3
   },
   "file_extension": ".py",
   "mimetype": "text/x-python",
   "name": "python",
   "nbconvert_exporter": "python",
   "pygments_lexer": "ipython3",
   "version": "3.11.5"
  }
 },
 "nbformat": 4,
 "nbformat_minor": 5
}
