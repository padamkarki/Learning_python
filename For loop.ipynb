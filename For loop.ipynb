{
 "cells": [
  {
   "cell_type": "code",
   "execution_count": 1,
   "id": "9fd78dea",
   "metadata": {},
   "outputs": [],
   "source": [
    "myList = [1,2,3,4,5,6,7,8,9,10]"
   ]
  },
  {
   "cell_type": "code",
   "execution_count": 3,
   "id": "52a6b9bf",
   "metadata": {},
   "outputs": [
    {
     "name": "stdout",
     "output_type": "stream",
     "text": [
      "2\n",
      "4\n",
      "6\n",
      "8\n",
      "10\n",
      "12\n",
      "14\n",
      "16\n",
      "18\n",
      "20\n"
     ]
    }
   ],
   "source": [
    "for num in myList:\n",
    "    print(num * 2)"
   ]
  },
  {
   "cell_type": "code",
   "execution_count": 10,
   "id": "c9893ad7",
   "metadata": {},
   "outputs": [
    {
     "name": "stdout",
     "output_type": "stream",
     "text": [
      "1: odd number\n",
      "2: even number\n",
      "3: odd number\n",
      "4: even number\n",
      "5: odd number\n",
      "6: even number\n",
      "7: odd number\n",
      "8: even number\n",
      "9: odd number\n",
      "10: even number\n"
     ]
    }
   ],
   "source": [
    "for num in myList:\n",
    "    #Check for even \n",
    "    if num % 2 == 0:\n",
    "        print(f\"{num}: even number\")\n",
    "    else:\n",
    "        print(f\"{num}: odd number\")"
   ]
  },
  {
   "cell_type": "code",
   "execution_count": 22,
   "id": "7402a6a4",
   "metadata": {},
   "outputs": [
    {
     "name": "stdout",
     "output_type": "stream",
     "text": [
      "55\n"
     ]
    }
   ],
   "source": [
    "total_sum = 0\n",
    "\n",
    "for num in myList:\n",
    "    total_sum = total_sum + num\n",
    "    \n",
    "print(total_sum)"
   ]
  },
  {
   "cell_type": "markdown",
   "id": "7ada4327",
   "metadata": {},
   "source": [
    "## String"
   ]
  },
  {
   "cell_type": "code",
   "execution_count": 18,
   "id": "199a6dbb",
   "metadata": {
    "scrolled": true
   },
   "outputs": [
    {
     "name": "stdout",
     "output_type": "stream",
     "text": [
      "madaP\n"
     ]
    }
   ],
   "source": [
    "myString = \"Padam\"\n",
    "\n",
    "reversedNum = \"\"\n",
    "for char in myString:\n",
    "    reversedNum = char + reversedNum\n",
    "\n",
    "print(reversedNum)\n",
    "    "
   ]
  },
  {
   "cell_type": "markdown",
   "id": "d407e477",
   "metadata": {},
   "source": [
    "## Tuples\n"
   ]
  },
  {
   "cell_type": "code",
   "execution_count": 19,
   "id": "63eb7c3a",
   "metadata": {
    "scrolled": true
   },
   "outputs": [
    {
     "name": "stdout",
     "output_type": "stream",
     "text": [
      "1\n",
      "2\n",
      "3\n"
     ]
    }
   ],
   "source": [
    "tup = (1,2,3)\n",
    "\n",
    "for item in tup:\n",
    "    print(item)"
   ]
  },
  {
   "cell_type": "markdown",
   "id": "63f038a9",
   "metadata": {},
   "source": [
    "## Tuples unpacking\n"
   ]
  },
  {
   "cell_type": "code",
   "execution_count": 21,
   "id": "19d85f66",
   "metadata": {},
   "outputs": [
    {
     "name": "stdout",
     "output_type": "stream",
     "text": [
      "3\n",
      "6\n",
      "9\n"
     ]
    }
   ],
   "source": [
    "myList2 = [(1,2,3), (4,5,6), (7,8,9)]\n",
    "\n",
    "for (a,b,c) in myList2:\n",
    "    print(c)"
   ]
  },
  {
   "cell_type": "markdown",
   "id": "3edf3afb",
   "metadata": {},
   "source": [
    "## Dictionary iteration and unpacking tuples, D is unordered"
   ]
  },
  {
   "cell_type": "code",
   "execution_count": 37,
   "id": "aecfa34a",
   "metadata": {},
   "outputs": [
    {
     "name": "stdout",
     "output_type": "stream",
     "text": [
      "15\n",
      "26\n",
      "56\n"
     ]
    }
   ],
   "source": [
    "d = {\"k1\": 15, \"k2\":26, \"k3\":56}\n",
    "\n",
    "for key, value in d.items():\n",
    "    print(value)\n"
   ]
  },
  {
   "cell_type": "code",
   "execution_count": 41,
   "id": "cd779d60",
   "metadata": {},
   "outputs": [
    {
     "name": "stdout",
     "output_type": "stream",
     "text": [
      "k1\n",
      "k2\n",
      "k3\n"
     ]
    }
   ],
   "source": [
    "for k in d.keys():\n",
    "    print(k)"
   ]
  },
  {
   "cell_type": "code",
   "execution_count": null,
   "id": "fd451a16",
   "metadata": {},
   "outputs": [],
   "source": []
  }
 ],
 "metadata": {
  "kernelspec": {
   "display_name": "Python 3 (ipykernel)",
   "language": "python",
   "name": "python3"
  },
  "language_info": {
   "codemirror_mode": {
    "name": "ipython",
    "version": 3
   },
   "file_extension": ".py",
   "mimetype": "text/x-python",
   "name": "python",
   "nbconvert_exporter": "python",
   "pygments_lexer": "ipython3",
   "version": "3.11.5"
  }
 },
 "nbformat": 4,
 "nbformat_minor": 5
}
