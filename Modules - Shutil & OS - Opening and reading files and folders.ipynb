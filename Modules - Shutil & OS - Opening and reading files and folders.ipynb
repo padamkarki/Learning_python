{
 "cells": [
  {
   "cell_type": "code",
   "execution_count": 1,
   "id": "0e3e414d",
   "metadata": {},
   "outputs": [
    {
     "data": {
      "text/plain": [
       "'C:\\\\Users\\\\Karki\\\\My Python data'"
      ]
     },
     "execution_count": 1,
     "metadata": {},
     "output_type": "execute_result"
    }
   ],
   "source": [
    "pwd"
   ]
  },
  {
   "cell_type": "code",
   "execution_count": 2,
   "id": "716e51d4",
   "metadata": {},
   "outputs": [],
   "source": [
    "f = open(\"practice.text\", \"w+\")\n",
    "f.write(\"This is a testing string\")\n",
    "f.close()"
   ]
  },
  {
   "cell_type": "markdown",
   "id": "dadf699a",
   "metadata": {},
   "source": [
    "## OS"
   ]
  },
  {
   "cell_type": "code",
   "execution_count": 4,
   "id": "f9d1069b",
   "metadata": {},
   "outputs": [],
   "source": [
    "import os   #list directory, get current working diectory"
   ]
  },
  {
   "cell_type": "code",
   "execution_count": 5,
   "id": "107bd921",
   "metadata": {},
   "outputs": [
    {
     "data": {
      "text/plain": [
       "'C:\\\\Users\\\\Karki\\\\My Python data'"
      ]
     },
     "execution_count": 5,
     "metadata": {},
     "output_type": "execute_result"
    }
   ],
   "source": [
    "#CURRENT DIRECTORY\n",
    "\n",
    "os.getcwd()\n"
   ]
  },
  {
   "cell_type": "code",
   "execution_count": 9,
   "id": "b40999e8",
   "metadata": {},
   "outputs": [
    {
     "data": {
      "text/plain": [
       "['All Users', 'Default', 'Default User', 'desktop.ini', 'Karki', 'Public']"
      ]
     },
     "execution_count": 9,
     "metadata": {},
     "output_type": "execute_result"
    }
   ],
   "source": [
    "\n",
    "#Listing directory and files\n",
    "\n",
    "os.listdir(\"C:\\\\Users\")  "
   ]
  },
  {
   "cell_type": "markdown",
   "id": "3fb24f8d",
   "metadata": {},
   "source": [
    "## Shutil"
   ]
  },
  {
   "cell_type": "code",
   "execution_count": 11,
   "id": "eac31139",
   "metadata": {},
   "outputs": [],
   "source": [
    "import shutil # to move files"
   ]
  },
  {
   "cell_type": "code",
   "execution_count": 16,
   "id": "457768ce",
   "metadata": {},
   "outputs": [
    {
     "data": {
      "text/plain": [
       "'C:\\\\Users\\\\Karki\\\\My Python data\\\\practice.text'"
      ]
     },
     "execution_count": 16,
     "metadata": {},
     "output_type": "execute_result"
    }
   ],
   "source": [
    "shutil.move(\"C:\\\\Users\\\\Karki\\\\practice.text\", 'C:\\\\Users\\\\Karki\\\\My Python data')"
   ]
  },
  {
   "cell_type": "code",
   "execution_count": 19,
   "id": "930f1ec9",
   "metadata": {},
   "outputs": [
    {
     "data": {
      "text/plain": [
       "['.ipynb_checkpoints',\n",
       " 'args and kwargs, for n arguments not pre-defined.ipynb',\n",
       " 'class and attributes, permanent or inbuilt attribute, methods - oop.ipynb',\n",
       " 'Decorators.ipynb',\n",
       " 'Dictionaries key value.ipynb',\n",
       " 'DSA - Linked list.ipynb',\n",
       " 'errors and exception practice.ipynb',\n",
       " 'Errors and Exceptions.ipynb',\n",
       " 'For loop.ipynb',\n",
       " 'Fuctions.ipynb',\n",
       " 'Generators.ipynb',\n",
       " 'if, elif, else.ipynb',\n",
       " 'Inheritance and polymorphism - oop.ipynb',\n",
       " 'Input Output.ipynb',\n",
       " 'List Comprehension, converting to list easily.ipynb',\n",
       " 'List,.ipynb',\n",
       " 'Map, filter, lambda expr.ipynb',\n",
       " 'Methods.ipynb',\n",
       " 'Modules - Collections.ipynb',\n",
       " 'Modules - Shutil & OS - Opening and reading files and folders.ipynb',\n",
       " 'myfile.txt',\n",
       " 'Nested Statements and scopes.ipynb',\n",
       " 'practice.text',\n",
       " 'Print, String, Indexing, Slicing, Formatting.ipynb',\n",
       " 'Project 1 - Tix tac toe - Displaying, validating, input.ipynb',\n",
       " 'Project 2 - War game - OOP project.ipynb',\n",
       " 'range, in keyword, enumerate, input.ipynb',\n",
       " 'Set is Unique values.ipynb',\n",
       " 'Test - Mercari Build.ipynb',\n",
       " 'testfile',\n",
       " 'Tuples.ipynb',\n",
       " 'User interaction.ipynb',\n",
       " 'While loops.ipynb']"
      ]
     },
     "execution_count": 19,
     "metadata": {},
     "output_type": "execute_result"
    }
   ],
   "source": [
    "os.listdir('C:\\\\Users\\\\Karki\\\\My Python data')"
   ]
  },
  {
   "cell_type": "code",
   "execution_count": 14,
   "id": "f13a642d",
   "metadata": {},
   "outputs": [],
   "source": [
    "import send2trash"
   ]
  },
  {
   "cell_type": "code",
   "execution_count": 20,
   "id": "8e692a3c",
   "metadata": {},
   "outputs": [],
   "source": [
    "send2trash.send2trash('practice.text')    #sent to recycle bin"
   ]
  },
  {
   "cell_type": "code",
   "execution_count": 21,
   "id": "1f58887e",
   "metadata": {},
   "outputs": [
    {
     "data": {
      "text/plain": [
       "['.ipynb_checkpoints',\n",
       " 'args and kwargs, for n arguments not pre-defined.ipynb',\n",
       " 'class and attributes, permanent or inbuilt attribute, methods - oop.ipynb',\n",
       " 'Decorators.ipynb',\n",
       " 'Dictionaries key value.ipynb',\n",
       " 'DSA - Linked list.ipynb',\n",
       " 'errors and exception practice.ipynb',\n",
       " 'Errors and Exceptions.ipynb',\n",
       " 'For loop.ipynb',\n",
       " 'Fuctions.ipynb',\n",
       " 'Generators.ipynb',\n",
       " 'if, elif, else.ipynb',\n",
       " 'Inheritance and polymorphism - oop.ipynb',\n",
       " 'Input Output.ipynb',\n",
       " 'List Comprehension, converting to list easily.ipynb',\n",
       " 'List,.ipynb',\n",
       " 'Map, filter, lambda expr.ipynb',\n",
       " 'Methods.ipynb',\n",
       " 'Modules - Collections.ipynb',\n",
       " 'Modules - Shutil & OS - Opening and reading files and folders.ipynb',\n",
       " 'myfile.txt',\n",
       " 'Nested Statements and scopes.ipynb',\n",
       " 'Print, String, Indexing, Slicing, Formatting.ipynb',\n",
       " 'Project 1 - Tix tac toe - Displaying, validating, input.ipynb',\n",
       " 'Project 2 - War game - OOP project.ipynb',\n",
       " 'range, in keyword, enumerate, input.ipynb',\n",
       " 'Set is Unique values.ipynb',\n",
       " 'Test - Mercari Build.ipynb',\n",
       " 'testfile',\n",
       " 'Tuples.ipynb',\n",
       " 'User interaction.ipynb',\n",
       " 'While loops.ipynb']"
      ]
     },
     "execution_count": 21,
     "metadata": {},
     "output_type": "execute_result"
    }
   ],
   "source": [
    "os.listdir()"
   ]
  },
  {
   "cell_type": "markdown",
   "id": "4c67c4d9",
   "metadata": {},
   "source": [
    "## os.walk"
   ]
  },
  {
   "cell_type": "code",
   "execution_count": 34,
   "id": "7b292b66",
   "metadata": {
    "scrolled": true
   },
   "outputs": [
    {
     "data": {
      "text/plain": [
       "'C:\\\\Users\\\\Karki\\\\My Python data'"
      ]
     },
     "execution_count": 34,
     "metadata": {},
     "output_type": "execute_result"
    }
   ],
   "source": [
    "os.getcwd()"
   ]
  },
  {
   "cell_type": "code",
   "execution_count": 39,
   "id": "b8fd4e5d",
   "metadata": {},
   "outputs": [
    {
     "data": {
      "text/plain": [
       "['Mid-Example-One', 'Mid-Example.txt']"
      ]
     },
     "execution_count": 39,
     "metadata": {},
     "output_type": "execute_result"
    }
   ],
   "source": [
    "os.listdir(\"C:\\\\Users\\\\Karki\\\\Complete-Python-3-Bootcamp-master\\\\12-Advanced Python Modules\\\\Example_Top_Level\")"
   ]
  },
  {
   "cell_type": "code",
   "execution_count": 40,
   "id": "c5a182b2",
   "metadata": {},
   "outputs": [],
   "source": [
    "path = \"C:\\\\Users\\\\Karki\\\\Complete-Python-3-Bootcamp-master\\\\12-Advanced Python Modules\\\\Example_Top_Level\""
   ]
  },
  {
   "cell_type": "code",
   "execution_count": 41,
   "id": "7c5e060b",
   "metadata": {},
   "outputs": [
    {
     "name": "stdout",
     "output_type": "stream",
     "text": [
      "Currently looking at C:\\Users\\Karki\\Complete-Python-3-Bootcamp-master\\12-Advanced Python Modules\\Example_Top_Level\n",
      "\n",
      "\n",
      "The subfolders are: \n",
      "\t Subfolder: Mid-Example-One\n",
      "\n",
      "\n",
      "the files are: \n",
      "\t File: Mid-Example.txt\n",
      "\n",
      "\n",
      "Currently looking at C:\\Users\\Karki\\Complete-Python-3-Bootcamp-master\\12-Advanced Python Modules\\Example_Top_Level\\Mid-Example-One\n",
      "\n",
      "\n",
      "The subfolders are: \n",
      "\t Subfolder: Bottom-Level-One\n",
      "\t Subfolder: Bottom-Level-Two\n",
      "\n",
      "\n",
      "the files are: \n",
      "\t File: Mid-Level-Doc.txt\n",
      "\n",
      "\n",
      "Currently looking at C:\\Users\\Karki\\Complete-Python-3-Bootcamp-master\\12-Advanced Python Modules\\Example_Top_Level\\Mid-Example-One\\Bottom-Level-One\n",
      "\n",
      "\n",
      "The subfolders are: \n",
      "\n",
      "\n",
      "the files are: \n",
      "\t File: One_Text.txt\n",
      "\n",
      "\n",
      "Currently looking at C:\\Users\\Karki\\Complete-Python-3-Bootcamp-master\\12-Advanced Python Modules\\Example_Top_Level\\Mid-Example-One\\Bottom-Level-Two\n",
      "\n",
      "\n",
      "The subfolders are: \n",
      "\n",
      "\n",
      "the files are: \n",
      "\t File: Bottom-Text-Two.txt\n",
      "\n",
      "\n"
     ]
    }
   ],
   "source": [
    "for folder, sub_folders, files in os.walk(path):\n",
    "    \n",
    "    print(f\"Currently looking at {folder}\")\n",
    "    print(\"\\n\")\n",
    "    print(\"The subfolders are: \")\n",
    "    for sub_fold in sub_folders:\n",
    "        print(f\"\\t Subfolder: {sub_fold}\")\n",
    "              \n",
    "    print (\"\\n\")\n",
    "    print(\"the files are: \")\n",
    "    for f in files:\n",
    "        print(f\"\\t File: {f}\")\n",
    "    print(\"\\n\")\n",
    "    \n"
   ]
  },
  {
   "cell_type": "code",
   "execution_count": null,
   "id": "126aa943",
   "metadata": {},
   "outputs": [],
   "source": []
  }
 ],
 "metadata": {
  "kernelspec": {
   "display_name": "Python 3 (ipykernel)",
   "language": "python",
   "name": "python3"
  },
  "language_info": {
   "codemirror_mode": {
    "name": "ipython",
    "version": 3
   },
   "file_extension": ".py",
   "mimetype": "text/x-python",
   "name": "python",
   "nbconvert_exporter": "python",
   "pygments_lexer": "ipython3",
   "version": "3.11.5"
  }
 },
 "nbformat": 4,
 "nbformat_minor": 5
}
