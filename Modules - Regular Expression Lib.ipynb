{
 "cells": [
  {
   "cell_type": "code",
   "execution_count": 1,
   "id": "d915a684",
   "metadata": {},
   "outputs": [],
   "source": [
    "text = \"I am phone owner, my num is 45-445-64\""
   ]
  },
  {
   "cell_type": "code",
   "execution_count": 2,
   "id": "fcb5f986",
   "metadata": {},
   "outputs": [
    {
     "data": {
      "text/plain": [
       "True"
      ]
     },
     "execution_count": 2,
     "metadata": {},
     "output_type": "execute_result"
    }
   ],
   "source": [
    "\"phone\" in text"
   ]
  },
  {
   "cell_type": "code",
   "execution_count": 2,
   "id": "a4f37f9a",
   "metadata": {},
   "outputs": [],
   "source": [
    "import re"
   ]
  },
  {
   "cell_type": "code",
   "execution_count": 4,
   "id": "cc69a087",
   "metadata": {},
   "outputs": [],
   "source": [
    "pattern = \"phone\""
   ]
  },
  {
   "cell_type": "code",
   "execution_count": 7,
   "id": "c8d7d439",
   "metadata": {},
   "outputs": [
    {
     "data": {
      "text/plain": [
       "<re.Match object; span=(5, 10), match='phone'>"
      ]
     },
     "execution_count": 7,
     "metadata": {},
     "output_type": "execute_result"
    }
   ],
   "source": [
    "re.search(pattern,text)      # 5 is index and 10 is end index in text"
   ]
  },
  {
   "cell_type": "code",
   "execution_count": 8,
   "id": "ae5e0589",
   "metadata": {},
   "outputs": [],
   "source": [
    "pattern = \"not there\""
   ]
  },
  {
   "cell_type": "code",
   "execution_count": 10,
   "id": "adf9adaa",
   "metadata": {},
   "outputs": [],
   "source": [
    "re.search(pattern,text)     # no match"
   ]
  },
  {
   "cell_type": "code",
   "execution_count": 11,
   "id": "d6553196",
   "metadata": {},
   "outputs": [],
   "source": [
    "pattern = \"phone\""
   ]
  },
  {
   "cell_type": "code",
   "execution_count": 12,
   "id": "52b4630c",
   "metadata": {},
   "outputs": [],
   "source": [
    "match = re.search(pattern,text) "
   ]
  },
  {
   "cell_type": "code",
   "execution_count": 13,
   "id": "e480fe93",
   "metadata": {},
   "outputs": [
    {
     "data": {
      "text/plain": [
       "<re.Match object; span=(5, 10), match='phone'>"
      ]
     },
     "execution_count": 13,
     "metadata": {},
     "output_type": "execute_result"
    }
   ],
   "source": [
    "match"
   ]
  },
  {
   "cell_type": "code",
   "execution_count": 14,
   "id": "82fdbd70",
   "metadata": {},
   "outputs": [
    {
     "data": {
      "text/plain": [
       "(5, 10)"
      ]
     },
     "execution_count": 14,
     "metadata": {},
     "output_type": "execute_result"
    }
   ],
   "source": [
    "match.span()"
   ]
  },
  {
   "cell_type": "code",
   "execution_count": 15,
   "id": "b65401b4",
   "metadata": {},
   "outputs": [
    {
     "data": {
      "text/plain": [
       "5"
      ]
     },
     "execution_count": 15,
     "metadata": {},
     "output_type": "execute_result"
    }
   ],
   "source": [
    "match.start()"
   ]
  },
  {
   "cell_type": "code",
   "execution_count": 16,
   "id": "0fd22e1a",
   "metadata": {},
   "outputs": [
    {
     "data": {
      "text/plain": [
       "10"
      ]
     },
     "execution_count": 16,
     "metadata": {},
     "output_type": "execute_result"
    }
   ],
   "source": [
    "match.end()"
   ]
  },
  {
   "cell_type": "code",
   "execution_count": 17,
   "id": "9f0ded8c",
   "metadata": {},
   "outputs": [],
   "source": [
    "text =  \"my phone 1, my phone 2\""
   ]
  },
  {
   "cell_type": "code",
   "execution_count": 18,
   "id": "0a5cf67a",
   "metadata": {},
   "outputs": [],
   "source": [
    "match = re.search(\"phone\",text) "
   ]
  },
  {
   "cell_type": "code",
   "execution_count": 19,
   "id": "dd560994",
   "metadata": {},
   "outputs": [
    {
     "data": {
      "text/plain": [
       "<re.Match object; span=(3, 8), match='phone'>"
      ]
     },
     "execution_count": 19,
     "metadata": {},
     "output_type": "execute_result"
    }
   ],
   "source": [
    "match         #only 1st instance is searched"
   ]
  },
  {
   "cell_type": "code",
   "execution_count": 20,
   "id": "f4d3c8c4",
   "metadata": {},
   "outputs": [],
   "source": [
    "matches = re.findall(\"phone\",text)"
   ]
  },
  {
   "cell_type": "code",
   "execution_count": 21,
   "id": "a8610a77",
   "metadata": {},
   "outputs": [
    {
     "data": {
      "text/plain": [
       "['phone', 'phone']"
      ]
     },
     "execution_count": 21,
     "metadata": {},
     "output_type": "execute_result"
    }
   ],
   "source": [
    "matches"
   ]
  },
  {
   "cell_type": "code",
   "execution_count": 22,
   "id": "17b0c298",
   "metadata": {},
   "outputs": [
    {
     "data": {
      "text/plain": [
       "2"
      ]
     },
     "execution_count": 22,
     "metadata": {},
     "output_type": "execute_result"
    }
   ],
   "source": [
    "len(matches)"
   ]
  },
  {
   "cell_type": "code",
   "execution_count": 26,
   "id": "087c1557",
   "metadata": {},
   "outputs": [
    {
     "name": "stdout",
     "output_type": "stream",
     "text": [
      "<re.Match object; span=(3, 8), match='phone'>\n",
      "(3, 8)\n",
      "<re.Match object; span=(15, 20), match='phone'>\n",
      "(15, 20)\n"
     ]
    }
   ],
   "source": [
    "for match in re.finditer(\"phone\", text):\n",
    "    print(match)\n",
    "    print(match.span())"
   ]
  },
  {
   "cell_type": "code",
   "execution_count": 4,
   "id": "948b7376",
   "metadata": {},
   "outputs": [],
   "source": [
    "text =  \"my phone 1, my phone 222-222-222\""
   ]
  },
  {
   "cell_type": "code",
   "execution_count": 4,
   "id": "64ed2d55",
   "metadata": {},
   "outputs": [],
   "source": [
    "phone = re.search(r\"\\d\\d\\d-\\d\\d\\d-\\d\\d\\d\",text)"
   ]
  },
  {
   "cell_type": "code",
   "execution_count": 5,
   "id": "efb115a3",
   "metadata": {},
   "outputs": [
    {
     "data": {
      "text/plain": [
       "<re.Match object; span=(21, 32), match='222-222-222'>"
      ]
     },
     "execution_count": 5,
     "metadata": {},
     "output_type": "execute_result"
    }
   ],
   "source": [
    "phone"
   ]
  },
  {
   "cell_type": "code",
   "execution_count": 6,
   "id": "4624c8a5",
   "metadata": {},
   "outputs": [
    {
     "data": {
      "text/plain": [
       "'222-222-222'"
      ]
     },
     "execution_count": 6,
     "metadata": {},
     "output_type": "execute_result"
    }
   ],
   "source": [
    "phone.group()"
   ]
  },
  {
   "cell_type": "code",
   "execution_count": 11,
   "id": "49963f39",
   "metadata": {},
   "outputs": [],
   "source": [
    "phone = re.search(r\"\\d{3}-\\d{3}-\\d{3}\",text)"
   ]
  },
  {
   "cell_type": "code",
   "execution_count": 12,
   "id": "91da6504",
   "metadata": {},
   "outputs": [
    {
     "data": {
      "text/plain": [
       "<re.Match object; span=(21, 32), match='222-222-222'>"
      ]
     },
     "execution_count": 12,
     "metadata": {},
     "output_type": "execute_result"
    }
   ],
   "source": [
    "phone"
   ]
  },
  {
   "cell_type": "code",
   "execution_count": 13,
   "id": "acbaa051",
   "metadata": {},
   "outputs": [
    {
     "data": {
      "text/plain": [
       "'222-222-222'"
      ]
     },
     "execution_count": 13,
     "metadata": {},
     "output_type": "execute_result"
    }
   ],
   "source": [
    "phone.group()"
   ]
  },
  {
   "cell_type": "code",
   "execution_count": 14,
   "id": "17176ca2",
   "metadata": {},
   "outputs": [],
   "source": [
    "phone = re.search(r\"(\\d{3})-(\\d{3})-(\\d{3})\",text)"
   ]
  },
  {
   "cell_type": "code",
   "execution_count": 15,
   "id": "068f1781",
   "metadata": {},
   "outputs": [
    {
     "data": {
      "text/plain": [
       "'222'"
      ]
     },
     "execution_count": 15,
     "metadata": {},
     "output_type": "execute_result"
    }
   ],
   "source": [
    "phone.group(1)"
   ]
  },
  {
   "cell_type": "markdown",
   "id": "a5eddb85",
   "metadata": {},
   "source": [
    "#   "
   ]
  },
  {
   "cell_type": "markdown",
   "id": "3cb5b890",
   "metadata": {},
   "source": [
    "## Additional regex syntax"
   ]
  },
  {
   "cell_type": "code",
   "execution_count": 17,
   "id": "f6a53938",
   "metadata": {},
   "outputs": [
    {
     "data": {
      "text/plain": [
       "<re.Match object; span=(4, 7), match='cat'>"
      ]
     },
     "execution_count": 17,
     "metadata": {},
     "output_type": "execute_result"
    }
   ],
   "source": [
    "re.search(\"cat\", \"The cat is here\")"
   ]
  },
  {
   "cell_type": "code",
   "execution_count": 19,
   "id": "5d150bf6",
   "metadata": {},
   "outputs": [
    {
     "data": {
      "text/plain": [
       "<re.Match object; span=(4, 7), match='dog'>"
      ]
     },
     "execution_count": 19,
     "metadata": {},
     "output_type": "execute_result"
    }
   ],
   "source": [
    "re.search(\"cat|dog\", \"The dog is here\")            # cat or dog"
   ]
  },
  {
   "cell_type": "code",
   "execution_count": 20,
   "id": "1a31c8b8",
   "metadata": {},
   "outputs": [
    {
     "data": {
      "text/plain": [
       "['cat', 'sat', 'hat']"
      ]
     },
     "execution_count": 20,
     "metadata": {},
     "output_type": "execute_result"
    }
   ],
   "source": [
    "re.findall(r\".at\", \"The cat sat on hat\")"
   ]
  },
  {
   "cell_type": "code",
   "execution_count": 22,
   "id": "f990518a",
   "metadata": {},
   "outputs": [
    {
     "data": {
      "text/plain": [
       "['e cat', 's sat', 'splat']"
      ]
     },
     "execution_count": 22,
     "metadata": {},
     "output_type": "execute_result"
    }
   ],
   "source": [
    "re.findall(r\"...at\", \"The cat is sat on splat\")"
   ]
  },
  {
   "cell_type": "code",
   "execution_count": 23,
   "id": "84032035",
   "metadata": {},
   "outputs": [],
   "source": [
    "##check lecture notes"
   ]
  },
  {
   "cell_type": "code",
   "execution_count": 5,
   "id": "d795b990",
   "metadata": {},
   "outputs": [
    {
     "data": {
      "text/plain": [
       "<re.Match object; span=(21, 32), match='222-222-222'>"
      ]
     },
     "execution_count": 5,
     "metadata": {},
     "output_type": "execute_result"
    }
   ],
   "source": [
    "re.search(r\"\\d{3}-\\d{3}-\\d{3}\",text)"
   ]
  },
  {
   "cell_type": "code",
   "execution_count": null,
   "id": "fe5f4778",
   "metadata": {},
   "outputs": [],
   "source": []
  }
 ],
 "metadata": {
  "kernelspec": {
   "display_name": "Python 3 (ipykernel)",
   "language": "python",
   "name": "python3"
  },
  "language_info": {
   "codemirror_mode": {
    "name": "ipython",
    "version": 3
   },
   "file_extension": ".py",
   "mimetype": "text/x-python",
   "name": "python",
   "nbconvert_exporter": "python",
   "pygments_lexer": "ipython3",
   "version": "3.11.5"
  }
 },
 "nbformat": 4,
 "nbformat_minor": 5
}
