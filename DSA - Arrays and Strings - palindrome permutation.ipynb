{
 "cells": [
  {
   "cell_type": "markdown",
   "id": "19519ee2",
   "metadata": {},
   "source": [
    "### Palindrome Permutation: \n",
    "Given a string, write a function to check if it is a permutation of a palin-\n",
    "drome. A palindrome is a word or phrase that is the same forwards and backwards. A permutation\n",
    "is a rearrangement of letters. The palindrome does not need to be limited to just dictionary words.\n",
    "\n",
    "EXAMPLE\n",
    "Input: Tact Coa\n",
    "\n",
    "Output: True (permutations: \"taco cat\". \"atco cta\". etc.)\n",
    "\n",
    "Hints: #106, #121, #134, #136"
   ]
  },
  {
   "cell_type": "code",
   "execution_count": 68,
   "id": "235841d7",
   "metadata": {},
   "outputs": [],
   "source": [
    "def palind_permu(string):    \n",
    "    \n",
    "    string = string.lower() \n",
    "    char_count = {}\n",
    "    \n",
    "# add all character to dictonary and ignore spaces\n",
    "    for char in string:\n",
    "        if char == \" \":\n",
    "            continue\n",
    "        char_count[char] = char_count.get(char, 0) + 1\n",
    "    print(char_count)    \n",
    "\n",
    "# If even: check if all key values are even\n",
    "    # total_counts = sum(char_count.values())\n",
    "    total_counts = len(string)\n",
    "    print(f\"total counts: {total_counts}\")\n",
    "\n",
    "    if total_counts % 2 == 0:\n",
    "        for count in char_count.values():\n",
    "            if count % 2 != 0:\n",
    "                print(\"More than 1 odd count\")\n",
    "                return False\n",
    "            \n",
    "        return True\n",
    "\n",
    "    \n",
    "#if odd check if only one count is odd\n",
    "\n",
    "    else:\n",
    "        count_odd = 0\n",
    "        for count in char_count.values():\n",
    "            if count % 2 != 0:                  # odd num\n",
    "                count_odd += 1 \n",
    "        print(f\"odd count: {count_odd}\")\n",
    "                \n",
    "        if count_odd > 1:\n",
    "            return False\n",
    "        else:\n",
    "            return True\n"
   ]
  },
  {
   "cell_type": "code",
   "execution_count": 87,
   "id": "48523c74",
   "metadata": {},
   "outputs": [
    {
     "name": "stdout",
     "output_type": "stream",
     "text": [
      "{'a': 2, 'c': 2, 'b': 1}\n",
      "total counts: 5\n",
      "odd count: 1\n"
     ]
    },
    {
     "data": {
      "text/plain": [
       "True"
      ]
     },
     "execution_count": 87,
     "metadata": {},
     "output_type": "execute_result"
    }
   ],
   "source": [
    "palind_permu(\"acbca\")"
   ]
  },
  {
   "cell_type": "code",
   "execution_count": 76,
   "id": "ca3fcf18",
   "metadata": {},
   "outputs": [],
   "source": [
    "def palind_permu1(string):\n",
    "    string = string.lower()\n",
    "    odd_counts = set()\n",
    "\n",
    "    for char in string:\n",
    "        if char != \" \":\n",
    "            if char in odd_counts:\n",
    "                odd_counts.remove(char)\n",
    "            else:\n",
    "                odd_counts.add(char)\n",
    "\n",
    "    return len(odd_counts) <= 1"
   ]
  },
  {
   "cell_type": "code",
   "execution_count": 85,
   "id": "e7bef3b5",
   "metadata": {},
   "outputs": [
    {
     "data": {
      "text/plain": [
       "True"
      ]
     },
     "execution_count": 85,
     "metadata": {},
     "output_type": "execute_result"
    }
   ],
   "source": [
    "palind_permu1(\"     \")"
   ]
  },
  {
   "cell_type": "code",
   "execution_count": null,
   "id": "7783cec8",
   "metadata": {},
   "outputs": [],
   "source": []
  }
 ],
 "metadata": {
  "kernelspec": {
   "display_name": "Python 3 (ipykernel)",
   "language": "python",
   "name": "python3"
  },
  "language_info": {
   "codemirror_mode": {
    "name": "ipython",
    "version": 3
   },
   "file_extension": ".py",
   "mimetype": "text/x-python",
   "name": "python",
   "nbconvert_exporter": "python",
   "pygments_lexer": "ipython3",
   "version": "3.11.5"
  }
 },
 "nbformat": 4,
 "nbformat_minor": 5
}
