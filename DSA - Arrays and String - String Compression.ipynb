{
 "cells": [
  {
   "cell_type": "markdown",
   "id": "5e73652b",
   "metadata": {},
   "source": [
    "### String Compression: \n",
    "Implement a method to perform basic string compression using the counts \n",
    "of repeated characters.<br>\n",
    "For example, the string aabcccccaaa would become a2b1c5a3. <br>\n",
    "If the \"compressed\" string would not become smaller than the original string, your method should return\n",
    "the original string. <br>\n",
    "You can assume the string has only uppercase and lowercase letters (a - z)."
   ]
  },
  {
   "cell_type": "code",
   "execution_count": 68,
   "id": "c5a28fe5",
   "metadata": {},
   "outputs": [],
   "source": [
    "def str_comp(string):\n",
    "    result = []\n",
    "    count = 1\n",
    "    curr_char = string[0]                           # initialising with 1st element\n",
    "    \n",
    "    for char in string[1:]:\n",
    "        if char == curr_char:                       # skipping 1st element\n",
    "            count += 1                              # if equal, adding count\n",
    "        else:\n",
    "            result.append(curr_char + str(count))   # if not matched adding previous(curr_char) char to list with its count\n",
    "            count = 1                               # resetting count to 1\n",
    "            curr_char = char                        # updating current char\n",
    "    result.append(curr_char + str(count))           # adding last item to list\n",
    "    comp_str = \"\".join(result)                      # converting list to string\n",
    "    \n",
    "    \n",
    "    print(f\"Compressed: {comp_str}, length: {len(comp_str)}\")\n",
    "    print(f\"Org string length: {len(string)}\")\n",
    "    \n",
    "    return string if len(comp_str) >= len(string) else comp_str        # checking length and return\n",
    "\n",
    "# My original solutions----------------------------------------------------------------------------------------\n",
    "\n",
    "# def str_comp(string):\n",
    "#     count = 1\n",
    "#     curr_char = \"\"\n",
    "#     result = \"\"\n",
    "#     index = 0\n",
    "#     for char in string:\n",
    "#         if char == curr_char:\n",
    "#             count += 1\n",
    "#         else:\n",
    "#             result += curr_char + str(count)\n",
    "#             count = 1\n",
    "#             curr_char = char\n",
    "            \n",
    "#         index += 1    \n",
    "#         if index == len(string) - 1:\n",
    "#             result += curr_char + str(count+1)\n",
    "        \n",
    "#     result = result[1:]\n",
    "#     print(f\"Compressed: {result}, length: {len(result)}\")\n",
    "#     print(f\"Org string length:{len(string)}\")\n",
    "    \n",
    "#     if len(result) >= len(string):\n",
    "#         return string\n",
    "#     else:\n",
    "        \n",
    "#         return result\n",
    "\n",
    "# Book Solustion ----------------------------------------------------------------------------------------\n",
    "\n",
    "# def compress_string(string):\n",
    "#     compressed = []\n",
    "#     counter = 0\n",
    "\n",
    "#     for i in range(len(string)):\n",
    "#         if i != 0 and string[i] != string[i - 1]:\n",
    "#             compressed.append(string[i - 1] + str(counter))\n",
    "#             counter = 0\n",
    "#         counter += 1\n",
    "\n",
    "#     # add last repeated character\n",
    "#     if counter:\n",
    "#         compressed.append(string[-1] + str(counter))\n",
    "\n",
    "#     # returns original string if compressed string isn't smaller\n",
    "#     return min(string, \"\".join(compressed), key=len)"
   ]
  },
  {
   "cell_type": "code",
   "execution_count": 69,
   "id": "84c0bcf9",
   "metadata": {},
   "outputs": [
    {
     "name": "stdout",
     "output_type": "stream",
     "text": [
      "Compressed: a2b1c5a3, length: 8\n",
      "Org string length: 11\n"
     ]
    },
    {
     "data": {
      "text/plain": [
       "'a2b1c5a3'"
      ]
     },
     "execution_count": 69,
     "metadata": {},
     "output_type": "execute_result"
    }
   ],
   "source": [
    "str_comp(\"aabcccccaaa\")"
   ]
  },
  {
   "cell_type": "code",
   "execution_count": null,
   "id": "8cd5125f",
   "metadata": {},
   "outputs": [],
   "source": []
  },
  {
   "cell_type": "code",
   "execution_count": null,
   "id": "5fa9f6fa",
   "metadata": {},
   "outputs": [],
   "source": []
  }
 ],
 "metadata": {
  "kernelspec": {
   "display_name": "Python 3 (ipykernel)",
   "language": "python",
   "name": "python3"
  },
  "language_info": {
   "codemirror_mode": {
    "name": "ipython",
    "version": 3
   },
   "file_extension": ".py",
   "mimetype": "text/x-python",
   "name": "python",
   "nbconvert_exporter": "python",
   "pygments_lexer": "ipython3",
   "version": "3.11.5"
  }
 },
 "nbformat": 4,
 "nbformat_minor": 5
}
