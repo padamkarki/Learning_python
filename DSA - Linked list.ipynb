{
 "cells": [
  {
   "cell_type": "code",
   "execution_count": 3,
   "id": "441a558a",
   "metadata": {},
   "outputs": [],
   "source": [
    "class Node:                               # nodes are like nuke nodes and list is like afte reffects\n",
    "    def __init__(self, data):             # every node is stored in different memory randomly\n",
    "        self.data = data                  # list or array is stored in one big space memory\n",
    "        self.next = None                  # none is in caps in python"
   ]
  },
  {
   "cell_type": "code",
   "execution_count": 4,
   "id": "e47a9292",
   "metadata": {},
   "outputs": [],
   "source": [
    "# Creating nodes\n",
    "\n",
    "node1 = Node(10)     #suppose its store in 1000 memory (random)\n",
    "node2 = Node(20)     #suppose its store in 2000 memory (random)\n",
    "node3 = Node(30)     #suppose its store in 3000 memory (random)\n",
    "node4 = Node(40)     #suppose its store in 4000 memory (random)\n"
   ]
  },
  {
   "cell_type": "code",
   "execution_count": 5,
   "id": "5483e394",
   "metadata": {},
   "outputs": [],
   "source": [
    "# Connecting nodes to form a linked list\n",
    "\n",
    "node1.next = node2     # now this node2 is address(2000) not the data\n",
    "node2.next = node3     # now this node3 is address(3000) not the data\n",
    "node3.next = node4     # now this node4 is address(4000) not the data\n"
   ]
  },
  {
   "cell_type": "code",
   "execution_count": 10,
   "id": "32bae671",
   "metadata": {},
   "outputs": [
    {
     "name": "stdout",
     "output_type": "stream",
     "text": [
      "10 -> 20 -> 30 -> 40 -> None\n"
     ]
    }
   ],
   "source": [
    "# Printing linked list\n",
    "\n",
    "current = node1                             # node1 address 1000\n",
    "\n",
    "while current is not None:                  # none will occur on node4.next\n",
    "    print(current.data, end = \" -> \")\n",
    "    current = current.next\n",
    "print(\"None\")"
   ]
  },
  {
   "cell_type": "code",
   "execution_count": null,
   "id": "0f273151",
   "metadata": {},
   "outputs": [],
   "source": []
  }
 ],
 "metadata": {
  "kernelspec": {
   "display_name": "Python 3 (ipykernel)",
   "language": "python",
   "name": "python3"
  },
  "language_info": {
   "codemirror_mode": {
    "name": "ipython",
    "version": 3
   },
   "file_extension": ".py",
   "mimetype": "text/x-python",
   "name": "python",
   "nbconvert_exporter": "python",
   "pygments_lexer": "ipython3",
   "version": "3.11.5"
  }
 },
 "nbformat": 4,
 "nbformat_minor": 5
}
