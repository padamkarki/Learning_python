{
 "cells": [
  {
   "cell_type": "code",
   "execution_count": 2,
   "id": "04b4b0fb",
   "metadata": {},
   "outputs": [],
   "source": [
    "import requests\n",
    "import bs4"
   ]
  },
  {
   "cell_type": "code",
   "execution_count": 3,
   "id": "7782eb93",
   "metadata": {},
   "outputs": [],
   "source": [
    "res = requests.get(\"https://en.wikipedia.org/wiki/Tom_Cruise\")"
   ]
  },
  {
   "cell_type": "code",
   "execution_count": 4,
   "id": "db9ffa63",
   "metadata": {},
   "outputs": [],
   "source": [
    "soup = bs4.BeautifulSoup(res.text, \"lxml\")"
   ]
  },
  {
   "cell_type": "code",
   "execution_count": null,
   "id": "b95a828f",
   "metadata": {},
   "outputs": [],
   "source": []
  },
  {
   "cell_type": "code",
   "execution_count": 5,
   "id": "b1f25ae9",
   "metadata": {},
   "outputs": [
    {
     "data": {
      "text/plain": [
       "<span class=\"mw-default-size\" typeof=\"mw:File/Frameless\"><a class=\"mw-file-description\" href=\"/wiki/File:Tom_Cruise_by_Gage_Skidmore_2.jpg\"><img class=\"mw-file-element\" data-file-height=\"2220\" data-file-width=\"1762\" decoding=\"async\" height=\"277\" src=\"//upload.wikimedia.org/wikipedia/commons/thumb/3/33/Tom_Cruise_by_Gage_Skidmore_2.jpg/220px-Tom_Cruise_by_Gage_Skidmore_2.jpg\" srcset=\"//upload.wikimedia.org/wikipedia/commons/thumb/3/33/Tom_Cruise_by_Gage_Skidmore_2.jpg/330px-Tom_Cruise_by_Gage_Skidmore_2.jpg 1.5x, //upload.wikimedia.org/wikipedia/commons/thumb/3/33/Tom_Cruise_by_Gage_Skidmore_2.jpg/440px-Tom_Cruise_by_Gage_Skidmore_2.jpg 2x\" width=\"220\"/></a></span>"
      ]
     },
     "execution_count": 5,
     "metadata": {},
     "output_type": "execute_result"
    }
   ],
   "source": [
    "soup.select(\".mw-default-size\")[0]"
   ]
  },
  {
   "cell_type": "code",
   "execution_count": 6,
   "id": "0c63a593",
   "metadata": {},
   "outputs": [],
   "source": [
    "person = soup.select(\".mw-file-element\")"
   ]
  },
  {
   "cell_type": "code",
   "execution_count": 7,
   "id": "2da46484",
   "metadata": {},
   "outputs": [
    {
     "data": {
      "text/plain": [
       "[<img alt=\"Page semi-protected\" class=\"mw-file-element\" data-file-height=\"512\" data-file-width=\"512\" decoding=\"async\" height=\"20\" src=\"//upload.wikimedia.org/wikipedia/en/thumb/1/1b/Semi-protection-shackle.svg/20px-Semi-protection-shackle.svg.png\" srcset=\"//upload.wikimedia.org/wikipedia/en/thumb/1/1b/Semi-protection-shackle.svg/30px-Semi-protection-shackle.svg.png 1.5x, //upload.wikimedia.org/wikipedia/en/thumb/1/1b/Semi-protection-shackle.svg/40px-Semi-protection-shackle.svg.png 2x\" width=\"20\"/>,\n",
       " <img class=\"mw-file-element\" data-file-height=\"2220\" data-file-width=\"1762\" decoding=\"async\" height=\"277\" src=\"//upload.wikimedia.org/wikipedia/commons/thumb/3/33/Tom_Cruise_by_Gage_Skidmore_2.jpg/220px-Tom_Cruise_by_Gage_Skidmore_2.jpg\" srcset=\"//upload.wikimedia.org/wikipedia/commons/thumb/3/33/Tom_Cruise_by_Gage_Skidmore_2.jpg/330px-Tom_Cruise_by_Gage_Skidmore_2.jpg 1.5x, //upload.wikimedia.org/wikipedia/commons/thumb/3/33/Tom_Cruise_by_Gage_Skidmore_2.jpg/440px-Tom_Cruise_by_Gage_Skidmore_2.jpg 2x\" width=\"220\"/>,\n",
       " <img class=\"mw-file-element\" data-file-height=\"173\" data-file-width=\"512\" decoding=\"async\" height=\"51\" src=\"//upload.wikimedia.org/wikipedia/commons/thumb/b/b2/Tom_Cruise_signature.svg/150px-Tom_Cruise_signature.svg.png\" srcset=\"//upload.wikimedia.org/wikipedia/commons/thumb/b/b2/Tom_Cruise_signature.svg/225px-Tom_Cruise_signature.svg.png 1.5x, //upload.wikimedia.org/wikipedia/commons/thumb/b/b2/Tom_Cruise_signature.svg/300px-Tom_Cruise_signature.svg.png 2x\" width=\"150\"/>,\n",
       " <img class=\"mw-file-element\" data-file-height=\"494\" data-file-width=\"352\" decoding=\"async\" height=\"239\" src=\"//upload.wikimedia.org/wikipedia/commons/thumb/d/db/1985_Tom_Cruise.jpg/170px-1985_Tom_Cruise.jpg\" srcset=\"//upload.wikimedia.org/wikipedia/commons/thumb/d/db/1985_Tom_Cruise.jpg/255px-1985_Tom_Cruise.jpg 1.5x, //upload.wikimedia.org/wikipedia/commons/thumb/d/db/1985_Tom_Cruise.jpg/340px-1985_Tom_Cruise.jpg 2x\" width=\"170\"/>,\n",
       " <img class=\"mw-file-element\" data-file-height=\"852\" data-file-width=\"582\" decoding=\"async\" height=\"249\" src=\"//upload.wikimedia.org/wikipedia/commons/thumb/a/a5/Tom_cruise_1989.jpg/170px-Tom_cruise_1989.jpg\" srcset=\"//upload.wikimedia.org/wikipedia/commons/thumb/a/a5/Tom_cruise_1989.jpg/255px-Tom_cruise_1989.jpg 1.5x, //upload.wikimedia.org/wikipedia/commons/thumb/a/a5/Tom_cruise_1989.jpg/340px-Tom_cruise_1989.jpg 2x\" width=\"170\"/>,\n",
       " <img class=\"mw-file-element\" data-file-height=\"1000\" data-file-width=\"732\" decoding=\"async\" height=\"232\" src=\"//upload.wikimedia.org/wikipedia/commons/thumb/f/fa/TomCruiseOct07.jpg/170px-TomCruiseOct07.jpg\" srcset=\"//upload.wikimedia.org/wikipedia/commons/thumb/f/fa/TomCruiseOct07.jpg/255px-TomCruiseOct07.jpg 1.5x, //upload.wikimedia.org/wikipedia/commons/thumb/f/fa/TomCruiseOct07.jpg/340px-TomCruiseOct07.jpg 2x\" width=\"170\"/>,\n",
       " <img class=\"mw-file-element\" data-file-height=\"2895\" data-file-width=\"2436\" decoding=\"async\" height=\"202\" src=\"//upload.wikimedia.org/wikipedia/commons/thumb/2/24/Tom_Cruise_by_Gage_Skidmore.jpg/170px-Tom_Cruise_by_Gage_Skidmore.jpg\" srcset=\"//upload.wikimedia.org/wikipedia/commons/thumb/2/24/Tom_Cruise_by_Gage_Skidmore.jpg/255px-Tom_Cruise_by_Gage_Skidmore.jpg 1.5x, //upload.wikimedia.org/wikipedia/commons/thumb/2/24/Tom_Cruise_by_Gage_Skidmore.jpg/340px-Tom_Cruise_by_Gage_Skidmore.jpg 2x\" width=\"170\"/>,\n",
       " <img class=\"mw-file-element\" data-file-height=\"2765\" data-file-width=\"1843\" decoding=\"async\" height=\"255\" src=\"//upload.wikimedia.org/wikipedia/commons/thumb/c/c8/Jack_Reacher-_Never_Go_Back_Japan_Premiere_Red_Carpet-_Tom_Cruise_%2835338493152%29_%28cropped%29.jpg/170px-Jack_Reacher-_Never_Go_Back_Japan_Premiere_Red_Carpet-_Tom_Cruise_%2835338493152%29_%28cropped%29.jpg\" srcset=\"//upload.wikimedia.org/wikipedia/commons/thumb/c/c8/Jack_Reacher-_Never_Go_Back_Japan_Premiere_Red_Carpet-_Tom_Cruise_%2835338493152%29_%28cropped%29.jpg/255px-Jack_Reacher-_Never_Go_Back_Japan_Premiere_Red_Carpet-_Tom_Cruise_%2835338493152%29_%28cropped%29.jpg 1.5x, //upload.wikimedia.org/wikipedia/commons/thumb/c/c8/Jack_Reacher-_Never_Go_Back_Japan_Premiere_Red_Carpet-_Tom_Cruise_%2835338493152%29_%28cropped%29.jpg/340px-Jack_Reacher-_Never_Go_Back_Japan_Premiere_Red_Carpet-_Tom_Cruise_%2835338493152%29_%28cropped%29.jpg 2x\" width=\"170\"/>,\n",
       " <img class=\"mw-file-element\" data-file-height=\"939\" data-file-width=\"1458\" decoding=\"async\" height=\"142\" src=\"//upload.wikimedia.org/wikipedia/commons/thumb/2/25/Tom_Cruise_and_Mimi_Rogers.jpg/220px-Tom_Cruise_and_Mimi_Rogers.jpg\" srcset=\"//upload.wikimedia.org/wikipedia/commons/thumb/2/25/Tom_Cruise_and_Mimi_Rogers.jpg/330px-Tom_Cruise_and_Mimi_Rogers.jpg 1.5x, //upload.wikimedia.org/wikipedia/commons/thumb/2/25/Tom_Cruise_and_Mimi_Rogers.jpg/440px-Tom_Cruise_and_Mimi_Rogers.jpg 2x\" width=\"220\"/>,\n",
       " <img class=\"mw-file-element\" data-file-height=\"1612\" data-file-width=\"1124\" decoding=\"async\" height=\"244\" src=\"//upload.wikimedia.org/wikipedia/commons/thumb/2/24/Tom_Cruise_%26_Katie_Holmes_WHCAD.jpg/170px-Tom_Cruise_%26_Katie_Holmes_WHCAD.jpg\" srcset=\"//upload.wikimedia.org/wikipedia/commons/thumb/2/24/Tom_Cruise_%26_Katie_Holmes_WHCAD.jpg/255px-Tom_Cruise_%26_Katie_Holmes_WHCAD.jpg 1.5x, //upload.wikimedia.org/wikipedia/commons/thumb/2/24/Tom_Cruise_%26_Katie_Holmes_WHCAD.jpg/340px-Tom_Cruise_%26_Katie_Holmes_WHCAD.jpg 2x\" width=\"170\"/>,\n",
       " <img class=\"mw-file-element\" data-file-height=\"50\" data-file-width=\"45\" decoding=\"async\" height=\"27\" src=\"//upload.wikimedia.org/wikipedia/commons/thumb/5/52/Acap.svg/24px-Acap.svg.png\" srcset=\"//upload.wikimedia.org/wikipedia/commons/thumb/5/52/Acap.svg/36px-Acap.svg.png 1.5x, //upload.wikimedia.org/wikipedia/commons/thumb/5/52/Acap.svg/48px-Acap.svg.png 2x\" width=\"24\"/>,\n",
       " <img class=\"mw-file-element\" data-file-height=\"2932\" data-file-width=\"3195\" decoding=\"async\" height=\"156\" src=\"//upload.wikimedia.org/wikipedia/commons/thumb/5/58/TomCruiseHWoFOct10.jpg/170px-TomCruiseHWoFOct10.jpg\" srcset=\"//upload.wikimedia.org/wikipedia/commons/thumb/5/58/TomCruiseHWoFOct10.jpg/255px-TomCruiseHWoFOct10.jpg 1.5x, //upload.wikimedia.org/wikipedia/commons/thumb/5/58/TomCruiseHWoFOct10.jpg/340px-TomCruiseHWoFOct10.jpg 2x\" width=\"170\"/>,\n",
       " <img class=\"mw-file-element\" data-file-height=\"1200\" data-file-width=\"1600\" decoding=\"async\" height=\"128\" src=\"//upload.wikimedia.org/wikipedia/commons/thumb/a/a1/Plaque_with_Tom_Cruise%27s_handprints_in_Leicester_Sq_London.jpg/170px-Plaque_with_Tom_Cruise%27s_handprints_in_Leicester_Sq_London.jpg\" srcset=\"//upload.wikimedia.org/wikipedia/commons/thumb/a/a1/Plaque_with_Tom_Cruise%27s_handprints_in_Leicester_Sq_London.jpg/255px-Plaque_with_Tom_Cruise%27s_handprints_in_Leicester_Sq_London.jpg 1.5x, //upload.wikimedia.org/wikipedia/commons/thumb/a/a1/Plaque_with_Tom_Cruise%27s_handprints_in_Leicester_Sq_London.jpg/340px-Plaque_with_Tom_Cruise%27s_handprints_in_Leicester_Sq_London.jpg 2x\" width=\"170\"/>,\n",
       " <img alt=\"\" class=\"mw-file-element\" data-file-height=\"1376\" data-file-width=\"1024\" decoding=\"async\" height=\"27\" src=\"//upload.wikimedia.org/wikipedia/en/thumb/4/4a/Commons-logo.svg/20px-Commons-logo.svg.png\" srcset=\"//upload.wikimedia.org/wikipedia/en/thumb/4/4a/Commons-logo.svg/30px-Commons-logo.svg.png 1.5x, //upload.wikimedia.org/wikipedia/en/thumb/4/4a/Commons-logo.svg/40px-Commons-logo.svg.png 2x\" width=\"20\"/>,\n",
       " <img alt=\"\" class=\"mw-file-element\" data-file-height=\"415\" data-file-width=\"759\" decoding=\"async\" height=\"15\" src=\"//upload.wikimedia.org/wikipedia/commons/thumb/2/24/Wikinews-logo.svg/27px-Wikinews-logo.svg.png\" srcset=\"//upload.wikimedia.org/wikipedia/commons/thumb/2/24/Wikinews-logo.svg/41px-Wikinews-logo.svg.png 1.5x, //upload.wikimedia.org/wikipedia/commons/thumb/2/24/Wikinews-logo.svg/54px-Wikinews-logo.svg.png 2x\" width=\"27\"/>,\n",
       " <img alt=\"\" class=\"mw-file-element\" data-file-height=\"355\" data-file-width=\"300\" decoding=\"async\" height=\"27\" src=\"//upload.wikimedia.org/wikipedia/commons/thumb/f/fa/Wikiquote-logo.svg/23px-Wikiquote-logo.svg.png\" srcset=\"//upload.wikimedia.org/wikipedia/commons/thumb/f/fa/Wikiquote-logo.svg/35px-Wikiquote-logo.svg.png 1.5x, //upload.wikimedia.org/wikipedia/commons/thumb/f/fa/Wikiquote-logo.svg/46px-Wikiquote-logo.svg.png 2x\" width=\"23\"/>,\n",
       " <img alt=\"\" class=\"mw-file-element\" data-file-height=\"590\" data-file-width=\"1050\" decoding=\"async\" height=\"15\" src=\"//upload.wikimedia.org/wikipedia/commons/thumb/f/ff/Wikidata-logo.svg/27px-Wikidata-logo.svg.png\" srcset=\"//upload.wikimedia.org/wikipedia/commons/thumb/f/ff/Wikidata-logo.svg/41px-Wikidata-logo.svg.png 1.5x, //upload.wikimedia.org/wikipedia/commons/thumb/f/ff/Wikidata-logo.svg/54px-Wikidata-logo.svg.png 2x\" width=\"27\"/>,\n",
       " <img alt=\"Edit this at Wikidata\" class=\"mw-file-element\" data-file-height=\"20\" data-file-width=\"20\" decoding=\"async\" height=\"10\" src=\"//upload.wikimedia.org/wikipedia/en/thumb/8/8a/OOjs_UI_icon_edit-ltr-progressive.svg/10px-OOjs_UI_icon_edit-ltr-progressive.svg.png\" srcset=\"//upload.wikimedia.org/wikipedia/en/thumb/8/8a/OOjs_UI_icon_edit-ltr-progressive.svg/15px-OOjs_UI_icon_edit-ltr-progressive.svg.png 1.5x, //upload.wikimedia.org/wikipedia/en/thumb/8/8a/OOjs_UI_icon_edit-ltr-progressive.svg/20px-OOjs_UI_icon_edit-ltr-progressive.svg.png 2x\" width=\"10\"/>,\n",
       " <img alt=\"\" class=\"mw-file-element\" data-file-height=\"185\" data-file-width=\"180\" decoding=\"async\" height=\"16\" src=\"//upload.wikimedia.org/wikipedia/en/thumb/9/96/Symbol_category_class.svg/16px-Symbol_category_class.svg.png\" srcset=\"//upload.wikimedia.org/wikipedia/en/thumb/9/96/Symbol_category_class.svg/23px-Symbol_category_class.svg.png 1.5x, //upload.wikimedia.org/wikipedia/en/thumb/9/96/Symbol_category_class.svg/31px-Symbol_category_class.svg.png 2x\" width=\"16\"/>,\n",
       " <img alt=\"\" class=\"mw-file-element\" data-file-height=\"1944\" data-file-width=\"1911\" decoding=\"async\" height=\"19\" src=\"//upload.wikimedia.org/wikipedia/en/thumb/6/69/P_vip.svg/19px-P_vip.svg.png\" srcset=\"//upload.wikimedia.org/wikipedia/en/thumb/6/69/P_vip.svg/28px-P_vip.svg.png 1.5x, //upload.wikimedia.org/wikipedia/en/thumb/6/69/P_vip.svg/37px-P_vip.svg.png 2x\" width=\"19\"/>,\n",
       " <img alt=\"flag\" class=\"mw-file-element\" data-file-height=\"650\" data-file-width=\"1235\" decoding=\"async\" height=\"11\" src=\"//upload.wikimedia.org/wikipedia/en/thumb/a/a4/Flag_of_the_United_States.svg/21px-Flag_of_the_United_States.svg.png\" srcset=\"//upload.wikimedia.org/wikipedia/en/thumb/a/a4/Flag_of_the_United_States.svg/32px-Flag_of_the_United_States.svg.png 1.5x, //upload.wikimedia.org/wikipedia/en/thumb/a/a4/Flag_of_the_United_States.svg/42px-Flag_of_the_United_States.svg.png 2x\" width=\"21\"/>,\n",
       " <img alt=\"\" class=\"mw-file-element\" data-file-height=\"48\" data-file-width=\"48\" decoding=\"async\" height=\"19\" src=\"//upload.wikimedia.org/wikipedia/en/thumb/e/e7/Video-x-generic.svg/19px-Video-x-generic.svg.png\" srcset=\"//upload.wikimedia.org/wikipedia/en/thumb/e/e7/Video-x-generic.svg/29px-Video-x-generic.svg.png 1.5x, //upload.wikimedia.org/wikipedia/en/thumb/e/e7/Video-x-generic.svg/38px-Video-x-generic.svg.png 2x\" width=\"19\"/>,\n",
       " <img alt=\"photo\" class=\"mw-file-element\" data-file-height=\"1880\" data-file-width=\"2816\" decoding=\"async\" height=\"14\" src=\"//upload.wikimedia.org/wikipedia/commons/thumb/5/57/LA_Skyline_Mountains2.jpg/21px-LA_Skyline_Mountains2.jpg\" srcset=\"//upload.wikimedia.org/wikipedia/commons/thumb/5/57/LA_Skyline_Mountains2.jpg/32px-LA_Skyline_Mountains2.jpg 1.5x, //upload.wikimedia.org/wikipedia/commons/thumb/5/57/LA_Skyline_Mountains2.jpg/42px-LA_Skyline_Mountains2.jpg 2x\" width=\"21\"/>,\n",
       " <img alt=\"flag\" class=\"mw-file-element\" data-file-height=\"600\" data-file-width=\"900\" decoding=\"async\" height=\"14\" src=\"//upload.wikimedia.org/wikipedia/commons/thumb/0/01/Flag_of_California.svg/21px-Flag_of_California.svg.png\" srcset=\"//upload.wikimedia.org/wikipedia/commons/thumb/0/01/Flag_of_California.svg/32px-Flag_of_California.svg.png 1.5x, //upload.wikimedia.org/wikipedia/commons/thumb/0/01/Flag_of_California.svg/42px-Flag_of_California.svg.png 2x\" width=\"21\"/>,\n",
       " <img alt=\"flag\" class=\"mw-file-element\" data-file-height=\"450\" data-file-width=\"900\" decoding=\"async\" height=\"11\" src=\"//upload.wikimedia.org/wikipedia/commons/thumb/1/1a/Flag_of_New_York.svg/21px-Flag_of_New_York.svg.png\" srcset=\"//upload.wikimedia.org/wikipedia/commons/thumb/1/1a/Flag_of_New_York.svg/32px-Flag_of_New_York.svg.png 1.5x, //upload.wikimedia.org/wikipedia/commons/thumb/1/1a/Flag_of_New_York.svg/42px-Flag_of_New_York.svg.png 2x\" width=\"21\"/>,\n",
       " <img alt=\"flag\" class=\"mw-file-element\" data-file-height=\"450\" data-file-width=\"900\" decoding=\"async\" height=\"11\" src=\"//upload.wikimedia.org/wikipedia/commons/thumb/1/1a/Flag_of_New_York.svg/21px-Flag_of_New_York.svg.png\" srcset=\"//upload.wikimedia.org/wikipedia/commons/thumb/1/1a/Flag_of_New_York.svg/32px-Flag_of_New_York.svg.png 1.5x, //upload.wikimedia.org/wikipedia/commons/thumb/1/1a/Flag_of_New_York.svg/42px-Flag_of_New_York.svg.png 2x\" width=\"21\"/>,\n",
       " <img alt=\"Edit this at Wikidata\" class=\"mw-file-element\" data-file-height=\"20\" data-file-width=\"20\" decoding=\"async\" height=\"10\" src=\"//upload.wikimedia.org/wikipedia/en/thumb/8/8a/OOjs_UI_icon_edit-ltr-progressive.svg/10px-OOjs_UI_icon_edit-ltr-progressive.svg.png\" srcset=\"//upload.wikimedia.org/wikipedia/en/thumb/8/8a/OOjs_UI_icon_edit-ltr-progressive.svg/15px-OOjs_UI_icon_edit-ltr-progressive.svg.png 1.5x, //upload.wikimedia.org/wikipedia/en/thumb/8/8a/OOjs_UI_icon_edit-ltr-progressive.svg/20px-OOjs_UI_icon_edit-ltr-progressive.svg.png 2x\" width=\"10\"/>]"
      ]
     },
     "execution_count": 7,
     "metadata": {},
     "output_type": "execute_result"
    }
   ],
   "source": [
    "person"
   ]
  },
  {
   "cell_type": "code",
   "execution_count": 10,
   "id": "bbd9853b",
   "metadata": {},
   "outputs": [],
   "source": [
    "tom = soup.select(\".mw-file-element\")[1]"
   ]
  },
  {
   "cell_type": "code",
   "execution_count": 15,
   "id": "1a65144a",
   "metadata": {},
   "outputs": [
    {
     "data": {
      "text/plain": [
       "'//upload.wikimedia.org/wikipedia/commons/thumb/3/33/Tom_Cruise_by_Gage_Skidmore_2.jpg/220px-Tom_Cruise_by_Gage_Skidmore_2.jpg'"
      ]
     },
     "execution_count": 15,
     "metadata": {},
     "output_type": "execute_result"
    }
   ],
   "source": [
    "tom[\"src\"]"
   ]
  },
  {
   "cell_type": "markdown",
   "id": "35f6984a",
   "metadata": {},
   "source": [
    "<img \n",
    "     src = \"//upload.wikimedia.org/wikipedia/commons/thumb/3/33/Tom_Cruise_by_Gage_Skidmore_2.jpg/220px-Tom_Cruise_by_Gage_Skidmore_2.jpg\">"
   ]
  },
  {
   "cell_type": "code",
   "execution_count": 18,
   "id": "c3cb7632",
   "metadata": {},
   "outputs": [],
   "source": [
    "image_lnk = requests.get(\"https://upload.wikimedia.org/wikipedia/commons/thumb/3/33/Tom_Cruise_by_Gage_Skidmore_2.jpg/220px-Tom_Cruise_by_Gage_Skidmore_2.jpg\")"
   ]
  },
  {
   "cell_type": "code",
   "execution_count": 20,
   "id": "6b61e948",
   "metadata": {},
   "outputs": [],
   "source": [
    "#image_lnk.content"
   ]
  },
  {
   "cell_type": "code",
   "execution_count": 22,
   "id": "7a3b9bd0",
   "metadata": {},
   "outputs": [],
   "source": [
    "f = open(\"tom_cruise.jpg\", \"wb\")"
   ]
  },
  {
   "cell_type": "code",
   "execution_count": 23,
   "id": "f0cb9cb3",
   "metadata": {},
   "outputs": [
    {
     "data": {
      "text/plain": [
       "15016"
      ]
     },
     "execution_count": 23,
     "metadata": {},
     "output_type": "execute_result"
    }
   ],
   "source": [
    "f.write(image_lnk.content)"
   ]
  },
  {
   "cell_type": "code",
   "execution_count": 24,
   "id": "e90fa803",
   "metadata": {},
   "outputs": [],
   "source": [
    "f.close()"
   ]
  },
  {
   "cell_type": "code",
   "execution_count": null,
   "id": "230255d6",
   "metadata": {},
   "outputs": [],
   "source": []
  },
  {
   "cell_type": "code",
   "execution_count": null,
   "id": "9f2e2c96",
   "metadata": {},
   "outputs": [],
   "source": []
  },
  {
   "cell_type": "code",
   "execution_count": 8,
   "id": "b489f9ef",
   "metadata": {},
   "outputs": [
    {
     "data": {
      "text/plain": [
       "bs4.element.ResultSet"
      ]
     },
     "execution_count": 8,
     "metadata": {},
     "output_type": "execute_result"
    }
   ],
   "source": [
    "type(person)"
   ]
  },
  {
   "cell_type": "code",
   "execution_count": null,
   "id": "ead999ed",
   "metadata": {},
   "outputs": [],
   "source": []
  },
  {
   "cell_type": "code",
   "execution_count": 12,
   "id": "d47d6523",
   "metadata": {},
   "outputs": [
    {
     "ename": "TypeError",
     "evalue": "list indices must be integers or slices, not str",
     "output_type": "error",
     "traceback": [
      "\u001b[1;31m---------------------------------------------------------------------------\u001b[0m",
      "\u001b[1;31mTypeError\u001b[0m                                 Traceback (most recent call last)",
      "Cell \u001b[1;32mIn[12], line 1\u001b[0m\n\u001b[1;32m----> 1\u001b[0m person[\u001b[38;5;124m'\u001b[39m\u001b[38;5;124msrc\u001b[39m\u001b[38;5;124m'\u001b[39m]\n",
      "\u001b[1;31mTypeError\u001b[0m: list indices must be integers or slices, not str"
     ]
    }
   ],
   "source": [
    "person['src']"
   ]
  },
  {
   "cell_type": "markdown",
   "id": "62aed1c5",
   "metadata": {},
   "source": [
    "<img src='//upload.wikimedia.org/wikipedia/en/thumb/1/1b/Semi-protection-shackle.svg/20px-Semi-protection-shackle.svg.png'"
   ]
  },
  {
   "cell_type": "code",
   "execution_count": 67,
   "id": "62161505",
   "metadata": {},
   "outputs": [],
   "source": [
    "imagelink = requests.get(\"https://upload.wikimedia.org/wikipedia/commons/thumb/3/33/Tom_Cruise_by_Gage_Skidmore_2.jpg/220px-Tom_Cruise_by_Gage_Skidmore_2.jpg\")"
   ]
  },
  {
   "cell_type": "code",
   "execution_count": 72,
   "id": "0773b8c4",
   "metadata": {},
   "outputs": [],
   "source": [
    "f = open(\"my_image_tom.jpeg\", \"wb\")"
   ]
  },
  {
   "cell_type": "code",
   "execution_count": 73,
   "id": "71c86dc9",
   "metadata": {},
   "outputs": [
    {
     "data": {
      "text/plain": [
       "15016"
      ]
     },
     "execution_count": 73,
     "metadata": {},
     "output_type": "execute_result"
    }
   ],
   "source": [
    "f.write(imagelink.content)"
   ]
  },
  {
   "cell_type": "code",
   "execution_count": 74,
   "id": "65a01458",
   "metadata": {},
   "outputs": [],
   "source": [
    "f.close()"
   ]
  },
  {
   "cell_type": "code",
   "execution_count": null,
   "id": "dca39dc2",
   "metadata": {},
   "outputs": [],
   "source": []
  }
 ],
 "metadata": {
  "kernelspec": {
   "display_name": "Python 3 (ipykernel)",
   "language": "python",
   "name": "python3"
  },
  "language_info": {
   "codemirror_mode": {
    "name": "ipython",
    "version": 3
   },
   "file_extension": ".py",
   "mimetype": "text/x-python",
   "name": "python",
   "nbconvert_exporter": "python",
   "pygments_lexer": "ipython3",
   "version": "3.11.5"
  }
 },
 "nbformat": 4,
 "nbformat_minor": 5
}
