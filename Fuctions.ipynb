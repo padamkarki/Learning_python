{
 "cells": [
  {
   "cell_type": "code",
   "execution_count": 1,
   "id": "340edaed",
   "metadata": {},
   "outputs": [],
   "source": [
    "def say_hello():\n",
    "    print(\"hello\")"
   ]
  },
  {
   "cell_type": "code",
   "execution_count": 2,
   "id": "7ef51ef1",
   "metadata": {},
   "outputs": [
    {
     "name": "stdout",
     "output_type": "stream",
     "text": [
      "hello\n"
     ]
    }
   ],
   "source": [
    "say_hello()"
   ]
  },
  {
   "cell_type": "code",
   "execution_count": 7,
   "id": "32e7e3a0",
   "metadata": {},
   "outputs": [],
   "source": [
    "def say_hello(name = \"karki\"):\n",
    "    print(\"hello \" + name)"
   ]
  },
  {
   "cell_type": "code",
   "execution_count": 8,
   "id": "b34b4d6c",
   "metadata": {},
   "outputs": [
    {
     "name": "stdout",
     "output_type": "stream",
     "text": [
      "hello padam\n"
     ]
    }
   ],
   "source": [
    "say_hello(\"padam\")"
   ]
  },
  {
   "cell_type": "code",
   "execution_count": 9,
   "id": "c87796b8",
   "metadata": {},
   "outputs": [
    {
     "name": "stdout",
     "output_type": "stream",
     "text": [
      "hello karki\n"
     ]
    }
   ],
   "source": [
    "say_hello()"
   ]
  },
  {
   "cell_type": "code",
   "execution_count": 10,
   "id": "31375d72",
   "metadata": {},
   "outputs": [],
   "source": [
    "def add(n1, n2):\n",
    "    return n1 + n2"
   ]
  },
  {
   "cell_type": "code",
   "execution_count": 13,
   "id": "d96d1557",
   "metadata": {},
   "outputs": [],
   "source": [
    "result = add(1,23)"
   ]
  },
  {
   "cell_type": "code",
   "execution_count": 14,
   "id": "52218d8a",
   "metadata": {},
   "outputs": [
    {
     "data": {
      "text/plain": [
       "24"
      ]
     },
     "execution_count": 14,
     "metadata": {},
     "output_type": "execute_result"
    }
   ],
   "source": [
    "result"
   ]
  },
  {
   "cell_type": "markdown",
   "id": "1edb39af",
   "metadata": {},
   "source": [
    "## Defining Functions"
   ]
  },
  {
   "cell_type": "code",
   "execution_count": 17,
   "id": "b6952b56",
   "metadata": {},
   "outputs": [],
   "source": [
    "def even_check(num):\n",
    "    return num % 2 == 0"
   ]
  },
  {
   "cell_type": "code",
   "execution_count": 18,
   "id": "c3911f04",
   "metadata": {},
   "outputs": [
    {
     "data": {
      "text/plain": [
       "False"
      ]
     },
     "execution_count": 18,
     "metadata": {},
     "output_type": "execute_result"
    }
   ],
   "source": [
    "even_check(21)"
   ]
  },
  {
   "cell_type": "code",
   "execution_count": 29,
   "id": "6578f5a6",
   "metadata": {},
   "outputs": [],
   "source": [
    "# return true if \"even\" in a list\n",
    "def even_check_list(list_num):\n",
    "    \n",
    "    for num in list_num:\n",
    "        if num % 2 == 0:\n",
    "            return True\n",
    "        else:\n",
    "            pass\n",
    "        \n",
    "    return False"
   ]
  },
  {
   "cell_type": "code",
   "execution_count": 30,
   "id": "b0a83b3a",
   "metadata": {},
   "outputs": [
    {
     "data": {
      "text/plain": [
       "True"
      ]
     },
     "execution_count": 30,
     "metadata": {},
     "output_type": "execute_result"
    }
   ],
   "source": [
    "even_check_list([24,26,25,28])"
   ]
  },
  {
   "cell_type": "code",
   "execution_count": 31,
   "id": "d6c514d7",
   "metadata": {},
   "outputs": [
    {
     "data": {
      "text/plain": [
       "False"
      ]
     },
     "execution_count": 31,
     "metadata": {},
     "output_type": "execute_result"
    }
   ],
   "source": [
    "even_check_list([23,25,25,27])"
   ]
  },
  {
   "cell_type": "code",
   "execution_count": 34,
   "id": "8059195c",
   "metadata": {},
   "outputs": [],
   "source": [
    "# return even numbers\n",
    "def return_even(list_num):\n",
    "    even_no = []\n",
    "    for num in list_num:\n",
    "        if num % 2 == 0:\n",
    "            even_no.append(num)\n",
    "        else:\n",
    "            pass\n",
    "        \n",
    "    return even_no"
   ]
  },
  {
   "cell_type": "code",
   "execution_count": 37,
   "id": "83b4a0f2",
   "metadata": {},
   "outputs": [
    {
     "data": {
      "text/plain": [
       "[6, 4, 8, 12]"
      ]
     },
     "execution_count": 37,
     "metadata": {},
     "output_type": "execute_result"
    }
   ],
   "source": [
    "return_even([1,5,3,6,4,8,12])"
   ]
  },
  {
   "cell_type": "code",
   "execution_count": 38,
   "id": "09ac24e0",
   "metadata": {},
   "outputs": [
    {
     "data": {
      "text/plain": [
       "[]"
      ]
     },
     "execution_count": 38,
     "metadata": {},
     "output_type": "execute_result"
    }
   ],
   "source": [
    "return_even([5,3])"
   ]
  },
  {
   "cell_type": "code",
   "execution_count": 44,
   "id": "23cafac3",
   "metadata": {},
   "outputs": [],
   "source": [
    "work_hours = [(\"Padam\",2000),(\"Vikram\", 300),(\"Ganesh\", 400)]"
   ]
  },
  {
   "cell_type": "code",
   "execution_count": 45,
   "id": "9def8535",
   "metadata": {},
   "outputs": [],
   "source": [
    "def employee_Winner(work_hours):\n",
    "    current_max = 0\n",
    "    employee_name = \"\"\n",
    "    \n",
    "    for employee, hours in work_hours:\n",
    "        if current_max < hours:\n",
    "            current_max = hours\n",
    "            employee_name = employee\n",
    "        else:\n",
    "            pass\n",
    "    return (employee_name, current_max)\n",
    "    "
   ]
  },
  {
   "cell_type": "code",
   "execution_count": 47,
   "id": "ba7eaf7e",
   "metadata": {},
   "outputs": [],
   "source": [
    "result = employee_Winner(work_hours)"
   ]
  },
  {
   "cell_type": "code",
   "execution_count": 48,
   "id": "9536e8d0",
   "metadata": {},
   "outputs": [
    {
     "data": {
      "text/plain": [
       "('Padam', 2000)"
      ]
     },
     "execution_count": 48,
     "metadata": {},
     "output_type": "execute_result"
    }
   ],
   "source": [
    "result"
   ]
  },
  {
   "cell_type": "code",
   "execution_count": 49,
   "id": "a45af436",
   "metadata": {},
   "outputs": [],
   "source": [
    "name, hours = employee_Winner(work_hours)"
   ]
  },
  {
   "cell_type": "code",
   "execution_count": 50,
   "id": "687e13a4",
   "metadata": {},
   "outputs": [
    {
     "data": {
      "text/plain": [
       "'Padam'"
      ]
     },
     "execution_count": 50,
     "metadata": {},
     "output_type": "execute_result"
    }
   ],
   "source": [
    "name"
   ]
  },
  {
   "cell_type": "code",
   "execution_count": 51,
   "id": "dde35e3b",
   "metadata": {},
   "outputs": [
    {
     "data": {
      "text/plain": [
       "2000"
      ]
     },
     "execution_count": 51,
     "metadata": {},
     "output_type": "execute_result"
    }
   ],
   "source": [
    "hours"
   ]
  },
  {
   "cell_type": "markdown",
   "id": "a8deb810",
   "metadata": {},
   "source": [
    "## Shufle game"
   ]
  },
  {
   "cell_type": "code",
   "execution_count": 1,
   "id": "87517aad",
   "metadata": {},
   "outputs": [],
   "source": [
    "example = [1,2,3,4,5,6,7,8,9]"
   ]
  },
  {
   "cell_type": "code",
   "execution_count": 2,
   "id": "d83bd6fb",
   "metadata": {},
   "outputs": [],
   "source": [
    "from random import shuffle"
   ]
  },
  {
   "cell_type": "code",
   "execution_count": 3,
   "id": "e7135393",
   "metadata": {},
   "outputs": [],
   "source": [
    "newresult = shuffle(example)"
   ]
  },
  {
   "cell_type": "code",
   "execution_count": 4,
   "id": "783c379b",
   "metadata": {},
   "outputs": [],
   "source": [
    "newresult"
   ]
  },
  {
   "cell_type": "code",
   "execution_count": 6,
   "id": "592de8f1",
   "metadata": {},
   "outputs": [
    {
     "data": {
      "text/plain": [
       "[9, 5, 4, 7, 3, 2, 6, 1, 8]"
      ]
     },
     "execution_count": 6,
     "metadata": {},
     "output_type": "execute_result"
    }
   ],
   "source": [
    "example       # inplace shuffle, it doesnt return anything"
   ]
  },
  {
   "cell_type": "code",
   "execution_count": 10,
   "id": "6cb00cff",
   "metadata": {},
   "outputs": [],
   "source": [
    "def shuffle_list(mylist):\n",
    "    shuffle(mylist)\n",
    "    return mylist"
   ]
  },
  {
   "cell_type": "code",
   "execution_count": 11,
   "id": "d17450aa",
   "metadata": {},
   "outputs": [],
   "source": [
    "newresult = shuffle_list(example)"
   ]
  },
  {
   "cell_type": "code",
   "execution_count": 12,
   "id": "1706ddd3",
   "metadata": {},
   "outputs": [
    {
     "data": {
      "text/plain": [
       "[7, 5, 2, 1, 6, 4, 8, 3, 9]"
      ]
     },
     "execution_count": 12,
     "metadata": {},
     "output_type": "execute_result"
    }
   ],
   "source": [
    "newresult"
   ]
  },
  {
   "cell_type": "code",
   "execution_count": 24,
   "id": "4a3a2489",
   "metadata": {},
   "outputs": [],
   "source": [
    "mylist = [\" \", \" \", \"O\"]"
   ]
  },
  {
   "cell_type": "code",
   "execution_count": 26,
   "id": "157d6064",
   "metadata": {},
   "outputs": [
    {
     "data": {
      "text/plain": [
       "['O', ' ', ' ']"
      ]
     },
     "execution_count": 26,
     "metadata": {},
     "output_type": "execute_result"
    }
   ],
   "source": [
    "shuffle_list(mylist)"
   ]
  },
  {
   "cell_type": "code",
   "execution_count": 75,
   "id": "d7affa03",
   "metadata": {},
   "outputs": [],
   "source": [
    "def player_guess():\n",
    "    guess= \"\"\n",
    "    while guess not in [\"0\",\"1\",\"2\"]:\n",
    "        guess = input(\"Pick a number between 0 to 2:\")\n",
    "        \n",
    "    return int(guess)"
   ]
  },
  {
   "cell_type": "code",
   "execution_count": 76,
   "id": "b1b73c2b",
   "metadata": {},
   "outputs": [
    {
     "name": "stdout",
     "output_type": "stream",
     "text": [
      "Pick a number between 0 to 2:\n",
      "Pick a number between 0 to 2:\n",
      "Pick a number between 0 to 2:1\n"
     ]
    },
    {
     "data": {
      "text/plain": [
       "1"
      ]
     },
     "execution_count": 76,
     "metadata": {},
     "output_type": "execute_result"
    }
   ],
   "source": [
    "player_guess()"
   ]
  },
  {
   "cell_type": "code",
   "execution_count": 77,
   "id": "8e8e3c09",
   "metadata": {},
   "outputs": [
    {
     "name": "stdout",
     "output_type": "stream",
     "text": [
      "Pick a number between 0 to 2:1\n"
     ]
    }
   ],
   "source": [
    "myindex = player_guess()"
   ]
  },
  {
   "cell_type": "code",
   "execution_count": 78,
   "id": "32736b76",
   "metadata": {},
   "outputs": [
    {
     "data": {
      "text/plain": [
       "1"
      ]
     },
     "execution_count": 78,
     "metadata": {},
     "output_type": "execute_result"
    }
   ],
   "source": [
    "myindex"
   ]
  },
  {
   "cell_type": "code",
   "execution_count": 79,
   "id": "3021bad1",
   "metadata": {},
   "outputs": [],
   "source": [
    "def check_guess(mylist, guess):\n",
    "    if mylist[guess] == \"O\":\n",
    "        print(\"Correct\")\n",
    "    else:\n",
    "        print(\"Wrong Guess!\")\n",
    "        print(mylist)"
   ]
  },
  {
   "cell_type": "code",
   "execution_count": 80,
   "id": "43f758f8",
   "metadata": {},
   "outputs": [
    {
     "name": "stdout",
     "output_type": "stream",
     "text": [
      "Pick a number between 0 to 2:2\n",
      "Wrong Guess!\n",
      "['O', '', '']\n"
     ]
    }
   ],
   "source": [
    "# Initial list\n",
    "mylist = [\"\",\"\",\"O\"]\n",
    "\n",
    "# Shuffle List\n",
    "mixlist = shuffle_list(mylist)\n",
    "\n",
    "# User guess\n",
    "guess = player_guess()\n",
    "\n",
    "# Check Guess\n",
    "check_guess(mixlist,guess)"
   ]
  },
  {
   "cell_type": "code",
   "execution_count": null,
   "id": "253fe61d",
   "metadata": {},
   "outputs": [],
   "source": []
  }
 ],
 "metadata": {
  "kernelspec": {
   "display_name": "Python 3 (ipykernel)",
   "language": "python",
   "name": "python3"
  },
  "language_info": {
   "codemirror_mode": {
    "name": "ipython",
    "version": 3
   },
   "file_extension": ".py",
   "mimetype": "text/x-python",
   "name": "python",
   "nbconvert_exporter": "python",
   "pygments_lexer": "ipython3",
   "version": "3.11.5"
  }
 },
 "nbformat": 4,
 "nbformat_minor": 5
}
