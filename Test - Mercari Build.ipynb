{
 "cells": [
  {
   "cell_type": "markdown",
   "id": "8a4a1e4a",
   "metadata": {},
   "source": [
    "## Sum Them All - for array"
   ]
  },
  {
   "cell_type": "code",
   "execution_count": 15,
   "id": "192ab78c",
   "metadata": {},
   "outputs": [],
   "source": [
    "def arraySum(numbers):\n",
    "    sum = 0\n",
    "    for n in numbers:\n",
    "        sum = sum + n\n",
    "        \n",
    "    return sum"
   ]
  },
  {
   "cell_type": "code",
   "execution_count": 16,
   "id": "8a903ebe",
   "metadata": {},
   "outputs": [],
   "source": [
    "num = [12,13,14,18]"
   ]
  },
  {
   "cell_type": "code",
   "execution_count": 17,
   "id": "36c72a6b",
   "metadata": {},
   "outputs": [
    {
     "data": {
      "text/plain": [
       "57"
      ]
     },
     "execution_count": 17,
     "metadata": {},
     "output_type": "execute_result"
    }
   ],
   "source": [
    "arraySum(num)"
   ]
  },
  {
   "cell_type": "markdown",
   "id": "5c4469c2",
   "metadata": {},
   "source": [
    "## Reverse a list - for array"
   ]
  },
  {
   "cell_type": "code",
   "execution_count": 18,
   "id": "e7c2a9b2",
   "metadata": {},
   "outputs": [],
   "source": [
    "def reverseArray(arr):\n",
    "    reversed = []\n",
    "    count = -1\n",
    "    for char in arr:\n",
    "        reversed.append(arr[count])\n",
    "        count -= 1\n",
    "        \n",
    "    return reversed"
   ]
  },
  {
   "cell_type": "code",
   "execution_count": 19,
   "id": "af0c8b76",
   "metadata": {},
   "outputs": [
    {
     "data": {
      "text/plain": [
       "[18, 14, 13, 12]"
      ]
     },
     "execution_count": 19,
     "metadata": {},
     "output_type": "execute_result"
    }
   ],
   "source": [
    "reverseArray(num)"
   ]
  },
  {
   "cell_type": "markdown",
   "id": "b6a35b02",
   "metadata": {},
   "source": [
    "## 4th Bit - binary to decimal - 4th bit from right"
   ]
  },
  {
   "cell_type": "code",
   "execution_count": 93,
   "id": "5490f715",
   "metadata": {},
   "outputs": [],
   "source": [
    "def fourthBit(number):\n",
    "    \n",
    "    divisible = number\n",
    "    binary = []\n",
    "    while divisible > 0:\n",
    "        binary.append(int(divisible % 2))\n",
    "        divisible = int(divisible / 2)\n",
    "        \n",
    "    print(f\"Binary reversed {binary}\")\n",
    "    binary = binary[::-1]\n",
    "    print(f\"Binary {binary}\")\n",
    "    \n",
    "    if len(binary) >= 4:\n",
    "        return binary[3]\n",
    "    else:\n",
    "        return 0"
   ]
  },
  {
   "cell_type": "code",
   "execution_count": 96,
   "id": "ea979f20",
   "metadata": {},
   "outputs": [
    {
     "name": "stdout",
     "output_type": "stream",
     "text": [
      "Binary reversed [1, 1, 1, 0, 1]\n",
      "Binary [1, 0, 1, 1, 1]\n"
     ]
    },
    {
     "data": {
      "text/plain": [
       "1"
      ]
     },
     "execution_count": 96,
     "metadata": {},
     "output_type": "execute_result"
    }
   ],
   "source": [
    "fourthBit(23)"
   ]
  },
  {
   "cell_type": "markdown",
   "id": "6a4423bb",
   "metadata": {},
   "source": [
    "## Complementing a DNA strand"
   ]
  },
  {
   "cell_type": "code",
   "execution_count": 98,
   "id": "8181ed82",
   "metadata": {},
   "outputs": [],
   "source": [
    "\n",
    "def dnaComplement(s):\n",
    "    reversed = \"\"\n",
    "    result = \"\"\n",
    "    \n",
    "#     reversed = s[::-1]\n",
    "#     print(\"Reversed of \"+ s + \" = \" + reversed)\n",
    "    for char in s:\n",
    "        reversed = char + reversed\n",
    "        \n",
    "    print(reversed)\n",
    "    \n",
    "    for char in reversed:\n",
    "        if char == \"A\":\n",
    "            result += \"T\"\n",
    "        elif char == \"T\":\n",
    "            result += \"A\"\n",
    "        elif char == \"C\":\n",
    "            result += \"G\"\n",
    "        elif char == \"G\":\n",
    "            result += \"C\"\n",
    "        else: \n",
    "            result += char\n",
    "            \n",
    "    return result"
   ]
  },
  {
   "cell_type": "code",
   "execution_count": 99,
   "id": "0a939053",
   "metadata": {},
   "outputs": [
    {
     "name": "stdout",
     "output_type": "stream",
     "text": [
      "GACTG\n"
     ]
    },
    {
     "data": {
      "text/plain": [
       "'CTGAC'"
      ]
     },
     "execution_count": 99,
     "metadata": {},
     "output_type": "execute_result"
    }
   ],
   "source": [
    "dnaComplement(\"GTCAG\")"
   ]
  },
  {
   "cell_type": "markdown",
   "id": "de69ffc6",
   "metadata": {},
   "source": [
    "## Bit Logic - lo, hi, limit - xor of a and b"
   ]
  },
  {
   "cell_type": "code",
   "execution_count": 105,
   "id": "c4033da1",
   "metadata": {},
   "outputs": [],
   "source": [
    "def maxXor(lo, hi ,k):\n",
    "    max = 0\n",
    "    for a in range(lo, hi +1):\n",
    "        for b in range(a +1, hi +1):\n",
    "            curr = a ^ b\n",
    "            print(f\"Current: {curr}\")\n",
    "            if curr > max and curr <= k:\n",
    "                max = curr\n",
    "    return max"
   ]
  },
  {
   "cell_type": "code",
   "execution_count": 106,
   "id": "c0cd6a13",
   "metadata": {},
   "outputs": [
    {
     "name": "stdout",
     "output_type": "stream",
     "text": [
      "Current: 7\n",
      "Current: 6\n",
      "Current: 1\n"
     ]
    },
    {
     "data": {
      "text/plain": [
       "6"
      ]
     },
     "execution_count": 106,
     "metadata": {},
     "output_type": "execute_result"
    }
   ],
   "source": [
    "maxXor(3,5,6)"
   ]
  },
  {
   "cell_type": "code",
   "execution_count": null,
   "id": "3a242b95",
   "metadata": {},
   "outputs": [],
   "source": []
  }
 ],
 "metadata": {
  "kernelspec": {
   "display_name": "Python 3 (ipykernel)",
   "language": "python",
   "name": "python3"
  },
  "language_info": {
   "codemirror_mode": {
    "name": "ipython",
    "version": 3
   },
   "file_extension": ".py",
   "mimetype": "text/x-python",
   "name": "python",
   "nbconvert_exporter": "python",
   "pygments_lexer": "ipython3",
   "version": "3.11.5"
  }
 },
 "nbformat": 4,
 "nbformat_minor": 5
}
