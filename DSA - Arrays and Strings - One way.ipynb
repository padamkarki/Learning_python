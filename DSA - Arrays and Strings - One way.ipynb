{
 "cells": [
  {
   "cell_type": "markdown",
   "id": "51c9fa0a",
   "metadata": {},
   "source": [
    "### One Away: \n",
    "There are three types of edits that can be performed on strings: insert a character,\n",
    "remove a character, or replace a character. Given two strings, write a function to check if they are\n",
    "one edit (or zero edits) away. <br>\n",
    "\n",
    "EXAMPLE <br>\n",
    "pale, pIe -> true <br>\n",
    "pales. pale -> true <br>\n",
    "pale. bale -> true <br>\n",
    "pale. bake -> false"
   ]
  },
  {
   "cell_type": "code",
   "execution_count": 24,
   "id": "7d97fc65",
   "metadata": {},
   "outputs": [],
   "source": [
    "def oneway(str1,str2):\n",
    "    if str1 == str2:\n",
    "        return True\n",
    "    \n",
    "    len_dif = abs(len(str1) - len(str2))\n",
    "    \n",
    "    if len_dif > 1:\n",
    "        print(\"Length difference is more than 1\")\n",
    "        return False\n",
    "    \n",
    "    elif len_dif == 0:\n",
    "        mismatch = 0\n",
    "        for i in range(len(str1)):\n",
    "            if str1[i] != str2[i]:\n",
    "                mismatch += 1\n",
    "        if mismatch > 1:\n",
    "            print(\"More than one mismatch, even if length is same\")\n",
    "            return False\n",
    "        return True\n",
    "    \n",
    "    elif len_dif == 1:\n",
    "        long_str, short_str = (str1, str2) if len(str1) > len(str2) else (str2, str1)\n",
    "        \n",
    "        i = j = mismatch_count = 0\n",
    "        \n",
    "        while i < len(long_str) and j < len(short_str):\n",
    "            if long_str[i] != short_str[j]:\n",
    "                mismatch_count += 1\n",
    "                if mismatch_count > 1:\n",
    "                    print(\"More than one mismatch\")\n",
    "                    return False\n",
    "                i += 1  # Move the pointer of the longer string\n",
    "            else:\n",
    "                i += 1\n",
    "                j += 1\n",
    "\n",
    "        print(\"Only one mismatch, can be replaced\")\n",
    "        return True\n",
    "\n",
    "        \n",
    "        \n",
    "        \n",
    "#         min_length = min(len(str1), len(str2))\n",
    "        \n",
    "#         if len(str1) > len(str2):\n",
    "#             print(\"str1 is more\")\n",
    "#             new_str1 = \"\"\n",
    "#             for i in range(len(str1)):\n",
    "#                 for j in range(len(str2)):\n",
    "#                     if str1[i] == str2[j]:\n",
    "#                         new_str1 += str1[i]\n",
    "#                         print(new_str1)\n",
    "#             if new_str1 == str2:\n",
    "#                 return True\n",
    "#             else:\n",
    "#                 print(\"Only one mismatch, can be replace\")\n",
    "#                 return False\n",
    "            \n",
    "#         elif len(str2) > len(str1):\n",
    "#             print(\"str2 is more\")\n",
    "#             new_str2 = \"\"\n",
    "#             for i in range(len(str2)):\n",
    "#                 for j in range(len(str1)):\n",
    "#                     if str2[i] == str1[j]:\n",
    "#                         new_str2 += str2[i]\n",
    "#                         print(new_str2)\n",
    "#             if new_str2 == str1:\n",
    "#                 print(\"Only one mismatch, can be replace\")\n",
    "#                 return True\n",
    "#             else:\n",
    "#                 return False"
   ]
  },
  {
   "cell_type": "code",
   "execution_count": 29,
   "id": "caa57bc9",
   "metadata": {},
   "outputs": [
    {
     "name": "stdout",
     "output_type": "stream",
     "text": [
      "Only one mismatch, can be replaced\n"
     ]
    },
    {
     "data": {
      "text/plain": [
       "True"
      ]
     },
     "execution_count": 29,
     "metadata": {},
     "output_type": "execute_result"
    }
   ],
   "source": [
    "oneway(\"pales\", \"pale\")"
   ]
  },
  {
   "cell_type": "code",
   "execution_count": null,
   "id": "8dd27670",
   "metadata": {},
   "outputs": [],
   "source": []
  },
  {
   "cell_type": "code",
   "execution_count": null,
   "id": "dc1dc9e1",
   "metadata": {},
   "outputs": [],
   "source": []
  }
 ],
 "metadata": {
  "kernelspec": {
   "display_name": "Python 3 (ipykernel)",
   "language": "python",
   "name": "python3"
  },
  "language_info": {
   "codemirror_mode": {
    "name": "ipython",
    "version": 3
   },
   "file_extension": ".py",
   "mimetype": "text/x-python",
   "name": "python",
   "nbconvert_exporter": "python",
   "pygments_lexer": "ipython3",
   "version": "3.11.5"
  }
 },
 "nbformat": 4,
 "nbformat_minor": 5
}
