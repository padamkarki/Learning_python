{
 "cells": [
  {
   "cell_type": "code",
   "execution_count": 1,
   "id": "02ec382f",
   "metadata": {},
   "outputs": [],
   "source": [
    "mystring = \"hello\"\n",
    "mylist = []\n",
    "for i in mystring:\n",
    "    mylist.append(i)"
   ]
  },
  {
   "cell_type": "code",
   "execution_count": 2,
   "id": "d3c60802",
   "metadata": {},
   "outputs": [
    {
     "data": {
      "text/plain": [
       "['h', 'e', 'l', 'l', 'o']"
      ]
     },
     "execution_count": 2,
     "metadata": {},
     "output_type": "execute_result"
    }
   ],
   "source": [
    "mylist"
   ]
  },
  {
   "cell_type": "markdown",
   "id": "e7410966",
   "metadata": {},
   "source": [
    "## shortcut"
   ]
  },
  {
   "cell_type": "code",
   "execution_count": 3,
   "id": "d60ce3a5",
   "metadata": {},
   "outputs": [],
   "source": [
    "mylist = [i for i in mystring]"
   ]
  },
  {
   "cell_type": "code",
   "execution_count": 4,
   "id": "ebbabcfa",
   "metadata": {},
   "outputs": [
    {
     "data": {
      "text/plain": [
       "['h', 'e', 'l', 'l', 'o']"
      ]
     },
     "execution_count": 4,
     "metadata": {},
     "output_type": "execute_result"
    }
   ],
   "source": [
    "mylist"
   ]
  },
  {
   "cell_type": "markdown",
   "id": "504c989b",
   "metadata": {},
   "source": [
    "## operation on list"
   ]
  },
  {
   "cell_type": "code",
   "execution_count": 8,
   "id": "fc4faea5",
   "metadata": {},
   "outputs": [],
   "source": [
    "mylist2 = [i**2 for i in range(0,11)]"
   ]
  },
  {
   "cell_type": "code",
   "execution_count": 9,
   "id": "0e11b0d6",
   "metadata": {},
   "outputs": [
    {
     "data": {
      "text/plain": [
       "[0, 1, 4, 9, 16, 25, 36, 49, 64, 81, 100]"
      ]
     },
     "execution_count": 9,
     "metadata": {},
     "output_type": "execute_result"
    }
   ],
   "source": [
    "mylist2"
   ]
  },
  {
   "cell_type": "code",
   "execution_count": 12,
   "id": "71a887ec",
   "metadata": {},
   "outputs": [],
   "source": [
    "mylist3 = [i**2 for i in range(0,11) if i%2 == 0]"
   ]
  },
  {
   "cell_type": "code",
   "execution_count": 13,
   "id": "1d348711",
   "metadata": {},
   "outputs": [
    {
     "data": {
      "text/plain": [
       "[0, 4, 16, 36, 64, 100]"
      ]
     },
     "execution_count": 13,
     "metadata": {},
     "output_type": "execute_result"
    }
   ],
   "source": [
    "mylist3"
   ]
  },
  {
   "cell_type": "code",
   "execution_count": 14,
   "id": "96193c4d",
   "metadata": {},
   "outputs": [],
   "source": [
    "celcius = [0,10,20,33,55,45]\n",
    "fahrenheit = [((9/5)*temp +32) for temp in celcius]"
   ]
  },
  {
   "cell_type": "code",
   "execution_count": 15,
   "id": "3a232afd",
   "metadata": {},
   "outputs": [
    {
     "data": {
      "text/plain": [
       "[32.0, 50.0, 68.0, 91.4, 131.0, 113.0]"
      ]
     },
     "execution_count": 15,
     "metadata": {},
     "output_type": "execute_result"
    }
   ],
   "source": [
    "fahrenheit"
   ]
  },
  {
   "cell_type": "code",
   "execution_count": null,
   "id": "9ffc8b6e",
   "metadata": {},
   "outputs": [],
   "source": []
  }
 ],
 "metadata": {
  "kernelspec": {
   "display_name": "Python 3 (ipykernel)",
   "language": "python",
   "name": "python3"
  },
  "language_info": {
   "codemirror_mode": {
    "name": "ipython",
    "version": 3
   },
   "file_extension": ".py",
   "mimetype": "text/x-python",
   "name": "python",
   "nbconvert_exporter": "python",
   "pygments_lexer": "ipython3",
   "version": "3.11.5"
  }
 },
 "nbformat": 4,
 "nbformat_minor": 5
}
