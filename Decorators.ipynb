{
 "cells": [
  {
   "cell_type": "code",
   "execution_count": 12,
   "id": "27b4af1b",
   "metadata": {},
   "outputs": [],
   "source": [
    "def func():\n",
    "    return \"Hello\""
   ]
  },
  {
   "cell_type": "code",
   "execution_count": 13,
   "id": "03d7ac32",
   "metadata": {},
   "outputs": [
    {
     "data": {
      "text/plain": [
       "'Hello'"
      ]
     },
     "execution_count": 13,
     "metadata": {},
     "output_type": "execute_result"
    }
   ],
   "source": [
    "func()"
   ]
  },
  {
   "cell_type": "code",
   "execution_count": 14,
   "id": "0777f034",
   "metadata": {},
   "outputs": [
    {
     "data": {
      "text/plain": [
       "<function __main__.func()>"
      ]
     },
     "execution_count": 14,
     "metadata": {},
     "output_type": "execute_result"
    }
   ],
   "source": [
    "func"
   ]
  },
  {
   "cell_type": "code",
   "execution_count": 15,
   "id": "5b35b8ef",
   "metadata": {},
   "outputs": [],
   "source": [
    "greet = func"
   ]
  },
  {
   "cell_type": "code",
   "execution_count": 16,
   "id": "456688a3",
   "metadata": {},
   "outputs": [
    {
     "data": {
      "text/plain": [
       "'Hello'"
      ]
     },
     "execution_count": 16,
     "metadata": {},
     "output_type": "execute_result"
    }
   ],
   "source": [
    "greet()"
   ]
  },
  {
   "cell_type": "code",
   "execution_count": 17,
   "id": "3d72a83c",
   "metadata": {},
   "outputs": [],
   "source": [
    "del func"
   ]
  },
  {
   "cell_type": "code",
   "execution_count": 18,
   "id": "2bf04973",
   "metadata": {},
   "outputs": [
    {
     "ename": "NameError",
     "evalue": "name 'func' is not defined",
     "output_type": "error",
     "traceback": [
      "\u001b[1;31m---------------------------------------------------------------------------\u001b[0m",
      "\u001b[1;31mNameError\u001b[0m                                 Traceback (most recent call last)",
      "Cell \u001b[1;32mIn[18], line 1\u001b[0m\n\u001b[1;32m----> 1\u001b[0m func()\n",
      "\u001b[1;31mNameError\u001b[0m: name 'func' is not defined"
     ]
    }
   ],
   "source": [
    "func()"
   ]
  },
  {
   "cell_type": "code",
   "execution_count": 19,
   "id": "65665cb8",
   "metadata": {},
   "outputs": [
    {
     "data": {
      "text/plain": [
       "'Hello'"
      ]
     },
     "execution_count": 19,
     "metadata": {},
     "output_type": "execute_result"
    }
   ],
   "source": [
    "greet()"
   ]
  },
  {
   "cell_type": "code",
   "execution_count": null,
   "id": "b6a73756",
   "metadata": {},
   "outputs": [],
   "source": []
  },
  {
   "cell_type": "code",
   "execution_count": null,
   "id": "1d9842da",
   "metadata": {},
   "outputs": [],
   "source": []
  },
  {
   "cell_type": "code",
   "execution_count": null,
   "id": "8e4ccd08",
   "metadata": {},
   "outputs": [],
   "source": []
  },
  {
   "cell_type": "code",
   "execution_count": null,
   "id": "88685c12",
   "metadata": {},
   "outputs": [],
   "source": []
  },
  {
   "cell_type": "code",
   "execution_count": null,
   "id": "d2c91278",
   "metadata": {},
   "outputs": [],
   "source": []
  },
  {
   "cell_type": "code",
   "execution_count": null,
   "id": "41f0de74",
   "metadata": {},
   "outputs": [],
   "source": []
  },
  {
   "cell_type": "code",
   "execution_count": 42,
   "id": "1216683e",
   "metadata": {},
   "outputs": [],
   "source": [
    "def hello(name= \"Padam\"):\n",
    "    print(\"Hello excecuted\")\n",
    "    \n",
    "    def greet():\n",
    "        return \"\\t greet() func inside hello\"\n",
    "    \n",
    "    def welcome():\n",
    "        return \"\\t welcome inside hello\"\n",
    "    \n",
    "    print(\"I am goin to written func\")\n",
    "    \n",
    "    if name == \"Padam\":\n",
    "        return greet\n",
    "    else:\n",
    "        return welcome"
   ]
  },
  {
   "cell_type": "code",
   "execution_count": 43,
   "id": "1de289e4",
   "metadata": {},
   "outputs": [
    {
     "name": "stdout",
     "output_type": "stream",
     "text": [
      "Hello excecuted\n",
      "I am goin to written func\n"
     ]
    }
   ],
   "source": [
    "nf = hello(\"Padam\")"
   ]
  },
  {
   "cell_type": "code",
   "execution_count": 45,
   "id": "8d8c5eeb",
   "metadata": {},
   "outputs": [
    {
     "name": "stdout",
     "output_type": "stream",
     "text": [
      "\t greet() func inside hello\n"
     ]
    }
   ],
   "source": [
    "print(nf())"
   ]
  },
  {
   "cell_type": "code",
   "execution_count": null,
   "id": "89b048a4",
   "metadata": {},
   "outputs": [],
   "source": [
    "\n"
   ]
  },
  {
   "cell_type": "code",
   "execution_count": null,
   "id": "58b3eba7",
   "metadata": {},
   "outputs": [],
   "source": []
  },
  {
   "cell_type": "code",
   "execution_count": 46,
   "id": "d13b31a4",
   "metadata": {},
   "outputs": [],
   "source": [
    "def cool():\n",
    "    \n",
    "    def supercool():\n",
    "        return \"I am supercool\"\n",
    "    \n",
    "    return supercool"
   ]
  },
  {
   "cell_type": "code",
   "execution_count": 47,
   "id": "cd99311a",
   "metadata": {},
   "outputs": [],
   "source": [
    "some_func = cool()\n"
   ]
  },
  {
   "cell_type": "code",
   "execution_count": 48,
   "id": "8a0b8899",
   "metadata": {},
   "outputs": [
    {
     "data": {
      "text/plain": [
       "'I am supercool'"
      ]
     },
     "execution_count": 48,
     "metadata": {},
     "output_type": "execute_result"
    }
   ],
   "source": [
    "some_func()"
   ]
  },
  {
   "cell_type": "code",
   "execution_count": 49,
   "id": "08efa9ef",
   "metadata": {},
   "outputs": [
    {
     "data": {
      "text/plain": [
       "<function __main__.cool.<locals>.supercool()>"
      ]
     },
     "execution_count": 49,
     "metadata": {},
     "output_type": "execute_result"
    }
   ],
   "source": [
    "some_func"
   ]
  },
  {
   "cell_type": "code",
   "execution_count": null,
   "id": "d83e41b0",
   "metadata": {},
   "outputs": [],
   "source": []
  },
  {
   "cell_type": "code",
   "execution_count": null,
   "id": "3f1c5f0b",
   "metadata": {},
   "outputs": [],
   "source": []
  },
  {
   "cell_type": "code",
   "execution_count": null,
   "id": "a9882d43",
   "metadata": {},
   "outputs": [],
   "source": []
  },
  {
   "cell_type": "code",
   "execution_count": 50,
   "id": "e46d9403",
   "metadata": {},
   "outputs": [],
   "source": [
    "def hello():\n",
    "    return \"Hi Padam\""
   ]
  },
  {
   "cell_type": "code",
   "execution_count": 51,
   "id": "7866b278",
   "metadata": {},
   "outputs": [],
   "source": [
    "def other(fn):\n",
    "    \n",
    "    print(\"SOME CODE\")\n",
    "    print(fn())\n",
    "    "
   ]
  },
  {
   "cell_type": "code",
   "execution_count": 52,
   "id": "bcfe3071",
   "metadata": {},
   "outputs": [
    {
     "name": "stdout",
     "output_type": "stream",
     "text": [
      "SOME CODE\n",
      "Hi Padam\n"
     ]
    }
   ],
   "source": [
    "other(hello)"
   ]
  },
  {
   "cell_type": "code",
   "execution_count": null,
   "id": "1d1dd233",
   "metadata": {},
   "outputs": [],
   "source": []
  },
  {
   "cell_type": "code",
   "execution_count": null,
   "id": "1a9b50eb",
   "metadata": {},
   "outputs": [],
   "source": []
  },
  {
   "cell_type": "code",
   "execution_count": null,
   "id": "f3670020",
   "metadata": {},
   "outputs": [],
   "source": []
  },
  {
   "cell_type": "code",
   "execution_count": null,
   "id": "cf06851b",
   "metadata": {},
   "outputs": [],
   "source": []
  },
  {
   "cell_type": "code",
   "execution_count": null,
   "id": "3c8db7a5",
   "metadata": {},
   "outputs": [],
   "source": []
  },
  {
   "cell_type": "markdown",
   "id": "41b7b723",
   "metadata": {},
   "source": [
    "## Decorator creation custom"
   ]
  },
  {
   "cell_type": "code",
   "execution_count": 68,
   "id": "0c89011e",
   "metadata": {},
   "outputs": [],
   "source": [
    "def new_decor(og_fn):\n",
    "    \n",
    "    def wrap_fn():\n",
    "        \n",
    "        print(\"Code need to execute before or something og_fn\")\n",
    "        \n",
    "        og_fn()\n",
    "        \n",
    "        print(\"More code\")\n",
    "        \n",
    "    return wrap_fn"
   ]
  },
  {
   "cell_type": "code",
   "execution_count": 69,
   "id": "5bb959c3",
   "metadata": {},
   "outputs": [],
   "source": [
    "def fn_needs_decor():\n",
    "    print(\"I want to be decortd\")"
   ]
  },
  {
   "cell_type": "code",
   "execution_count": 70,
   "id": "e18fe747",
   "metadata": {},
   "outputs": [
    {
     "name": "stdout",
     "output_type": "stream",
     "text": [
      "I want to be decortd\n"
     ]
    }
   ],
   "source": [
    "fn_needs_decor()"
   ]
  },
  {
   "cell_type": "code",
   "execution_count": 71,
   "id": "dd31e03b",
   "metadata": {},
   "outputs": [],
   "source": [
    "decortd_fn = new_decor(fn_needs_decor)"
   ]
  },
  {
   "cell_type": "code",
   "execution_count": 72,
   "id": "e4dbaeb4",
   "metadata": {},
   "outputs": [
    {
     "name": "stdout",
     "output_type": "stream",
     "text": [
      "Code need to execute before or something og_fn\n",
      "I want to be decortd\n",
      "More code\n"
     ]
    }
   ],
   "source": [
    "decortd_fn()"
   ]
  },
  {
   "cell_type": "code",
   "execution_count": 73,
   "id": "b62fb3c6",
   "metadata": {},
   "outputs": [],
   "source": [
    "@new_decor\n",
    "def fn_needs_decor():\n",
    "    print(\"I want to be decortd\")"
   ]
  },
  {
   "cell_type": "code",
   "execution_count": 74,
   "id": "f03a7a07",
   "metadata": {},
   "outputs": [
    {
     "name": "stdout",
     "output_type": "stream",
     "text": [
      "Code need to execute before or something og_fn\n",
      "I want to be decortd\n",
      "More code\n"
     ]
    }
   ],
   "source": [
    "fn_needs_decor()"
   ]
  },
  {
   "cell_type": "code",
   "execution_count": null,
   "id": "24e3dbe7",
   "metadata": {},
   "outputs": [],
   "source": []
  }
 ],
 "metadata": {
  "kernelspec": {
   "display_name": "Python 3 (ipykernel)",
   "language": "python",
   "name": "python3"
  },
  "language_info": {
   "codemirror_mode": {
    "name": "ipython",
    "version": 3
   },
   "file_extension": ".py",
   "mimetype": "text/x-python",
   "name": "python",
   "nbconvert_exporter": "python",
   "pygments_lexer": "ipython3",
   "version": "3.11.5"
  }
 },
 "nbformat": 4,
 "nbformat_minor": 5
}
