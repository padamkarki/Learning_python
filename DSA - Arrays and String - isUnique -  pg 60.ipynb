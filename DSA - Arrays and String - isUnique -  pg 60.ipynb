{
 "cells": [
  {
   "cell_type": "markdown",
   "id": "ad18a063",
   "metadata": {},
   "source": [
    "### 1.1 Is Unique:\n",
    "Implement an algorithm to determine if a string has all unique characters. What if you\n",
    "cannot use additional data structures?\n",
    "Hints: #44, #117 , #132"
   ]
  },
  {
   "cell_type": "code",
   "execution_count": 3,
   "id": "1ad074f3",
   "metadata": {},
   "outputs": [],
   "source": [
    "s = \"44\"\n",
    "s1 = \"117\"\n",
    "s2 = \"132\""
   ]
  },
  {
   "cell_type": "markdown",
   "id": "0b4141fa",
   "metadata": {},
   "source": [
    "### O(n**2)"
   ]
  },
  {
   "cell_type": "code",
   "execution_count": 42,
   "id": "47921eac",
   "metadata": {},
   "outputs": [],
   "source": [
    "def isunique(s):\n",
    "    if len(s) > 128:\n",
    "        return False\n",
    "    for i in range(len(s)):\n",
    "        for j in range(i+1, len(s)):\n",
    "            if s[i] == s[j]:\n",
    "                return False\n",
    "    return True"
   ]
  },
  {
   "cell_type": "code",
   "execution_count": 43,
   "id": "6a450b39",
   "metadata": {},
   "outputs": [
    {
     "data": {
      "text/plain": [
       "False"
      ]
     },
     "execution_count": 43,
     "metadata": {},
     "output_type": "execute_result"
    }
   ],
   "source": [
    "isunique(s)"
   ]
  },
  {
   "cell_type": "code",
   "execution_count": 44,
   "id": "7c4cf55f",
   "metadata": {},
   "outputs": [
    {
     "data": {
      "text/plain": [
       "False"
      ]
     },
     "execution_count": 44,
     "metadata": {},
     "output_type": "execute_result"
    }
   ],
   "source": [
    "isunique(s1)"
   ]
  },
  {
   "cell_type": "code",
   "execution_count": 45,
   "id": "7a275f5e",
   "metadata": {},
   "outputs": [
    {
     "data": {
      "text/plain": [
       "True"
      ]
     },
     "execution_count": 45,
     "metadata": {},
     "output_type": "execute_result"
    }
   ],
   "source": [
    "isunique(s2)"
   ]
  },
  {
   "cell_type": "markdown",
   "id": "3024c8cf",
   "metadata": {},
   "source": [
    "### O(n) - Using - set()"
   ]
  },
  {
   "cell_type": "code",
   "execution_count": 46,
   "id": "9b5d39e6",
   "metadata": {},
   "outputs": [],
   "source": [
    "def uniques(s):\n",
    "    seen = set()\n",
    "    if len(s) > 128:\n",
    "        return False\n",
    "    for char in s:\n",
    "        if char in seen:\n",
    "            return False\n",
    "        seen.add(char)\n",
    "        \n",
    "    return True"
   ]
  },
  {
   "cell_type": "code",
   "execution_count": 47,
   "id": "9a14abd8",
   "metadata": {},
   "outputs": [
    {
     "data": {
      "text/plain": [
       "False"
      ]
     },
     "execution_count": 47,
     "metadata": {},
     "output_type": "execute_result"
    }
   ],
   "source": [
    "uniques(s)"
   ]
  },
  {
   "cell_type": "code",
   "execution_count": 48,
   "id": "4d28aa9b",
   "metadata": {},
   "outputs": [
    {
     "data": {
      "text/plain": [
       "False"
      ]
     },
     "execution_count": 48,
     "metadata": {},
     "output_type": "execute_result"
    }
   ],
   "source": [
    "uniques(s1)"
   ]
  },
  {
   "cell_type": "code",
   "execution_count": 49,
   "id": "e703a5c2",
   "metadata": {},
   "outputs": [
    {
     "data": {
      "text/plain": [
       "True"
      ]
     },
     "execution_count": 49,
     "metadata": {},
     "output_type": "execute_result"
    }
   ],
   "source": [
    "uniques(s2)"
   ]
  },
  {
   "cell_type": "markdown",
   "id": "c475a225",
   "metadata": {},
   "source": [
    "### O(n) - Using ord()"
   ]
  },
  {
   "cell_type": "code",
   "execution_count": 52,
   "id": "72d26ac8",
   "metadata": {},
   "outputs": [],
   "source": [
    "def isunique_algo(s):\n",
    "    if len(s) > 128:\n",
    "        return False\n",
    "    \n",
    "    char_set = [False]*128          ## array of 128 elements of False   \n",
    "    \n",
    "    for c in s:\n",
    "        val = ord(c)                ## ord() gives value of ascii in int like a = 97\n",
    "        if char_set[val]:\n",
    "            return False\n",
    "        \n",
    "        char_set[val] = True        ## setting value in char_set as True\n",
    "        \n",
    "    return True\n",
    "    "
   ]
  },
  {
   "cell_type": "code",
   "execution_count": 53,
   "id": "68c1ebc1",
   "metadata": {},
   "outputs": [
    {
     "data": {
      "text/plain": [
       "False"
      ]
     },
     "execution_count": 53,
     "metadata": {},
     "output_type": "execute_result"
    }
   ],
   "source": [
    "isunique_algo(s)"
   ]
  },
  {
   "cell_type": "code",
   "execution_count": 54,
   "id": "d5cbaf9c",
   "metadata": {},
   "outputs": [
    {
     "data": {
      "text/plain": [
       "True"
      ]
     },
     "execution_count": 54,
     "metadata": {},
     "output_type": "execute_result"
    }
   ],
   "source": [
    "isunique_algo(s2)"
   ]
  },
  {
   "cell_type": "markdown",
   "id": "0183ec9e",
   "metadata": {},
   "source": [
    "### O(n logn) - sorting method"
   ]
  },
  {
   "cell_type": "code",
   "execution_count": 63,
   "id": "cb0f26f0",
   "metadata": {},
   "outputs": [],
   "source": [
    "def isunique_sort(s):\n",
    "    string = sorted(s)\n",
    "    \n",
    "    for i in range(len(s)-1):\n",
    "        if s[i] == s[i+1]:\n",
    "            return False\n",
    "    return True"
   ]
  },
  {
   "cell_type": "code",
   "execution_count": 64,
   "id": "8b798801",
   "metadata": {},
   "outputs": [
    {
     "data": {
      "text/plain": [
       "False"
      ]
     },
     "execution_count": 64,
     "metadata": {},
     "output_type": "execute_result"
    }
   ],
   "source": [
    "isunique_sort(s)"
   ]
  },
  {
   "cell_type": "code",
   "execution_count": 65,
   "id": "12f45d52",
   "metadata": {},
   "outputs": [
    {
     "data": {
      "text/plain": [
       "False"
      ]
     },
     "execution_count": 65,
     "metadata": {},
     "output_type": "execute_result"
    }
   ],
   "source": [
    "isunique_sort(s1)"
   ]
  },
  {
   "cell_type": "code",
   "execution_count": 66,
   "id": "5e540001",
   "metadata": {},
   "outputs": [
    {
     "data": {
      "text/plain": [
       "True"
      ]
     },
     "execution_count": 66,
     "metadata": {},
     "output_type": "execute_result"
    }
   ],
   "source": [
    "isunique_sort(s2)"
   ]
  },
  {
   "cell_type": "code",
   "execution_count": null,
   "id": "48f214ae",
   "metadata": {},
   "outputs": [],
   "source": []
  }
 ],
 "metadata": {
  "kernelspec": {
   "display_name": "Python 3 (ipykernel)",
   "language": "python",
   "name": "python3"
  },
  "language_info": {
   "codemirror_mode": {
    "name": "ipython",
    "version": 3
   },
   "file_extension": ".py",
   "mimetype": "text/x-python",
   "name": "python",
   "nbconvert_exporter": "python",
   "pygments_lexer": "ipython3",
   "version": "3.11.5"
  }
 },
 "nbformat": 4,
 "nbformat_minor": 5
}
