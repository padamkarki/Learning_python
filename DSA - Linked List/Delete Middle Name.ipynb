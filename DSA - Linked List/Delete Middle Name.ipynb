{
 "cells": [
  {
   "cell_type": "markdown",
   "id": "386bed1d",
   "metadata": {},
   "source": [
    "### Delete Middle Node: \n",
    "Implement an algorithm to delete a node in the middle (i.e., any\n",
    "node but the first and last node, not necessarily the exact middle) <br>\n",
    "of a singly linked list, given only access to that node. <br>\n",
    "<br>\n",
    "EXAMPLE <br>\n",
    "Input: the node c from the linked list a - >b- >c - >d - >e- >f <br>\n",
    "Result: nothing is returned, but the new linked list looks like a - >b- >d - >e- >f <br>"
   ]
  },
  {
   "cell_type": "code",
   "execution_count": 24,
   "id": "da95202e",
   "metadata": {},
   "outputs": [],
   "source": [
    "class Node:\n",
    "    def __init__(self, val):\n",
    "        self.val = val\n",
    "        self.next = None\n",
    "        \n",
    "    def append_to_tail(self, val):\n",
    "        end = Node(val)\n",
    "        n = self\n",
    "        while n.next is not None:\n",
    "            n = n.next\n",
    "        n.next = end\n",
    "        \n",
    "def printf(head):\n",
    "        curr = head\n",
    "        while curr is not None:\n",
    "            print(curr.val, end=\" ---> \")\n",
    "            curr = curr.next\n",
    "        print(\"None\")\n",
    "\n",
    "def del_middle_node(node):             # delete current node\n",
    "    if node is None or node.next is None:\n",
    "        print(\"Cannot delete Last or First node\")\n",
    "        return False\n",
    "    \n",
    "    node.val = node.next.val                  # its only changing 1st element,\n",
    "    node.next = node.next.next                # so when you called list again, it will start with next element only\n",
    "    \n",
    "    return True\n",
    "        \n",
    "    "
   ]
  },
  {
   "cell_type": "code",
   "execution_count": 25,
   "id": "59bdc6dd",
   "metadata": {},
   "outputs": [
    {
     "name": "stdout",
     "output_type": "stream",
     "text": [
      "Org: \n",
      "3 ---> 5 ---> 4 ---> 7 ---> 1 ---> 2 ---> 0 ---> None\n"
     ]
    }
   ],
   "source": [
    "lnkd_lst = Node(3)\n",
    "lnkd_lst.append_to_tail(5)\n",
    "lnkd_lst.append_to_tail(4)\n",
    "lnkd_lst.append_to_tail(7)\n",
    "lnkd_lst.append_to_tail(1)\n",
    "lnkd_lst.append_to_tail(2)\n",
    "lnkd_lst.append_to_tail(0)\n",
    "\n",
    "print(\"Org: \")\n",
    "printf(lnkd_lst)"
   ]
  },
  {
   "cell_type": "code",
   "execution_count": 28,
   "id": "736ad52d",
   "metadata": {},
   "outputs": [
    {
     "data": {
      "text/plain": [
       "True"
      ]
     },
     "execution_count": 28,
     "metadata": {},
     "output_type": "execute_result"
    }
   ],
   "source": [
    "del_middle_node(lnkd_lst)"
   ]
  },
  {
   "cell_type": "code",
   "execution_count": 21,
   "id": "0839c7ec",
   "metadata": {},
   "outputs": [
    {
     "name": "stdout",
     "output_type": "stream",
     "text": [
      "5 ---> 4 ---> 7 ---> 1 ---> 2 ---> 0 ---> None\n"
     ]
    }
   ],
   "source": [
    "printf(lnkd_lst)"
   ]
  },
  {
   "cell_type": "code",
   "execution_count": null,
   "id": "1d8a6f5c",
   "metadata": {},
   "outputs": [],
   "source": []
  }
 ],
 "metadata": {
  "kernelspec": {
   "display_name": "Python 3 (ipykernel)",
   "language": "python",
   "name": "python3"
  },
  "language_info": {
   "codemirror_mode": {
    "name": "ipython",
    "version": 3
   },
   "file_extension": ".py",
   "mimetype": "text/x-python",
   "name": "python",
   "nbconvert_exporter": "python",
   "pygments_lexer": "ipython3",
   "version": "3.11.5"
  }
 },
 "nbformat": 4,
 "nbformat_minor": 5
}
