{
 "cells": [
  {
   "cell_type": "markdown",
   "id": "44ed59c9",
   "metadata": {},
   "source": [
    "### 2.1 Remove Dups: \n",
    "Write code to remove duplicates from an unsorted linked list.<br>\n",
    "FOLLOW UP<br>\n",
    "How would you solve this problem if a temporary buffer is not allowed?"
   ]
  },
  {
   "cell_type": "code",
   "execution_count": 8,
   "id": "92d42823",
   "metadata": {},
   "outputs": [],
   "source": [
    "class Node:\n",
    "    def __init__(self, data):\n",
    "        self.data = data\n",
    "        self.next = None\n",
    "    \n",
    "    def append_to_tail(self, data):\n",
    "        end = Node(data)\n",
    "        n = self                         # Initializes a temporary variable to the head of the linked list\n",
    "        while n.next is not None:\n",
    "            n = n.next\n",
    "        n.next = end\n",
    "        \n",
    "def remove_dups(head):\n",
    "    if head is None:\n",
    "        return\n",
    "    \n",
    "    # create set\n",
    "    seen = set()\n",
    "    prev = None\n",
    "    curr = head\n",
    "    \n",
    "    # iterate through linked list and add to set\n",
    "    while curr is not None:\n",
    "        if curr.data in seen:\n",
    "            prev.next = curr.next                 # Removing current node(dups)\n",
    "        else:\n",
    "            seen.add(curr.data)                   # Adding to set\n",
    "            prev = curr                           # Updating prev\n",
    "        \n",
    "        curr = curr.next\n",
    "\n",
    "def print_linklist(head):\n",
    "    curr = head\n",
    "    while curr is not None:\n",
    "        print(curr.data, end=\" --> \")\n",
    "        curr = curr.next\n",
    "    print(\"None\")\n",
    "    "
   ]
  },
  {
   "cell_type": "code",
   "execution_count": 9,
   "id": "a516f80b",
   "metadata": {},
   "outputs": [
    {
     "name": "stdout",
     "output_type": "stream",
     "text": [
      "Original Linked List:\n",
      "3 --> 1 --> 3 --> 4 --> 1 --> 5 --> None\n",
      "After Removing Duplicates:\n",
      "3 --> 1 --> 4 --> 5 --> None\n"
     ]
    }
   ],
   "source": [
    "linked_list = Node(3)\n",
    "linked_list.append_to_tail(1)\n",
    "linked_list.append_to_tail(3)\n",
    "linked_list.append_to_tail(4)\n",
    "linked_list.append_to_tail(1)\n",
    "linked_list.append_to_tail(5)\n",
    "\n",
    "# Print the original linked list\n",
    "print(\"Original Linked List:\")\n",
    "print_linklist(linked_list)\n",
    "\n",
    "remove_dups(linked_list)                # U r passing a reference to head of the linkd list, not a copy of entire linked list.\n",
    "print(\"After Removing Duplicates:\")\n",
    "print_linklist(linked_list)"
   ]
  },
  {
   "cell_type": "markdown",
   "id": "2aa45ff8",
   "metadata": {},
   "source": [
    "### If a temporary buffer is not allowed"
   ]
  },
  {
   "cell_type": "code",
   "execution_count": 13,
   "id": "8ad93ccc",
   "metadata": {},
   "outputs": [],
   "source": [
    "def remove_dups_nbuffer(head):\n",
    "    if head is None:\n",
    "        return\n",
    "    # 1st loop for all data and 2nd loop for checking if current data duplicate exists\n",
    "    # 1st loop\n",
    "    curr = head\n",
    "    while (curr != None):\n",
    "        runner = curr                          # runner = head & curr = head\n",
    "        # 2nd loop\n",
    "        while (runner.next != None):\n",
    "            if runner.next.data == curr.data:\n",
    "                runner.next = runner.next.next\n",
    "            else:\n",
    "                runner = runner.next\n",
    "                \n",
    "        curr = curr.next"
   ]
  },
  {
   "cell_type": "code",
   "execution_count": 14,
   "id": "9a8dfcaf",
   "metadata": {},
   "outputs": [
    {
     "name": "stdout",
     "output_type": "stream",
     "text": [
      "Original Linked List:\n",
      "3 --> 1 --> 3 --> 4 --> 1 --> 5 --> None\n",
      "After Removing Duplicates:\n",
      "3 --> 1 --> 4 --> 5 --> None\n"
     ]
    }
   ],
   "source": [
    "linked_list = Node(3)\n",
    "linked_list.append_to_tail(1)\n",
    "linked_list.append_to_tail(3)\n",
    "linked_list.append_to_tail(4)\n",
    "linked_list.append_to_tail(1)\n",
    "linked_list.append_to_tail(5)\n",
    "\n",
    "# Print the original linked list\n",
    "print(\"Original Linked List:\")\n",
    "print_linklist(linked_list)\n",
    "\n",
    "remove_dups_nbuffer(linked_list)                # U r passing a reference to head of the linkd list, not a copy of entire linked list.\n",
    "print(\"After Removing Duplicates:\")\n",
    "print_linklist(linked_list)"
   ]
  },
  {
   "cell_type": "code",
   "execution_count": null,
   "id": "79aa9921",
   "metadata": {},
   "outputs": [],
   "source": []
  }
 ],
 "metadata": {
  "kernelspec": {
   "display_name": "Python 3 (ipykernel)",
   "language": "python",
   "name": "python3"
  },
  "language_info": {
   "codemirror_mode": {
    "name": "ipython",
    "version": 3
   },
   "file_extension": ".py",
   "mimetype": "text/x-python",
   "name": "python",
   "nbconvert_exporter": "python",
   "pygments_lexer": "ipython3",
   "version": "3.11.5"
  }
 },
 "nbformat": 4,
 "nbformat_minor": 5
}
