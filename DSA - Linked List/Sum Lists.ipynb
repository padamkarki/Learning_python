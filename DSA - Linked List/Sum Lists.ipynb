{
 "cells": [
  {
   "cell_type": "markdown",
   "id": "70596339",
   "metadata": {},
   "source": [
    "### Sum Lists: \n",
    "You have two numbers represented by a linked list, where each node contains a singledigit.<br>\n",
    "The digits are stored in reverse order, such that the 1 's digit is at the head of the list.<br>\n",
    "Write a function that adds the two numbers and returns the sum as a linked list.<br>\n",
    "\n",
    "EXAMPLE<br>\n",
    "Input: (7 - 1 - 6) + (5 - 9 - 2). That is 617 + 295.<br>\n",
    "Output: (2 - 1 - 9) That is, 912.<br>\n",
    "<br>\n",
    "FOLLOW UP<br>\n",
    "Suppose the digits are stored in forward order. Repeat the above problem.\n",
    "EXAMPLE<br>\n",
    "Input: (6 - 1 - 7) + (2 - 9 - 5).That is 617 + 295.<br>\n",
    "Output: (9 - 1 - 2) That is, 912.<br>"
   ]
  },
  {
   "cell_type": "markdown",
   "id": "033db969",
   "metadata": {},
   "source": [
    "### My solution - not Optimise\n",
    "1 convert to int in reverse <br>\n",
    "2 ADD<br>\n",
    "3 convert to list in reverse<br>"
   ]
  },
  {
   "cell_type": "code",
   "execution_count": 1,
   "id": "c79584ed",
   "metadata": {},
   "outputs": [],
   "source": [
    "class Node:\n",
    "    def __init__(self,val):\n",
    "        self.val = val\n",
    "        self.next = None\n",
    "        \n",
    "    def append_end(self, val):\n",
    "        end = Node(val)\n",
    "        n = self\n",
    "        while n.next != None:\n",
    "            n = n.next\n",
    "        n.next = end\n",
    "        \n",
    "def printf(head):\n",
    "    curr = head\n",
    "    while curr != None:\n",
    "        print(curr.val, end=\" --> \")\n",
    "        curr = curr.next\n",
    "    print(\"None\")\n",
    "    "
   ]
  },
  {
   "cell_type": "code",
   "execution_count": 2,
   "id": "e965bd33",
   "metadata": {},
   "outputs": [],
   "source": [
    "def sum_lists(l1, l2):\n",
    "    curr1 = l1\n",
    "    curr2 = l2\n",
    "    res1 = \"\"\n",
    "    res2 = \"\"\n",
    "    \n",
    "    while curr1 != None:\n",
    "        res1 = str(curr1.val) + str(res1)\n",
    "        curr1 = curr1.next\n",
    "        \n",
    "    while curr2 != None:\n",
    "        res2 = str(curr2.val) + str(res2)\n",
    "        curr2 = curr2.next\n",
    "    \n",
    "    result = int(res1) + int(res2)\n",
    "    print(f\"Result: {result}\") # 912\n",
    "    result = str(result)[::-1]\n",
    "\n",
    "    output = Node(None)\n",
    "    for digit in result:\n",
    "        output.append_end(digit)\n",
    "\n",
    "    printf(output.next)\n"
   ]
  },
  {
   "cell_type": "code",
   "execution_count": 3,
   "id": "33a358c3",
   "metadata": {},
   "outputs": [
    {
     "name": "stdout",
     "output_type": "stream",
     "text": [
      "Org: \n",
      "7 --> 1 --> 6 --> None\n",
      "Org2: \n",
      "5 --> 9 --> 2 --> None\n"
     ]
    }
   ],
   "source": [
    "lnkdlist = Node(7)\n",
    "lnkdlist.append_end(1)\n",
    "lnkdlist.append_end(6)\n",
    "\n",
    "print(\"Org: \")\n",
    "printf(lnkdlist)\n",
    "\n",
    "lnkdlist2 = Node(5)\n",
    "lnkdlist2.append_end(9)\n",
    "lnkdlist2.append_end(2)\n",
    "\n",
    "\n",
    "print(\"Org2: \")\n",
    "printf(lnkdlist2)\n"
   ]
  },
  {
   "cell_type": "code",
   "execution_count": 4,
   "id": "c829e591",
   "metadata": {},
   "outputs": [
    {
     "name": "stdout",
     "output_type": "stream",
     "text": [
      "Result: 912\n",
      "2 --> 1 --> 9 --> None\n"
     ]
    }
   ],
   "source": [
    "sum_lists(lnkdlist,lnkdlist2)\n"
   ]
  },
  {
   "cell_type": "markdown",
   "id": "441c34f4",
   "metadata": {},
   "source": [
    "## Optimise Solution\n",
    "carry 11<br>\n",
    ".........617<br>\n",
    ".......+295<br>\n",
    ".......=912<br>\n",
    "<br>\n",
    "#### So for addition we calculate from reverse only(last num 7+5) and then carry<br>\n",
    "1 Create new empty LL and carry var<br>\n",
    "2 As both LL is reverse - Add 1st Node value of both, then divide by 10 for getting last digit and append to empty LL<br>\n",
    "3 store other digit in carry var(to find: result divide by 10, quotient is 1st digit - 35/10 = quo =3) <br>\n",
    "3 for 2nd node add both and carry as well untill last node<br>\n",
    "5 output new LL<br>"
   ]
  },
  {
   "cell_type": "code",
   "execution_count": 20,
   "id": "c7fad775",
   "metadata": {},
   "outputs": [],
   "source": [
    "def sum_lists_optm(l1, l2):\n",
    "    result = Node(None)\n",
    "    carry = 0\n",
    "    summ = 0\n",
    "    n1, n2 = l1 , l2\n",
    "    \n",
    "    while n1 or n2:\n",
    "        summ = carry                   # initiating summ again & again with carry,\n",
    "                                       # so summ will reset & carry will be added to val n1 & n2\n",
    "        if n1:\n",
    "            summ = summ + n1.val \n",
    "            n1 = n1.next\n",
    "           \n",
    "        if n2:\n",
    "            summ = summ + n2.val\n",
    "            n2 = n2.next\n",
    "        \n",
    "        print(f\"sum: {summ}\")\n",
    "        result.append_end(summ % 10)\n",
    "        carry = summ // 10\n",
    "        \n",
    "    if carry:\n",
    "        result.append_end(carry)\n",
    "    \n",
    "    printf(result.next)\n",
    "    return result.next\n",
    "    \n",
    "    "
   ]
  },
  {
   "cell_type": "code",
   "execution_count": 19,
   "id": "837c0903",
   "metadata": {},
   "outputs": [
    {
     "name": "stdout",
     "output_type": "stream",
     "text": [
      "Org2: \n",
      "7 --> 1 --> 6 --> None\n",
      "5 --> 9 --> 2 --> None\n",
      "sum: 12\n",
      "sum: 11\n",
      "sum: 9\n",
      "2 --> 1 --> 9 --> None\n"
     ]
    },
    {
     "data": {
      "text/plain": [
       "<__main__.Node at 0x20847cc3650>"
      ]
     },
     "execution_count": 19,
     "metadata": {},
     "output_type": "execute_result"
    }
   ],
   "source": [
    "print(\"Org2: \")\n",
    "printf(lnkdlist)\n",
    "printf(lnkdlist2)\n",
    "sum_lists_optm(lnkdlist,lnkdlist2)"
   ]
  },
  {
   "cell_type": "code",
   "execution_count": null,
   "id": "195ec8df",
   "metadata": {},
   "outputs": [],
   "source": []
  },
  {
   "cell_type": "code",
   "execution_count": null,
   "id": "9e74b3c1",
   "metadata": {},
   "outputs": [],
   "source": []
  }
 ],
 "metadata": {
  "kernelspec": {
   "display_name": "Python 3 (ipykernel)",
   "language": "python",
   "name": "python3"
  },
  "language_info": {
   "codemirror_mode": {
    "name": "ipython",
    "version": 3
   },
   "file_extension": ".py",
   "mimetype": "text/x-python",
   "name": "python",
   "nbconvert_exporter": "python",
   "pygments_lexer": "ipython3",
   "version": "3.11.5"
  }
 },
 "nbformat": 4,
 "nbformat_minor": 5
}
