{
 "cells": [
  {
   "cell_type": "markdown",
   "id": "63cf9fe7",
   "metadata": {},
   "source": [
    "### Loop Detection:\n",
    "Given a circular linked list, implement an algorithm that returns the node at the beginning of the loop.<br>\n",
    "<br>\n",
    "DEFINITION<br>\n",
    "Circular linked list: A (corrupt) linked list in which a node's next pointer points to an earlier node, so<br>\n",
    "as to make a loop in the linked list.<br>\n",
    "<br>\n",
    "EXAMPLE<br>\n",
    "Input: A - B - C - D - E - C (the same C as earlier)<br>\n",
    "Output: C"
   ]
  },
  {
   "cell_type": "code",
   "execution_count": 1,
   "id": "e17f4d20",
   "metadata": {},
   "outputs": [],
   "source": [
    "class Node:\n",
    "    def __init__(self,val):\n",
    "        self.val = val\n",
    "        self.next = None\n",
    "    \n",
    "    def append(self, val):\n",
    "        end = Node(val)\n",
    "        n = self\n",
    "        while n.next:\n",
    "            n = n.next\n",
    "        n.next = end\n",
    "        \n",
    "def printf(head):\n",
    "    counter = 0\n",
    "    curr = head\n",
    "    while counter < 10 and curr:         # set counter to break loop at 10th node\n",
    "        print(curr.val, end=\" --> \")\n",
    "        curr = curr.next\n",
    "        counter += 1\n",
    "    print(\"Loop...\")\n",
    "        \n"
   ]
  },
  {
   "cell_type": "code",
   "execution_count": 2,
   "id": "af5cd5cc",
   "metadata": {},
   "outputs": [],
   "source": [
    "def loop_detect(ll):\n",
    "    slow = fast = ll\n",
    "    while fast and fast.next:\n",
    "        slow = slow.next\n",
    "        fast = fast.next.next\n",
    "        if slow == fast:            #slow and fast met in loop\n",
    "            break\n",
    "    \n",
    "    if fast == None or fast.next == None:\n",
    "        return None\n",
    "    \n",
    "    slow = ll\n",
    "    while slow != fast:\n",
    "        slow = slow.next\n",
    "        fast = fast.next\n",
    "    \n",
    "    print(fast.val)\n",
    "    return fast\n",
    "        "
   ]
  },
  {
   "cell_type": "code",
   "execution_count": 6,
   "id": "72041b75",
   "metadata": {},
   "outputs": [
    {
     "name": "stdout",
     "output_type": "stream",
     "text": [
      "a --> b --> c --> d --> e --> d --> e --> d --> e --> d --> Loop...\n"
     ]
    }
   ],
   "source": [
    "ll = Node(\"a\")\n",
    "ll.append(\"b\")\n",
    "ll.append(\"c\")\n",
    "ll.append(\"d\")\n",
    "ll.append(\"e\")\n",
    "\n",
    "curr = ll\n",
    "while curr.next:\n",
    "    curr = curr.next\n",
    "\n",
    "curr.next = ll.next.next.next\n",
    "printf(ll)"
   ]
  },
  {
   "cell_type": "code",
   "execution_count": 7,
   "id": "0e46e9e9",
   "metadata": {},
   "outputs": [
    {
     "name": "stdout",
     "output_type": "stream",
     "text": [
      "d\n"
     ]
    },
    {
     "data": {
      "text/plain": [
       "<__main__.Node at 0x1efa6bdded0>"
      ]
     },
     "execution_count": 7,
     "metadata": {},
     "output_type": "execute_result"
    }
   ],
   "source": [
    "loop_detect(ll)"
   ]
  },
  {
   "cell_type": "code",
   "execution_count": 8,
   "id": "7976b83f",
   "metadata": {},
   "outputs": [],
   "source": [
    "def loop_detect_hash(ll):\n",
    "    node_set = set()\n",
    "    curr = ll\n",
    "    while curr.next:\n",
    "        if curr in node_set:\n",
    "            print(f\"Loop detected at {curr.val}\")\n",
    "            return True\n",
    "        node_set.add(curr)\n",
    "        curr = curr.next\n",
    "    return False\n",
    "    "
   ]
  },
  {
   "cell_type": "code",
   "execution_count": 9,
   "id": "c1c67ebb",
   "metadata": {},
   "outputs": [
    {
     "name": "stdout",
     "output_type": "stream",
     "text": [
      "Loop detected at d\n"
     ]
    },
    {
     "data": {
      "text/plain": [
       "True"
      ]
     },
     "execution_count": 9,
     "metadata": {},
     "output_type": "execute_result"
    }
   ],
   "source": [
    "loop_detect_hash(ll)"
   ]
  },
  {
   "cell_type": "code",
   "execution_count": null,
   "id": "20f7b6dd",
   "metadata": {},
   "outputs": [],
   "source": []
  }
 ],
 "metadata": {
  "kernelspec": {
   "display_name": "Python 3 (ipykernel)",
   "language": "python",
   "name": "python3"
  },
  "language_info": {
   "codemirror_mode": {
    "name": "ipython",
    "version": 3
   },
   "file_extension": ".py",
   "mimetype": "text/x-python",
   "name": "python",
   "nbconvert_exporter": "python",
   "pygments_lexer": "ipython3",
   "version": "3.11.5"
  }
 },
 "nbformat": 4,
 "nbformat_minor": 5
}
