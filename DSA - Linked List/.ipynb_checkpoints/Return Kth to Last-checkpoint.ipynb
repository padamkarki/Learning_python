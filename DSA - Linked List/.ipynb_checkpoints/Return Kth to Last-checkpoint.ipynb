{
 "cells": [
  {
   "cell_type": "markdown",
   "id": "e506eacc",
   "metadata": {},
   "source": [
    "### Return Kth to Last: \n",
    "Implement an algorithm to find the kth to last element of a singly linked list.<br>\n",
    "Like, 2nd last element, 3rd last element"
   ]
  },
  {
   "cell_type": "markdown",
   "id": "75df5944",
   "metadata": {},
   "source": [
    "#### Brute Force"
   ]
  },
  {
   "cell_type": "code",
   "execution_count": 24,
   "id": "18f6e646",
   "metadata": {},
   "outputs": [],
   "source": [
    "# Create Linked List\n",
    "class Node:\n",
    "    \n",
    "    def __init__(self, val):\n",
    "        self.val = val\n",
    "        self.next = None\n",
    "    \n",
    "    def append_to_tail(self, val):\n",
    "        end = Node(val)\n",
    "        n = self\n",
    "        while n.next != None:\n",
    "            n = n.next\n",
    "        n.next = end\n",
    "        \n",
    "def printlnkdlst(head):                                   # Print function\n",
    "    curr = head\n",
    "    while curr.next != None:\n",
    "        print(curr.val, end=\" ---> \")\n",
    "        curr= curr.next\n",
    "    print(\"None\")\n",
    "    \n",
    "\n",
    "    \n",
    "def kth_to_last(head, k):                           # Create Counter and count length (7)\n",
    "    if k <= 0:\n",
    "        print(\"Should be more than 0\")\n",
    "        return\n",
    "    count_len = 0\n",
    "    curr = head\n",
    "    while curr.next != None:\n",
    "        count_len += 1\n",
    "        curr = curr.next\n",
    "    print(f\"length: {count_len}\")\n",
    "    \n",
    "    if k > count_len:\n",
    "        print(\"Invalid kth element\")\n",
    "        return\n",
    "    \n",
    "\n",
    "    kth_pos = count_len - k                         # kth element = length - kth (7 - 3 = 4)\n",
    "    \n",
    "\n",
    "    count_curr = 0                                  # iterate till k th element by counting till kth element\n",
    "    curr = head\n",
    "    while count_curr != kth_pos:\n",
    "        count_curr += 1\n",
    "        curr = curr.next\n",
    "        \n",
    "    return curr.val"
   ]
  },
  {
   "cell_type": "code",
   "execution_count": 25,
   "id": "5dc88862",
   "metadata": {},
   "outputs": [
    {
     "name": "stdout",
     "output_type": "stream",
     "text": [
      "Org: \n",
      "3 ---> 5 ---> 4 ---> 7 ---> 1 ---> 2 ---> None\n"
     ]
    }
   ],
   "source": [
    "lnkd_lst = Node(3)\n",
    "lnkd_lst.append_to_tail(5)\n",
    "lnkd_lst.append_to_tail(4)\n",
    "lnkd_lst.append_to_tail(7)\n",
    "lnkd_lst.append_to_tail(1)\n",
    "lnkd_lst.append_to_tail(2)\n",
    "lnkd_lst.append_to_tail(0)\n",
    "\n",
    "print(\"Org: \")\n",
    "printlnkdlst(lnkd_lst)\n"
   ]
  },
  {
   "cell_type": "code",
   "execution_count": 32,
   "id": "5efb6dc4",
   "metadata": {},
   "outputs": [
    {
     "name": "stdout",
     "output_type": "stream",
     "text": [
      "length: 6\n"
     ]
    },
    {
     "data": {
      "text/plain": [
       "3"
      ]
     },
     "execution_count": 32,
     "metadata": {},
     "output_type": "execute_result"
    }
   ],
   "source": [
    "kth_to_last(lnkd_lst, 6)"
   ]
  },
  {
   "cell_type": "markdown",
   "id": "91397e5a",
   "metadata": {},
   "source": [
    "### Optimize code - Two Pointer Simple Solution"
   ]
  },
  {
   "cell_type": "code",
   "execution_count": 33,
   "id": "3c84260f",
   "metadata": {},
   "outputs": [],
   "source": [
    "    \n",
    "def kth_to_last_2(head, k):                           # Create Counter and count length (7)\n",
    "    if k <= 0:\n",
    "        print(\"Should be more than 0\")\n",
    "        return\n",
    "\n",
    "    slow = fast = head\n",
    "    \n",
    "    for i in range(k):\n",
    "        if fast is None:\n",
    "            print(\"Invalid k position\")\n",
    "            return None\n",
    "        fast = fast.next                             # fast pointer k nodes ahead\n",
    "    \n",
    "    while fast.next != None:\n",
    "        slow = slow.next\n",
    "        fast = fast.next\n",
    "        \n",
    "    return slow.val\n",
    "    "
   ]
  },
  {
   "cell_type": "code",
   "execution_count": 41,
   "id": "fd016775",
   "metadata": {},
   "outputs": [
    {
     "name": "stdout",
     "output_type": "stream",
     "text": [
      "Org: \n",
      "3 ---> 5 ---> 4 ---> 7 ---> 1 ---> 2 ---> None\n",
      "Invalid k position\n"
     ]
    }
   ],
   "source": [
    "print(\"Org: \")\n",
    "printlnkdlst(lnkd_lst)\n",
    "kth_to_last_2(lnkd_lst, 10)"
   ]
  },
  {
   "cell_type": "code",
   "execution_count": null,
   "id": "2cc85e9d",
   "metadata": {},
   "outputs": [],
   "source": []
  }
 ],
 "metadata": {
  "kernelspec": {
   "display_name": "Python 3 (ipykernel)",
   "language": "python",
   "name": "python3"
  },
  "language_info": {
   "codemirror_mode": {
    "name": "ipython",
    "version": 3
   },
   "file_extension": ".py",
   "mimetype": "text/x-python",
   "name": "python",
   "nbconvert_exporter": "python",
   "pygments_lexer": "ipython3",
   "version": "3.11.5"
  }
 },
 "nbformat": 4,
 "nbformat_minor": 5
}
