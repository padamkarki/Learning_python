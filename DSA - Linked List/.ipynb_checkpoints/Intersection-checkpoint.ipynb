{
 "cells": [
  {
   "cell_type": "markdown",
   "id": "94975fcf",
   "metadata": {},
   "source": [
    "### Intersection:\n",
    "Given two (singly) linked lists, determine if the two lists intersect. Return the inter-<br>\n",
    "secting node. Note that the intersection is defined based on reference, not value. <br>\n",
    "That is, if the kth node of the first linked list is the exact same node (by reference) <br>\n",
    "as the jth node of the second linked list, then they are intersecting.<br>"
   ]
  },
  {
   "cell_type": "markdown",
   "id": "a4afb35c",
   "metadata": {},
   "source": [
    "### Solution\n",
    "1 find length of both list <br>\n",
    "2 chop the longer list = equal to shorter<br>\n",
    "3 compare both, untill their next match<br>\n",
    "4 return current as intersection from either list<br>"
   ]
  },
  {
   "cell_type": "code",
   "execution_count": 2,
   "id": "c7e1521f",
   "metadata": {},
   "outputs": [],
   "source": [
    "class Node:\n",
    "    def __init__(self, val):\n",
    "        self.val = val\n",
    "        self.next = None\n",
    "        \n",
    "    def append(self, val):\n",
    "        end = Node(val)\n",
    "        n = self\n",
    "        while n.next != None:\n",
    "            n = n.next\n",
    "        n.next = end\n",
    "        \n",
    "def printf(head):\n",
    "    curr = head\n",
    "    while curr is not None:\n",
    "        print(curr.val, end = \" --> \")\n",
    "        curr = curr.next\n",
    "    print(\"None\")\n",
    "\n",
    "def length(ll):\n",
    "    if ll is None:\n",
    "        return None\n",
    "    \n",
    "    curr = ll\n",
    "    size = 1\n",
    "    while curr.next!= None:\n",
    "        size += 1\n",
    "        curr = curr.next\n",
    "        \n",
    "    return size\n"
   ]
  },
  {
   "cell_type": "code",
   "execution_count": 23,
   "id": "91af73e4",
   "metadata": {},
   "outputs": [],
   "source": [
    "\n",
    "def intersection(l1, l2):\n",
    "    l1_len = length(l1)\n",
    "    l2_len = length(l2)\n",
    "    \n",
    "    longer = Node(None)\n",
    "    shorter = Node(None)\n",
    "    longer = l1 if l1_len > l2_len else l2\n",
    "    shorter = l2 if l1_len > l2_len else l1\n",
    "    \n",
    "    diff = abs(l1_len - l2_len)\n",
    "    \n",
    "    curr = longer\n",
    "    while diff != 0 and curr != None:\n",
    "        curr = curr.next\n",
    "        diff -= 1\n",
    "    longer = curr\n",
    "    \n",
    "    # Compare\n",
    "    while longer.next != shorter.next:\n",
    "        longer = longer.next\n",
    "        shorter = shorter.next\n",
    "    \n",
    "    print(longer.val)\n",
    "    print(shorter.val)\n",
    "    return True\n",
    "    "
   ]
  },
  {
   "cell_type": "code",
   "execution_count": 24,
   "id": "368a79b1",
   "metadata": {},
   "outputs": [
    {
     "name": "stdout",
     "output_type": "stream",
     "text": [
      "list1: \n",
      "3 --> 1 --> 5 --> 9 --> 7 --> 2 --> 1 --> None\n",
      "list2: \n",
      "4 --> 6 --> 7 --> 2 --> 1 --> None\n"
     ]
    }
   ],
   "source": [
    "l3 = Node(7)\n",
    "l3.append(2)\n",
    "l3.append(1)\n",
    "\n",
    "l1 = Node(3)\n",
    "l1.append(1)\n",
    "l1.append(5)\n",
    "l1.append(9)\n",
    "\n",
    "current = l1\n",
    "while current.next:\n",
    "    current = current.next\n",
    "current.next = l3\n",
    "\n",
    "l2 = Node(4)\n",
    "l2.append(6)\n",
    "\n",
    "current = l2\n",
    "while current.next:\n",
    "    current = current.next\n",
    "current.next = l3\n",
    "\n",
    "\n",
    "print(\"list1: \")\n",
    "printf(l1)\n",
    "\n",
    "print(\"list2: \")\n",
    "printf(l2)"
   ]
  },
  {
   "cell_type": "code",
   "execution_count": 25,
   "id": "b07b55f4",
   "metadata": {},
   "outputs": [
    {
     "name": "stdout",
     "output_type": "stream",
     "text": [
      "9\n",
      "6\n"
     ]
    },
    {
     "data": {
      "text/plain": [
       "True"
      ]
     },
     "execution_count": 25,
     "metadata": {},
     "output_type": "execute_result"
    }
   ],
   "source": [
    "intersection(l1, l2)"
   ]
  },
  {
   "cell_type": "code",
   "execution_count": null,
   "id": "10c46638",
   "metadata": {},
   "outputs": [],
   "source": []
  }
 ],
 "metadata": {
  "kernelspec": {
   "display_name": "Python 3 (ipykernel)",
   "language": "python",
   "name": "python3"
  },
  "language_info": {
   "codemirror_mode": {
    "name": "ipython",
    "version": 3
   },
   "file_extension": ".py",
   "mimetype": "text/x-python",
   "name": "python",
   "nbconvert_exporter": "python",
   "pygments_lexer": "ipython3",
   "version": "3.11.5"
  }
 },
 "nbformat": 4,
 "nbformat_minor": 5
}
