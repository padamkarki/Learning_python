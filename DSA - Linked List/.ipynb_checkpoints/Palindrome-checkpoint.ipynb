{
 "cells": [
  {
   "cell_type": "markdown",
   "id": "e79f42fe",
   "metadata": {},
   "source": [
    "### Palindrome: \n",
    "Implement a function to check if a linked list is a palindrome."
   ]
  },
  {
   "cell_type": "markdown",
   "id": "076f112b",
   "metadata": {},
   "source": [
    "### My Solution\n",
    "1 convert to list <br>\n",
    "2 find length / 2 = half <br>\n",
    "3 if i[1] == i[-1] upto half<br>\n",
    "4 ++           --<br>"
   ]
  },
  {
   "cell_type": "code",
   "execution_count": 9,
   "id": "08dddd85",
   "metadata": {},
   "outputs": [],
   "source": [
    "class Node:\n",
    "    def __init__(self, val):\n",
    "        self.val = val\n",
    "        self.next = None\n",
    "        \n",
    "    def append(self, val):\n",
    "        end = Node(val)\n",
    "        n = self\n",
    "        while n.next is not None:\n",
    "            n = n.next\n",
    "        n.next = end\n",
    "        \n",
    "def printf(head):\n",
    "    curr = head\n",
    "    while curr != None:\n",
    "        print(curr.val, end=\" --> \")\n",
    "        curr = curr.next\n",
    "    print(\"None\")\n",
    "    "
   ]
  },
  {
   "cell_type": "code",
   "execution_count": 35,
   "id": "ea6fd708",
   "metadata": {},
   "outputs": [],
   "source": [
    "# 1 convert to list <br>\n",
    "# 2 find length / 2 = half <br>\n",
    "# 3 if i[1] == i[-1] upto half<br>\n",
    "# 4 ++           --<br>\n",
    "def is_palindrome(head):\n",
    "    char = []\n",
    "    curr = head\n",
    "    while curr != None:\n",
    "        char.append(curr.val)\n",
    "        curr = curr.next\n",
    "    print(char)\n",
    "    length = len(char)\n",
    "    half = length // 2\n",
    "    print(half)\n",
    "    \n",
    "    for i in range(half):\n",
    "        j = len(char) - 1 -i\n",
    "        if char[i] != char[j]:\n",
    "            return False\n",
    "        \n",
    "    return True\n",
    "            \n",
    "            "
   ]
  },
  {
   "cell_type": "code",
   "execution_count": 38,
   "id": "a81889c5",
   "metadata": {},
   "outputs": [
    {
     "name": "stdout",
     "output_type": "stream",
     "text": [
      "Org: \n",
      "a --> b --> c --> c --> b --> a --> None\n"
     ]
    }
   ],
   "source": [
    "ll = Node(\"a\")\n",
    "ll.append(\"b\")\n",
    "ll.append(\"c\")\n",
    "ll.append(\"c\")\n",
    "ll.append(\"b\")\n",
    "ll.append(\"a\")\n",
    "\n",
    "print(\"Org: \")\n",
    "printf(ll)"
   ]
  },
  {
   "cell_type": "code",
   "execution_count": 39,
   "id": "69ae301b",
   "metadata": {},
   "outputs": [
    {
     "name": "stdout",
     "output_type": "stream",
     "text": [
      "['a', 'b', 'c', 'c', 'b', 'a']\n",
      "3\n"
     ]
    },
    {
     "data": {
      "text/plain": [
       "True"
      ]
     },
     "execution_count": 39,
     "metadata": {},
     "output_type": "execute_result"
    }
   ],
   "source": [
    "is_palindrome(ll)"
   ]
  },
  {
   "cell_type": "markdown",
   "id": "950b9e22",
   "metadata": {},
   "source": [
    "### Book Solution\n",
    "Two Pointer <br>\n",
    "1 store first half in stack<br>\n",
    "2 if odd len, skip middle for next step<br>\n",
    "2 check second half with stack by popping element(pop starts from last element added)<br>\n",
    "3 return<br>"
   ]
  },
  {
   "cell_type": "code",
   "execution_count": 40,
   "id": "3fd0c221",
   "metadata": {},
   "outputs": [],
   "source": [
    "def is_palindrome_stack(head):\n",
    "    fast = slow = head\n",
    "    stack = []\n",
    "    \n",
    "    while fast and fast.next:\n",
    "        stack.append(slow.val)\n",
    "        slow = slow.next\n",
    "        fast = fast.next.next\n",
    "    \n",
    "    if fast:\n",
    "        slow = slow.next\n",
    "        \n",
    "    while slow:\n",
    "        top = stack.pop()\n",
    "        \n",
    "        if top != slow.val:\n",
    "            return False\n",
    "        \n",
    "        slow = slow.next\n",
    "    return True\n",
    "        "
   ]
  },
  {
   "cell_type": "code",
   "execution_count": 48,
   "id": "dc71b9f1",
   "metadata": {},
   "outputs": [
    {
     "name": "stdout",
     "output_type": "stream",
     "text": [
      "Org: \n",
      "a --> b --> c --> c --> b --> a --> None\n"
     ]
    },
    {
     "data": {
      "text/plain": [
       "True"
      ]
     },
     "execution_count": 48,
     "metadata": {},
     "output_type": "execute_result"
    }
   ],
   "source": [
    "ll = Node(\"a\")\n",
    "ll.append(\"b\")\n",
    "ll.append(\"c\")\n",
    "ll.append(\"c\")\n",
    "ll.append(\"b\")\n",
    "ll.append(\"a\")\n",
    "\n",
    "print(\"Org: \")\n",
    "printf(ll)\n",
    "\n",
    "is_palindrome_stack(ll)"
   ]
  },
  {
   "cell_type": "code",
   "execution_count": null,
   "id": "9de26f94",
   "metadata": {},
   "outputs": [],
   "source": []
  },
  {
   "cell_type": "code",
   "execution_count": null,
   "id": "eb2b0df3",
   "metadata": {},
   "outputs": [],
   "source": []
  }
 ],
 "metadata": {
  "kernelspec": {
   "display_name": "Python 3 (ipykernel)",
   "language": "python",
   "name": "python3"
  },
  "language_info": {
   "codemirror_mode": {
    "name": "ipython",
    "version": 3
   },
   "file_extension": ".py",
   "mimetype": "text/x-python",
   "name": "python",
   "nbconvert_exporter": "python",
   "pygments_lexer": "ipython3",
   "version": "3.11.5"
  }
 },
 "nbformat": 4,
 "nbformat_minor": 5
}
