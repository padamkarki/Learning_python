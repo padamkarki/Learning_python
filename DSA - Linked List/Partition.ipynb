{
 "cells": [
  {
   "cell_type": "markdown",
   "id": "c47f546d",
   "metadata": {},
   "source": [
    "### Partition:\n",
    "Write code to partition a linked list around a value x, such that all nodes less than x come<br>\n",
    "before all nodes greater than or equal to x. lf x is contained within the list, the values of x only need<br>\n",
    "to be after the elements less than x (see below). The partition element x can appear anywhere in the<br>\n",
    "\"right partition\"; it does not need to appear between the left and right partitions.<br>\n",
    "<br>\n",
    "EXAMPLE<br>\n",
    "Input: 3 -> 5 -> 8 -> 5 - > 10 -> 2 -> 1 [partition = 5)<br>\n",
    "Output: 3 -> 1 -> 2 -> 10 -> 5 -> 5 -> 8"
   ]
  },
  {
   "cell_type": "markdown",
   "id": "335cc92e",
   "metadata": {},
   "source": [
    "#### My solution\n",
    "1. create two list\n",
    "2. if val < x , add to 1st list\n",
    "3. else , add to 2nd list\n",
    "4. merge list\n",
    "### Or\n",
    "if val less append to begining, else append to end"
   ]
  },
  {
   "cell_type": "code",
   "execution_count": 78,
   "id": "764dc2c0",
   "metadata": {},
   "outputs": [],
   "source": [
    "class Node:\n",
    "    def __init__(self, val):\n",
    "        self.val = val\n",
    "        self.next = None\n",
    "        \n",
    "    def append_end(self, val):\n",
    "        end = Node(val)\n",
    "        n = self\n",
    "        while n.next is not None:\n",
    "            n = n.next\n",
    "            \n",
    "        n.next = end\n",
    "\n",
    "def printf(head):\n",
    "    curr = head\n",
    "    while curr is not None:\n",
    "        print(curr.val, end=\" ---> \")\n",
    "        curr = curr.next\n",
    "    print(\"None\")\n",
    "    \n",
    "    \n",
    "def partition(head, partn_num):\n",
    "    \n",
    "    left = Node(None)\n",
    "    right = Node(None)\n",
    "\n",
    "    curr = head\n",
    "    left_tail = left\n",
    "    right_head = right\n",
    "    \n",
    "    while curr is not None:\n",
    "        if curr.val < partn_num:\n",
    "            left_tail.next = Node(curr.val)\n",
    "            left_tail = left_tail.next\n",
    "        else:\n",
    "            right_head.next = Node(curr.val)\n",
    "            right_head = right_head.next\n",
    "\n",
    "        curr = curr.next\n",
    "        \n",
    "    left_tail.next = right.next\n",
    "    \n",
    "    printf(left.next)\n",
    "    return\n"
   ]
  },
  {
   "cell_type": "code",
   "execution_count": 81,
   "id": "d97f0a51",
   "metadata": {},
   "outputs": [
    {
     "name": "stdout",
     "output_type": "stream",
     "text": [
      "Org: \n",
      "3 ---> 5 ---> 8 ---> 5 ---> 10 ---> 2 ---> 1 ---> None\n"
     ]
    }
   ],
   "source": [
    "lnkdlist = Node(3)\n",
    "lnkdlist.append_end(5)\n",
    "lnkdlist.append_end(8)\n",
    "lnkdlist.append_end(5)\n",
    "lnkdlist.append_end(10)\n",
    "lnkdlist.append_end(2)\n",
    "lnkdlist.append_end(1)\n",
    "\n",
    "print(\"Org: \")\n",
    "printf(lnkdlist)"
   ]
  },
  {
   "cell_type": "code",
   "execution_count": 82,
   "id": "06d64241",
   "metadata": {},
   "outputs": [
    {
     "name": "stdout",
     "output_type": "stream",
     "text": [
      "2 ---> 1 ---> 3 ---> 5 ---> 8 ---> 5 ---> 10 ---> None\n"
     ]
    }
   ],
   "source": [
    "partition(lnkdlist, 3)"
   ]
  },
  {
   "cell_type": "code",
   "execution_count": null,
   "id": "03e5f6d6",
   "metadata": {},
   "outputs": [],
   "source": []
  },
  {
   "cell_type": "code",
   "execution_count": null,
   "id": "c163256f",
   "metadata": {},
   "outputs": [],
   "source": []
  }
 ],
 "metadata": {
  "kernelspec": {
   "display_name": "Python 3 (ipykernel)",
   "language": "python",
   "name": "python3"
  },
  "language_info": {
   "codemirror_mode": {
    "name": "ipython",
    "version": 3
   },
   "file_extension": ".py",
   "mimetype": "text/x-python",
   "name": "python",
   "nbconvert_exporter": "python",
   "pygments_lexer": "ipython3",
   "version": "3.11.5"
  }
 },
 "nbformat": 4,
 "nbformat_minor": 5
}
