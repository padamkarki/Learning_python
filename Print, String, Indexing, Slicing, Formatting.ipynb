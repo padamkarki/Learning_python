{
 "cells": [
  {
   "cell_type": "code",
   "execution_count": 1,
   "id": "4375d537",
   "metadata": {},
   "outputs": [
    {
     "data": {
      "text/plain": [
       "'hello'"
      ]
     },
     "execution_count": 1,
     "metadata": {},
     "output_type": "execute_result"
    }
   ],
   "source": [
    "'hello'"
   ]
  },
  {
   "cell_type": "code",
   "execution_count": 7,
   "id": "8f5ce3dd",
   "metadata": {},
   "outputs": [
    {
     "data": {
      "text/plain": [
       "'this is string'"
      ]
     },
     "execution_count": 7,
     "metadata": {},
     "output_type": "execute_result"
    }
   ],
   "source": [
    "\"this is string\""
   ]
  },
  {
   "cell_type": "code",
   "execution_count": 4,
   "id": "fba23c00",
   "metadata": {},
   "outputs": [
    {
     "data": {
      "text/plain": [
       "\"I am going on 'run'\""
      ]
     },
     "execution_count": 4,
     "metadata": {},
     "output_type": "execute_result"
    }
   ],
   "source": [
    "\"I am going on 'run'\""
   ]
  },
  {
   "cell_type": "code",
   "execution_count": 5,
   "id": "56fef8cc",
   "metadata": {},
   "outputs": [
    {
     "name": "stdout",
     "output_type": "stream",
     "text": [
      "hello\n"
     ]
    }
   ],
   "source": [
    "print(\"hello\")"
   ]
  },
  {
   "cell_type": "code",
   "execution_count": 6,
   "id": "e7ad7b06",
   "metadata": {},
   "outputs": [
    {
     "name": "stdout",
     "output_type": "stream",
     "text": [
      "hello \n",
      " world\n"
     ]
    }
   ],
   "source": [
    "print(\"hello \\n world\")"
   ]
  },
  {
   "cell_type": "code",
   "execution_count": 8,
   "id": "8bb6832f",
   "metadata": {},
   "outputs": [
    {
     "data": {
      "text/plain": [
       "4"
      ]
     },
     "execution_count": 8,
     "metadata": {},
     "output_type": "execute_result"
    }
   ],
   "source": [
    "len(\"I am\")"
   ]
  },
  {
   "cell_type": "code",
   "execution_count": 9,
   "id": "0ced070d",
   "metadata": {},
   "outputs": [],
   "source": [
    "my_strings = \"Hello Padam\""
   ]
  },
  {
   "cell_type": "code",
   "execution_count": 10,
   "id": "da78bd4c",
   "metadata": {},
   "outputs": [
    {
     "data": {
      "text/plain": [
       "'Hello Padam'"
      ]
     },
     "execution_count": 10,
     "metadata": {},
     "output_type": "execute_result"
    }
   ],
   "source": [
    "my_strings"
   ]
  },
  {
   "cell_type": "code",
   "execution_count": 11,
   "id": "d7da4fc7",
   "metadata": {},
   "outputs": [
    {
     "data": {
      "text/plain": [
       "'d'"
      ]
     },
     "execution_count": 11,
     "metadata": {},
     "output_type": "execute_result"
    }
   ],
   "source": [
    "my_strings[8]"
   ]
  },
  {
   "cell_type": "code",
   "execution_count": 13,
   "id": "4308ef27",
   "metadata": {},
   "outputs": [
    {
     "data": {
      "text/plain": [
       "'m'"
      ]
     },
     "execution_count": 13,
     "metadata": {},
     "output_type": "execute_result"
    }
   ],
   "source": [
    "my_strings[-1]"
   ]
  },
  {
   "cell_type": "code",
   "execution_count": 16,
   "id": "d2cf66d2",
   "metadata": {},
   "outputs": [],
   "source": [
    "my_strings = \"123456789\""
   ]
  },
  {
   "cell_type": "code",
   "execution_count": 17,
   "id": "28632578",
   "metadata": {},
   "outputs": [
    {
     "data": {
      "text/plain": [
       "'56789'"
      ]
     },
     "execution_count": 17,
     "metadata": {},
     "output_type": "execute_result"
    }
   ],
   "source": [
    "my_strings[4:]"
   ]
  },
  {
   "cell_type": "code",
   "execution_count": 18,
   "id": "f036ae3d",
   "metadata": {},
   "outputs": [
    {
     "data": {
      "text/plain": [
       "'123'"
      ]
     },
     "execution_count": 18,
     "metadata": {},
     "output_type": "execute_result"
    }
   ],
   "source": [
    "my_strings[:3]"
   ]
  },
  {
   "cell_type": "code",
   "execution_count": 20,
   "id": "bb43a81a",
   "metadata": {},
   "outputs": [
    {
     "data": {
      "text/plain": [
       "'456'"
      ]
     },
     "execution_count": 20,
     "metadata": {},
     "output_type": "execute_result"
    }
   ],
   "source": [
    "my_strings[3:6]"
   ]
  },
  {
   "cell_type": "code",
   "execution_count": 21,
   "id": "9961122a",
   "metadata": {},
   "outputs": [],
   "source": [
    "my_strings = \"abcdefg\""
   ]
  },
  {
   "cell_type": "code",
   "execution_count": 23,
   "id": "6a5c8c7f",
   "metadata": {},
   "outputs": [
    {
     "data": {
      "text/plain": [
       "'def'"
      ]
     },
     "execution_count": 23,
     "metadata": {},
     "output_type": "execute_result"
    }
   ],
   "source": [
    "my_strings[3:6]"
   ]
  },
  {
   "cell_type": "code",
   "execution_count": 24,
   "id": "7eae13cd",
   "metadata": {},
   "outputs": [
    {
     "data": {
      "text/plain": [
       "'abcdefg'"
      ]
     },
     "execution_count": 24,
     "metadata": {},
     "output_type": "execute_result"
    }
   ],
   "source": [
    "my_strings[::]"
   ]
  },
  {
   "cell_type": "code",
   "execution_count": 25,
   "id": "330ac3e9",
   "metadata": {},
   "outputs": [
    {
     "data": {
      "text/plain": [
       "'aceg'"
      ]
     },
     "execution_count": 25,
     "metadata": {},
     "output_type": "execute_result"
    }
   ],
   "source": [
    "my_strings[::2]"
   ]
  },
  {
   "cell_type": "code",
   "execution_count": 26,
   "id": "324dfeb4",
   "metadata": {},
   "outputs": [
    {
     "data": {
      "text/plain": [
       "'bdf'"
      ]
     },
     "execution_count": 26,
     "metadata": {},
     "output_type": "execute_result"
    }
   ],
   "source": [
    "my_strings[1:7:2]"
   ]
  },
  {
   "cell_type": "code",
   "execution_count": 27,
   "id": "41af242a",
   "metadata": {},
   "outputs": [
    {
     "data": {
      "text/plain": [
       "'gfedcba'"
      ]
     },
     "execution_count": 27,
     "metadata": {},
     "output_type": "execute_result"
    }
   ],
   "source": [
    "my_strings[::-1]"
   ]
  },
  {
   "cell_type": "code",
   "execution_count": 29,
   "id": "1e0ea695",
   "metadata": {},
   "outputs": [
    {
     "data": {
      "text/plain": [
       "'r'"
      ]
     },
     "execution_count": 29,
     "metadata": {},
     "output_type": "execute_result"
    }
   ],
   "source": [
    "\"Hello World\"[8]"
   ]
  },
  {
   "cell_type": "code",
   "execution_count": 30,
   "id": "e0a570a3",
   "metadata": {},
   "outputs": [],
   "source": [
    "letter = \"a\""
   ]
  },
  {
   "cell_type": "code",
   "execution_count": 31,
   "id": "3b0663f3",
   "metadata": {},
   "outputs": [
    {
     "data": {
      "text/plain": [
       "'aaaaaaaaaa'"
      ]
     },
     "execution_count": 31,
     "metadata": {},
     "output_type": "execute_result"
    }
   ],
   "source": [
    "letter * 10"
   ]
  },
  {
   "cell_type": "code",
   "execution_count": 33,
   "id": "ef53e5fe",
   "metadata": {},
   "outputs": [
    {
     "data": {
      "text/plain": [
       "'A'"
      ]
     },
     "execution_count": 33,
     "metadata": {},
     "output_type": "execute_result"
    }
   ],
   "source": [
    "letter.upper()"
   ]
  },
  {
   "cell_type": "code",
   "execution_count": 34,
   "id": "14232ffd",
   "metadata": {},
   "outputs": [
    {
     "data": {
      "text/plain": [
       "'a'"
      ]
     },
     "execution_count": 34,
     "metadata": {},
     "output_type": "execute_result"
    }
   ],
   "source": [
    "letter.lower()"
   ]
  },
  {
   "cell_type": "code",
   "execution_count": 35,
   "id": "96644431",
   "metadata": {},
   "outputs": [],
   "source": [
    "letter = \"Hello Padam\""
   ]
  },
  {
   "cell_type": "code",
   "execution_count": 41,
   "id": "be8659b7",
   "metadata": {},
   "outputs": [
    {
     "data": {
      "text/plain": [
       "['Hello P', 'd', 'm']"
      ]
     },
     "execution_count": 41,
     "metadata": {},
     "output_type": "execute_result"
    }
   ],
   "source": [
    "letter.split(\"a\")"
   ]
  },
  {
   "cell_type": "code",
   "execution_count": 44,
   "id": "09125aaf",
   "metadata": {
    "scrolled": true
   },
   "outputs": [
    {
     "data": {
      "text/plain": [
       "['H', 'llo Padam']"
      ]
     },
     "execution_count": 44,
     "metadata": {},
     "output_type": "execute_result"
    }
   ],
   "source": [
    "letter.split(\"e\")"
   ]
  },
  {
   "cell_type": "markdown",
   "id": "769b8b56",
   "metadata": {},
   "source": [
    "## Formatting String"
   ]
  },
  {
   "cell_type": "code",
   "execution_count": 48,
   "id": "683548cf",
   "metadata": {},
   "outputs": [
    {
     "name": "stdout",
     "output_type": "stream",
     "text": [
      "the quick brown fox\n"
     ]
    }
   ],
   "source": [
    "print(\"the {2} {1} {0}\" .format(\"fox\", \"brown\",\"quick\")) "
   ]
  },
  {
   "cell_type": "code",
   "execution_count": 49,
   "id": "207fc103",
   "metadata": {},
   "outputs": [
    {
     "name": "stdout",
     "output_type": "stream",
     "text": [
      "the quick brown fox\n"
     ]
    }
   ],
   "source": [
    "print(\"the {q} {b} {f}\" .format(f=\"fox\",b=\"brown\",q=\"quick\"))"
   ]
  },
  {
   "cell_type": "markdown",
   "id": "01d4eb77",
   "metadata": {},
   "source": [
    "## Float Formatting"
   ]
  },
  {
   "cell_type": "code",
   "execution_count": 63,
   "id": "f21c8d32",
   "metadata": {},
   "outputs": [],
   "source": [
    "result = 100/3"
   ]
  },
  {
   "cell_type": "code",
   "execution_count": 64,
   "id": "e6ead49a",
   "metadata": {},
   "outputs": [
    {
     "data": {
      "text/plain": [
       "33.333333333333336"
      ]
     },
     "execution_count": 64,
     "metadata": {},
     "output_type": "execute_result"
    }
   ],
   "source": [
    "result"
   ]
  },
  {
   "cell_type": "code",
   "execution_count": 66,
   "id": "1644a25f",
   "metadata": {},
   "outputs": [
    {
     "name": "stdout",
     "output_type": "stream",
     "text": [
      "The result is 33.33\n"
     ]
    }
   ],
   "source": [
    "print(\"The result is {r:1.2f}\" .format(r=result))"
   ]
  },
  {
   "cell_type": "code",
   "execution_count": 68,
   "id": "a61b7b5a",
   "metadata": {},
   "outputs": [
    {
     "name": "stdout",
     "output_type": "stream",
     "text": [
      "Hello this is 33.333333333333336\n"
     ]
    }
   ],
   "source": [
    "print(f\"Hello this is {result}\")"
   ]
  },
  {
   "cell_type": "code",
   "execution_count": 71,
   "id": "7ed13018",
   "metadata": {},
   "outputs": [
    {
     "name": "stdout",
     "output_type": "stream",
     "text": [
      "Python rules\n"
     ]
    }
   ],
   "source": [
    "print(\"Python {r}\".format(r = \"rules\"))"
   ]
  },
  {
   "cell_type": "code",
   "execution_count": null,
   "id": "6ab522c1",
   "metadata": {},
   "outputs": [],
   "source": []
  },
  {
   "cell_type": "code",
   "execution_count": null,
   "id": "437e7780",
   "metadata": {},
   "outputs": [],
   "source": []
  }
 ],
 "metadata": {
  "kernelspec": {
   "display_name": "Python 3 (ipykernel)",
   "language": "python",
   "name": "python3"
  },
  "language_info": {
   "codemirror_mode": {
    "name": "ipython",
    "version": 3
   },
   "file_extension": ".py",
   "mimetype": "text/x-python",
   "name": "python",
   "nbconvert_exporter": "python",
   "pygments_lexer": "ipython3",
   "version": "3.11.5"
  }
 },
 "nbformat": 4,
 "nbformat_minor": 5
}
