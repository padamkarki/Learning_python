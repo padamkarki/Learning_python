{
 "cells": [
  {
   "cell_type": "markdown",
   "id": "93ae5146",
   "metadata": {},
   "source": [
    "### Zero Matrix: \n",
    "Write an algorithm such that if an element in an MxN matrix is 0, its entire row and <br>\n",
    "column are set to O."
   ]
  },
  {
   "cell_type": "code",
   "execution_count": 8,
   "id": "60bed84d",
   "metadata": {},
   "outputs": [],
   "source": [
    "def zero_matrix(mat):\n",
    "    m = len(mat)\n",
    "    n = len(mat[0])\n",
    "    row_set = set()\n",
    "    col_set = set()\n",
    "    \n",
    "    for x in range(m):\n",
    "        for y in range(n):\n",
    "            if mat[x][y] == 0:\n",
    "                row_set.add(x)\n",
    "                col_set.add(y)\n",
    "    for x in range(m):\n",
    "        for y in range(n):\n",
    "            if (x in row_set) or (y in col_set):    # if x in row set then row of mat[x] and [all y] = 0\n",
    "                mat[x][y] = 0                       # if x in col set then col of mat[all x] and [y] = 0\n",
    "    \n",
    "    return mat\n",
    "    \n",
    "    \n",
    "#     row = len(mat)\n",
    "#     column = len(mat[0])\n",
    "#     matrix = []\n",
    "#     zero_found = False\n",
    "    \n",
    "#     for list in mat:\n",
    "#         for element in list:\n",
    "#             if element == 0:\n",
    "#                 zero_found = True\n",
    "#                 break\n",
    "#         if zero_found:\n",
    "#             break\n",
    "#     if zero_found:\n",
    "#         for r in range(row):\n",
    "#             n_row = [0] * column\n",
    "#             matrix.append(n_row)\n",
    "#         return matrix\n",
    "                    \n",
    "#     else:\n",
    "#         return mat\n"
   ]
  },
  {
   "cell_type": "code",
   "execution_count": 10,
   "id": "536eaf5f",
   "metadata": {},
   "outputs": [
    {
     "data": {
      "text/plain": [
       "[[1, 0, 3, 4], [0, 0, 0, 0], [7, 0, 9, 1]]"
      ]
     },
     "execution_count": 10,
     "metadata": {},
     "output_type": "execute_result"
    }
   ],
   "source": [
    "zero_matrix([[1, 2, 3, 4], [4, 0, 6, 4], [7, 8, 9, 1]])"
   ]
  },
  {
   "cell_type": "markdown",
   "id": "e9c3ae9b",
   "metadata": {},
   "source": [
    "### Alternative"
   ]
  },
  {
   "cell_type": "code",
   "execution_count": 24,
   "id": "1cd285bd",
   "metadata": {},
   "outputs": [],
   "source": [
    "# def zero_mat(mat):\n",
    "#     row = len(mat)\n",
    "#     column = len(mat[0])\n",
    "#     zero_found = any(0 in row for row in mat)\n",
    "    \n",
    "#     if zero_found:\n",
    "#         return [[0] * column for _ in range(row)]\n",
    "#     else:\n",
    "#         return mat\n",
    "    "
   ]
  },
  {
   "cell_type": "code",
   "execution_count": 26,
   "id": "f54619cc",
   "metadata": {},
   "outputs": [
    {
     "data": {
      "text/plain": [
       "[[1, 2, 3, 4], [4, 1, 6, 4], [7, 8, 9, 1]]"
      ]
     },
     "execution_count": 26,
     "metadata": {},
     "output_type": "execute_result"
    }
   ],
   "source": [
    "# zero_mat([[1, 2, 3, 4], [4, 1, 6, 4], [7, 8, 9, 1]])"
   ]
  },
  {
   "cell_type": "code",
   "execution_count": null,
   "id": "1df99381",
   "metadata": {},
   "outputs": [],
   "source": []
  }
 ],
 "metadata": {
  "kernelspec": {
   "display_name": "Python 3 (ipykernel)",
   "language": "python",
   "name": "python3"
  },
  "language_info": {
   "codemirror_mode": {
    "name": "ipython",
    "version": 3
   },
   "file_extension": ".py",
   "mimetype": "text/x-python",
   "name": "python",
   "nbconvert_exporter": "python",
   "pygments_lexer": "ipython3",
   "version": "3.11.5"
  }
 },
 "nbformat": 4,
 "nbformat_minor": 5
}
