{
 "cells": [
  {
   "cell_type": "markdown",
   "id": "15a3c53f",
   "metadata": {},
   "source": [
    "## Try and if no error - execute"
   ]
  },
  {
   "cell_type": "code",
   "execution_count": 1,
   "id": "025b365a",
   "metadata": {},
   "outputs": [
    {
     "name": "stdout",
     "output_type": "stream",
     "text": [
      "Add went well\n",
      "20\n"
     ]
    }
   ],
   "source": [
    "try :\n",
    "    # error could happen code\n",
    "    result = 10+10\n",
    "except:\n",
    "    print(\"Error happened\")\n",
    "else:\n",
    "    print(\"Add went well\")\n",
    "    print(result)"
   ]
  },
  {
   "cell_type": "markdown",
   "id": "c0ddd2f7",
   "metadata": {},
   "source": [
    "## Except - when errror occurs it executes"
   ]
  },
  {
   "cell_type": "code",
   "execution_count": 2,
   "id": "7479e2eb",
   "metadata": {},
   "outputs": [
    {
     "name": "stdout",
     "output_type": "stream",
     "text": [
      "Error happened\n"
     ]
    }
   ],
   "source": [
    "try :\n",
    "    # error could happen code\n",
    "    result = 10+\"10\"  ##            Error Code\n",
    "except:\n",
    "    print(\"Error happened\")\n",
    "else:\n",
    "    print(\"Add went well\")\n",
    "    print(result)"
   ]
  },
  {
   "cell_type": "markdown",
   "id": "8685ffde",
   "metadata": {},
   "source": [
    "## finally"
   ]
  },
  {
   "cell_type": "code",
   "execution_count": 7,
   "id": "29b5988c",
   "metadata": {},
   "outputs": [
    {
     "name": "stdout",
     "output_type": "stream",
     "text": [
      "I always run\n"
     ]
    }
   ],
   "source": [
    "try:\n",
    "    f = open(\"testfile\", \"w\")   # w = write mode / use \"r\" for error\n",
    "    f.write(\"Write a test file\")\n",
    "except TypeError:\n",
    "    print(\"There was a type error!\")\n",
    "except OSError:\n",
    "    print(\"Hey you have an OS Error\")\n",
    "finally:\n",
    "    print(\"I always run\")\n",
    "    "
   ]
  },
  {
   "cell_type": "code",
   "execution_count": 12,
   "id": "173c4573",
   "metadata": {},
   "outputs": [],
   "source": [
    "def ask_for_int():\n",
    "    while True:\n",
    "        try:\n",
    "            result = int(input(\"Please provide number: \"))\n",
    "        except:\n",
    "            print(\"Whoops! that is not a number\")\n",
    "            continue\n",
    "        else:\n",
    "            print(\"Yes thank you\")\n",
    "            break\n",
    "        finally:\n",
    "            print(\"End of try, except, finally\")\n",
    "            print(\"I always run\")"
   ]
  },
  {
   "cell_type": "code",
   "execution_count": 14,
   "id": "3ca67790",
   "metadata": {},
   "outputs": [
    {
     "name": "stdout",
     "output_type": "stream",
     "text": [
      "Please provide number: nbbkj\n",
      "Whoops! that is not a number\n",
      "End of try, except, finally\n",
      "I always run\n",
      "Please provide number: jkil\n",
      "Whoops! that is not a number\n",
      "End of try, except, finally\n",
      "I always run\n",
      "Please provide number: bh\n",
      "Whoops! that is not a number\n",
      "End of try, except, finally\n",
      "I always run\n",
      "Please provide number: 2051\n",
      "Yes thank you\n",
      "End of try, except, finally\n",
      "I always run\n"
     ]
    }
   ],
   "source": [
    "ask_for_int()"
   ]
  },
  {
   "cell_type": "code",
   "execution_count": null,
   "id": "51ee4c65",
   "metadata": {},
   "outputs": [],
   "source": []
  }
 ],
 "metadata": {
  "kernelspec": {
   "display_name": "Python 3 (ipykernel)",
   "language": "python",
   "name": "python3"
  },
  "language_info": {
   "codemirror_mode": {
    "name": "ipython",
    "version": 3
   },
   "file_extension": ".py",
   "mimetype": "text/x-python",
   "name": "python",
   "nbconvert_exporter": "python",
   "pygments_lexer": "ipython3",
   "version": "3.11.5"
  }
 },
 "nbformat": 4,
 "nbformat_minor": 5
}
