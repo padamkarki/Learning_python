{
 "cells": [
  {
   "cell_type": "markdown",
   "id": "0e3ff4bf",
   "metadata": {},
   "source": [
    "### Rotate Matrix:\n",
    "Given an image represented by an NxN matrix, where each pixel in the image is 4<br>\n",
    "bytes, write a method to rotate the image by 90 degrees. Can you do this in place?"
   ]
  },
  {
   "cell_type": "code",
   "execution_count": 7,
   "id": "be7690ee",
   "metadata": {},
   "outputs": [],
   "source": [
    "def rotate_matrix(mat):\n",
    "    n = len(mat)\n",
    "    for layer in range(n // 2):                     # n // 2 = 2, range is 0,1 and excluding 2\n",
    "        first , last = layer , n - layer - 1\n",
    "        \n",
    "        for i in range(first, last):                # for first (0,3)\n",
    "            #store top\n",
    "            top = mat[layer][i]\n",
    "            \n",
    "            #left to top\n",
    "            mat[layer][i] = mat[-i - 1][layer]\n",
    "            \n",
    "            #bottom to left\n",
    "            mat[-i - 1][layer] = mat[-layer - 1][-i - 1]\n",
    "            \n",
    "            #right to bottom\n",
    "            mat[-layer - 1][-i - 1] = mat[i][-layer - 1]\n",
    "            \n",
    "            #top to right\n",
    "            mat[i][-layer - 1] = top\n",
    "    return mat"
   ]
  },
  {
   "cell_type": "code",
   "execution_count": 8,
   "id": "90aa0932",
   "metadata": {},
   "outputs": [
    {
     "data": {
      "text/plain": [
       "[[7, 4, 1], [8, 5, 2], [9, 6, 3]]"
      ]
     },
     "execution_count": 8,
     "metadata": {},
     "output_type": "execute_result"
    }
   ],
   "source": [
    "rotate_matrix([[1, 2, 3], [4, 5, 6], [7, 8, 9]])"
   ]
  },
  {
   "cell_type": "markdown",
   "id": "dd440e12",
   "metadata": {},
   "source": [
    "### Easy answer\n",
    "\n",
    "1st transpose ij to ji<br>\n",
    "[00, 01, 02, 03]<br>\n",
    "[10, 11, 12, 13]<br>\n",
    "[20, 21, 22, 23]<br>\n",
    "<br>\n",
    "to<br>\n",
    "[00, 10, 20, 30]<br>\n",
    "[01, 11, 21, 31]<br>\n",
    "[02, 12, 22, 32]<br>\n",
    "\n",
    "2nd reverse whole rows\n"
   ]
  },
  {
   "cell_type": "code",
   "execution_count": 15,
   "id": "813d7ee1",
   "metadata": {},
   "outputs": [],
   "source": [
    "def rotate_matrix_swap_reverse(mat):        # mat 4 * 4\n",
    "    n = len(mat)                            # 4\n",
    "    for i in range(n):                      # upto 3\n",
    "        for j in range(i, n):               # i = 0, n = upto 3\n",
    "            temp = mat[i][j]\n",
    "            mat[i][j] = mat[j][i]           # swapping\n",
    "            mat[j][i] = temp\n",
    "    for i in range(n):                      # upto 3 (4 will be excluded)\n",
    "        for j in range(n//2):               # upto 0 and 1 (2 will be excluded) \n",
    "            temp = mat[i][j]                # i = row, j = column\n",
    "            mat[i][j] = mat[i][n-1-j]       # reversing  \n",
    "            mat[i][n-1-j] = temp\n",
    "            \n",
    "    return mat"
   ]
  },
  {
   "cell_type": "code",
   "execution_count": 16,
   "id": "beceb3dd",
   "metadata": {},
   "outputs": [
    {
     "data": {
      "text/plain": [
       "[[7, 4, 1], [8, 5, 2], [9, 6, 3]]"
      ]
     },
     "execution_count": 16,
     "metadata": {},
     "output_type": "execute_result"
    }
   ],
   "source": [
    "rotate_matrix_swap_reverse([[1, 2, 3], [4, 5, 6], [7, 8, 9]])"
   ]
  },
  {
   "cell_type": "code",
   "execution_count": null,
   "id": "59abfaca",
   "metadata": {},
   "outputs": [],
   "source": []
  }
 ],
 "metadata": {
  "kernelspec": {
   "display_name": "Python 3 (ipykernel)",
   "language": "python",
   "name": "python3"
  },
  "language_info": {
   "codemirror_mode": {
    "name": "ipython",
    "version": 3
   },
   "file_extension": ".py",
   "mimetype": "text/x-python",
   "name": "python",
   "nbconvert_exporter": "python",
   "pygments_lexer": "ipython3",
   "version": "3.11.5"
  }
 },
 "nbformat": 4,
 "nbformat_minor": 5
}
