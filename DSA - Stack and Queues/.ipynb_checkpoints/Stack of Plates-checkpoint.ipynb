{
 "cells": [
  {
   "cell_type": "markdown",
   "id": "d09346ab",
   "metadata": {},
   "source": [
    "### Stack of Plates: \n",
    "Imagine a (literal) stack of plates. If the stack gets too high, it might topple.<br>\n",
    "Therefore, in real life, we would likely start a new stack when the previous stack exceeds some<br>\n",
    "threshold. Implement a data structure SetOfStacks that mimics this. <br>\n",
    "SetOfStacks should be composed of several stacks and should create a new stack once the previous one exceeds capacity.<br>\n",
    "SetOfStacks. push () and SetOfStacks. pop () should behave identically to a single stack<br>\n",
    "(that is, pop ( ) should return the same values as it would if there were just a single stack).<br>\n",
    "<br>\n",
    "FOLLOW UP<br>\n",
    "Implement a function popAt (int index) which performs a pop operation on a specific sub-stack.<br>"
   ]
  },
  {
   "cell_type": "markdown",
   "id": "dd31f52d",
   "metadata": {},
   "source": [
    "#### my solution\n",
    "1 take input capacity<br>\n",
    "2 create array of capacity 0 * capacity<br>\n",
    "3 count no of stacks<br>\n",
    "4 update used size of counted stacks<br>\n",
    "5 store capacity<br>\n",
    "6 in push  - check if stack is full, if full append val and add ((0 * capacity)-1) to existing stack(go to 10 point)<br>\n",
    "7 in pop remove from arrays top[-1]<br>\n",
    "8 find index of top for each stack<br>\n",
    "9 popat fn will take input of stack no <br>\n",
    "10 check if every stack is full, if not push there<br>"
   ]
  },
  {
   "cell_type": "code",
   "execution_count": 10,
   "id": "11eb7ec6",
   "metadata": {},
   "outputs": [],
   "source": [
    "class StackOfPlates:\n",
    "    def __init__(self, capacity):\n",
    "        self.capacity = capacity\n",
    "        self.stacks =[[]]\n",
    "        self.used_size = [0]\n",
    "        \n",
    "    def index_top(self, st_index):\n",
    "        offset = st_index * self.capacity\n",
    "        return offset + self.used_size[st_index] - 1\n",
    "    \n",
    "    def isFull(self, st_index):\n",
    "        return self.used_size[st_index] == self.capacity\n",
    "    \n",
    "    def isEmpty(self, st_index):\n",
    "        return self.used_size[st_index] == 0\n",
    "    \n",
    "    def push(self, val):\n",
    "        if self.isFull(-1):\n",
    "            self.stacks.append([])\n",
    "            self.used_size.append(0)\n",
    "        \n",
    "        st_index = len(self.stacks) - 1\n",
    "        self.stacks[st_index].append(val)\n",
    "        self.used_size[st_index] += 1\n",
    "        \n",
    "    def pop(self):\n",
    "        if self.isEmpty(-1):\n",
    "            return None\n",
    "        \n",
    "        st_index = len(self.stacks) - 1\n",
    "        val = self.stacks[st_index].pop()\n",
    "        self.used_size[st_index] -= 1\n",
    "        \n",
    "        if self.isEmpty(st_index):\n",
    "            self.stacks.pop()\n",
    "            self.used_size.pop()\n",
    "        \n",
    "        return val\n",
    "    "
   ]
  },
  {
   "cell_type": "code",
   "execution_count": 13,
   "id": "0d407b50",
   "metadata": {},
   "outputs": [
    {
     "name": "stdout",
     "output_type": "stream",
     "text": [
      "Org stack\n",
      "[[10, 12], [9, 14], [4]]\n",
      "after pop\n",
      "[[10, 12], [9, 14]]\n",
      "after pop\n",
      "[[10, 12], [9]]\n"
     ]
    }
   ],
   "source": [
    "n_stack = StackOfPlates(2)\n",
    "n_stack.push(10)\n",
    "n_stack.push(12)\n",
    "n_stack.push(9)\n",
    "n_stack.push(14)\n",
    "n_stack.push(4)\n",
    "\n",
    "print(\"Org stack\")\n",
    "print(n_stack.stacks)\n",
    "\n",
    "n_stack.pop()\n",
    "print(\"after pop\")\n",
    "print(n_stack.stacks)\n",
    "\n",
    "n_stack.pop()\n",
    "print(\"after pop\")\n",
    "print(n_stack.stacks)\n"
   ]
  },
  {
   "cell_type": "code",
   "execution_count": null,
   "id": "0effe131",
   "metadata": {},
   "outputs": [],
   "source": []
  }
 ],
 "metadata": {
  "kernelspec": {
   "display_name": "Python 3 (ipykernel)",
   "language": "python",
   "name": "python3"
  },
  "language_info": {
   "codemirror_mode": {
    "name": "ipython",
    "version": 3
   },
   "file_extension": ".py",
   "mimetype": "text/x-python",
   "name": "python",
   "nbconvert_exporter": "python",
   "pygments_lexer": "ipython3",
   "version": "3.11.5"
  }
 },
 "nbformat": 4,
 "nbformat_minor": 5
}
