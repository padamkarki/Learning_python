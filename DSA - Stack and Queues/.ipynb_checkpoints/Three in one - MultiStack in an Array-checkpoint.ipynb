{
 "cells": [
  {
   "cell_type": "markdown",
   "id": "1305e447",
   "metadata": {},
   "source": [
    "### Three in One: \n",
    "\n",
    "Describe how you could use a single array to implement three stacks."
   ]
  },
  {
   "cell_type": "markdown",
   "id": "470a0818",
   "metadata": {},
   "source": [
    "1 inputs = stk(stack) size, number of stk    (fixed stk size, not flexible)<br>\n",
    "2 create array of full size (stk size multiply by no of stk)<br>\n",
    "3 create array to track count of used stk size(if no of stk is 3, then 3 items in array)<br>\n",
    "4 create push fn, pop fn, peek fn, isFull fn, isEmpty fn, indexoftop fn, valid stk num fn<br>"
   ]
  },
  {
   "cell_type": "code",
   "execution_count": 26,
   "id": "8f9f14bf",
   "metadata": {},
   "outputs": [],
   "source": [
    "class MultiStackError(Exception):\n",
    "    \"\"\"multistack operation error\"\"\"\n",
    "\n",
    "\n",
    "class StackFullError(MultiStackError):\n",
    "    \"\"\"the stack is full\"\"\"\n",
    "\n",
    "\n",
    "class StackEmptyError(MultiStackError):\n",
    "    \"\"\"the stack is empty\"\"\"\n",
    "\n",
    "\n",
    "class StackDoesNotExistError(MultiStackError):\n",
    "    \"\"\"stack does not exist\"\"\"\n",
    "\n",
    "class MultiStack:\n",
    "    \n",
    "    def __init__(self, stk_size, num_of_stks):\n",
    "        self.num_of_stks = num_of_stks\n",
    "        self.array = [0] * (stk_size * num_of_stks)\n",
    "        self.used_size = [0] * num_of_stks\n",
    "        self.stk_size = stk_size\n",
    "        \n",
    "    def valid_stk_num(self, stk_num):\n",
    "        if stk_num >= self.num_of_stks:\n",
    "            raise StackDoesNotExistError(f\"Stack #{stk_num} does not exist\")\n",
    "        \n",
    "    def index_of_top(self, stk_num):\n",
    "        self.valid_stk_num(stk_num)\n",
    "        offset = stk_num * self.stk_size\n",
    "        return offset + self.used_size[stk_num] - 1\n",
    "    \n",
    "    def isFull(self, stk_num):\n",
    "        self.valid_stk_num(stk_num)\n",
    "        return self.used_size[stk_num] == self.stk_size\n",
    "    \n",
    "    def isEmpty(self, stk_num):\n",
    "        self.valid_stk_num(stk_num)\n",
    "        return self.used_size[stk_num] == 0\n",
    "    \n",
    "    def push(self, value, stk_num):\n",
    "        self.valid_stk_num(stk_num)\n",
    "        if self.isFull(stk_num):\n",
    "            raise StackFullError(f\"The stack no #{stk_num} is full\")\n",
    "        self.used_size[stk_num] += 1\n",
    "        self.array[self.index_of_top(stk_num)] = value\n",
    "        \n",
    "    def pop(self, stk_num):\n",
    "        self.valid_stk_num(stk_num)\n",
    "        if self.isEmpty(stk_num):\n",
    "            raise StackEmptyError(f\"Cannot pop from empty stack #{stk_num}\")\n",
    "        value = self.array[self.index_of_top(stk_num)]\n",
    "        self.array[self.index_of_top(stk_num)] = 0\n",
    "        self.used_size[stk_num] -= 1\n",
    "        \n",
    "        return value\n",
    "    \n",
    "    def peek(self, stk_num):\n",
    "        self.valid_stk_num(stk_num)\n",
    "        return self.array[self.index_of_top(stk_num)]\n",
    "    \n",
    "    \n",
    "\n",
    "            "
   ]
  },
  {
   "cell_type": "code",
   "execution_count": 25,
   "id": "fe731f49",
   "metadata": {
    "scrolled": true
   },
   "outputs": [
    {
     "name": "stderr",
     "output_type": "stream",
     "text": [
      "......\n",
      "----------------------------------------------------------------------\n",
      "Ran 6 tests in 0.004s\n",
      "\n",
      "OK\n"
     ]
    },
    {
     "name": "stdout",
     "output_type": "stream",
     "text": [
      "Array after pushing elements:\n",
      "[1, 2, 0, 3, 0, 0]\n",
      "Array after popping elements:\n",
      "[0, 0, 0, 0, 0, 0]\n"
     ]
    },
    {
     "data": {
      "text/plain": [
       "<unittest.runner.TextTestResult run=6 errors=0 failures=0>"
      ]
     },
     "execution_count": 25,
     "metadata": {},
     "output_type": "execute_result"
    }
   ],
   "source": [
    "import unittest\n",
    "\n",
    "class TestMultiStack(unittest.TestCase):\n",
    "    \n",
    "    def test_push_pop_1(self):\n",
    "        ms = MultiStack(stk_size=3, num_of_stks=2)\n",
    "        ms.push(1, 0)\n",
    "        ms.push(2, 0)\n",
    "        ms.push(3, 1)\n",
    "\n",
    "        print(\"Array after pushing elements:\")\n",
    "        print(ms.array)\n",
    "\n",
    "        self.assertEqual(ms.pop(0), 2)\n",
    "        self.assertEqual(ms.pop(1), 3)\n",
    "        self.assertEqual(ms.pop(0), 1)\n",
    "\n",
    "        print(\"Array after popping elements:\")\n",
    "        print(ms.array)\n",
    "\n",
    "    def test_push_pop(self):\n",
    "        ms = MultiStack(stk_size=3, num_of_stks=2)\n",
    "        ms.push(1, 0)\n",
    "        ms.push(2, 0)\n",
    "        ms.push(3, 1)\n",
    "\n",
    "        self.assertEqual(ms.pop(0), 2)\n",
    "        self.assertEqual(ms.pop(1), 3)\n",
    "        self.assertEqual(ms.pop(0), 1)\n",
    "\n",
    "    def test_peek(self):\n",
    "        ms = MultiStack(stk_size=3, num_of_stks=2)\n",
    "        ms.push(10, 0)\n",
    "        ms.push(20, 1)\n",
    "\n",
    "        self.assertEqual(ms.peek(0), 10)\n",
    "        self.assertEqual(ms.peek(1), 20)\n",
    "\n",
    "    def test_stack_full(self):\n",
    "        ms = MultiStack(stk_size=2, num_of_stks=2)\n",
    "        ms.push(1, 0)\n",
    "        ms.push(2, 0)\n",
    "\n",
    "        with self.assertRaises(StackFullError):\n",
    "            ms.push(3, 0)\n",
    "\n",
    "    def test_stack_empty(self):\n",
    "        ms = MultiStack(stk_size=2, num_of_stks=2)\n",
    "\n",
    "        with self.assertRaises(StackEmptyError):\n",
    "            ms.pop(0)\n",
    "\n",
    "    def test_invalid_stack_num(self):\n",
    "        ms = MultiStack(stk_size=2, num_of_stks=2)\n",
    "\n",
    "        with self.assertRaises(StackDoesNotExistError):\n",
    "            ms.push(1, 2)\n",
    "\n",
    "# Create the test suite\n",
    "test_suite = unittest.TestLoader().loadTestsFromTestCase(TestMultiStack)\n",
    "\n",
    "# Run the tests\n",
    "unittest.TextTestRunner().run(test_suite)"
   ]
  },
  {
   "cell_type": "code",
   "execution_count": null,
   "id": "230b3b74",
   "metadata": {},
   "outputs": [],
   "source": []
  }
 ],
 "metadata": {
  "kernelspec": {
   "display_name": "Python 3 (ipykernel)",
   "language": "python",
   "name": "python3"
  },
  "language_info": {
   "codemirror_mode": {
    "name": "ipython",
    "version": 3
   },
   "file_extension": ".py",
   "mimetype": "text/x-python",
   "name": "python",
   "nbconvert_exporter": "python",
   "pygments_lexer": "ipython3",
   "version": "3.11.5"
  }
 },
 "nbformat": 4,
 "nbformat_minor": 5
}
