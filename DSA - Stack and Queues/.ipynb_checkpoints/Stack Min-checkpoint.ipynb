{
 "cells": [
  {
   "cell_type": "markdown",
   "id": "b210d9ae",
   "metadata": {},
   "source": [
    "### Stack Min:\n",
    "How would you design a stack which, in addition to push and pop, has a function min <br>\n",
    "which returns the minimum element? Push, pop and min should all operate in 0(1) time. <br>"
   ]
  },
  {
   "cell_type": "markdown",
   "id": "a4f0c2b2",
   "metadata": {},
   "source": [
    "#### My Solution\n",
    "1 create a array<br>\n",
    "2 create counter for len<br>\n",
    "3 create min array to store min val<br>\n",
    "4 when pushing, check if new val is less than existing val in min, if yes, append to min<br>\n",
    "5 when poping if popped min val, pop it from min array too<br>\n",
    "6 for min fn access min[-1]"
   ]
  },
  {
   "cell_type": "code",
   "execution_count": 30,
   "id": "32b6af9a",
   "metadata": {},
   "outputs": [],
   "source": [
    "class MinStack:\n",
    "    def __init__(self):\n",
    "        self.stack_array = []\n",
    "        self.min_array = []\n",
    "        \n",
    "    def push(self, val):\n",
    "        if len(self.min_array) == 0 or val < self.min_array[-1]:\n",
    "            self.min_array.append(val)\n",
    "        self.stack_array.append(val)\n",
    "            \n",
    "    def pop(self):\n",
    "        if self.stack_array[-1] == self.min_array[-1]:\n",
    "            self.min_array.pop()\n",
    "        value = self.stack_array[-1]\n",
    "        self.stack_array.pop()\n",
    "        return value\n",
    "    \n",
    "    def min_of_stack(self):\n",
    "        print(f\"Minimum is: {self.min_array[-1]}\")\n",
    "        return self.min_array[-1]\n",
    "        \n",
    "\n",
    "        "
   ]
  },
  {
   "cell_type": "code",
   "execution_count": 33,
   "id": "51877de3",
   "metadata": {},
   "outputs": [
    {
     "name": "stdout",
     "output_type": "stream",
     "text": [
      "Org stack\n",
      "[2, 3, 1, 0, 4]\n",
      "[2, 1, 0]\n",
      "Minimum is: 0\n",
      "After pop\n",
      "[2, 3, 1, 0]\n",
      "[2, 1, 0]\n",
      "Minimum is: 0\n",
      "After pop\n",
      "[2, 3, 1]\n",
      "[2, 1]\n",
      "Minimum is: 1\n",
      "After pop\n",
      "[2, 3]\n",
      "[2]\n",
      "Minimum is: 2\n"
     ]
    },
    {
     "data": {
      "text/plain": [
       "2"
      ]
     },
     "execution_count": 33,
     "metadata": {},
     "output_type": "execute_result"
    }
   ],
   "source": [
    "n_stack = MinStack()\n",
    "n_stack.push(2)\n",
    "n_stack.push(3)\n",
    "n_stack.push(1)\n",
    "n_stack.push(0)\n",
    "n_stack.push(4)\n",
    "\n",
    "print(\"Org stack\")\n",
    "print(n_stack.stack_array)\n",
    "print(n_stack.min_array)\n",
    "n_stack.min_of_stack()\n",
    "\n",
    "n_stack.pop()\n",
    "print(\"After pop\")\n",
    "print(n_stack.stack_array)\n",
    "print(n_stack.min_array)\n",
    "n_stack.min_of_stack()\n",
    "\n",
    "n_stack.pop()\n",
    "print(\"After pop\")\n",
    "print(n_stack.stack_array)\n",
    "print(n_stack.min_array)\n",
    "n_stack.min_of_stack()\n",
    "\n",
    "n_stack.pop()\n",
    "print(\"After pop\")\n",
    "print(n_stack.stack_array)\n",
    "print(n_stack.min_array)\n",
    "n_stack.min_of_stack()"
   ]
  },
  {
   "cell_type": "code",
   "execution_count": null,
   "id": "e82f3ea5",
   "metadata": {},
   "outputs": [],
   "source": []
  }
 ],
 "metadata": {
  "kernelspec": {
   "display_name": "Python 3 (ipykernel)",
   "language": "python",
   "name": "python3"
  },
  "language_info": {
   "codemirror_mode": {
    "name": "ipython",
    "version": 3
   },
   "file_extension": ".py",
   "mimetype": "text/x-python",
   "name": "python",
   "nbconvert_exporter": "python",
   "pygments_lexer": "ipython3",
   "version": "3.11.5"
  }
 },
 "nbformat": 4,
 "nbformat_minor": 5
}
