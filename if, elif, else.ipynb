{
 "cells": [
  {
   "cell_type": "code",
   "execution_count": 3,
   "id": "e23a7d2f",
   "metadata": {},
   "outputs": [
    {
     "name": "stdout",
     "output_type": "stream",
     "text": [
      "Its true\n"
     ]
    }
   ],
   "source": [
    "if True:\n",
    "    print(\"Its true\")\n",
    "else:\n",
    "    print(\"Its false\")"
   ]
  },
  {
   "cell_type": "code",
   "execution_count": 8,
   "id": "b9cae59b",
   "metadata": {},
   "outputs": [
    {
     "name": "stdout",
     "output_type": "stream",
     "text": [
      "Who are you?\n"
     ]
    }
   ],
   "source": [
    "name = \"Padam\"\n",
    "\n",
    "if name == \"Sam\":\n",
    "    print(\"Hi, Sam\")\n",
    "elif name  == \"Ganesh\":\n",
    "    print(\"Hi, Ganesh\")\n",
    "else:\n",
    "    print(\"Who are you?\")"
   ]
  },
  {
   "cell_type": "code",
   "execution_count": null,
   "id": "e0a3fb5c",
   "metadata": {},
   "outputs": [],
   "source": []
  }
 ],
 "metadata": {
  "kernelspec": {
   "display_name": "Python 3 (ipykernel)",
   "language": "python",
   "name": "python3"
  },
  "language_info": {
   "codemirror_mode": {
    "name": "ipython",
    "version": 3
   },
   "file_extension": ".py",
   "mimetype": "text/x-python",
   "name": "python",
   "nbconvert_exporter": "python",
   "pygments_lexer": "ipython3",
   "version": "3.11.5"
  }
 },
 "nbformat": 4,
 "nbformat_minor": 5
}
