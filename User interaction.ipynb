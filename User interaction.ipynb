{
 "cells": [
  {
   "cell_type": "code",
   "execution_count": 1,
   "id": "cfe4b970",
   "metadata": {},
   "outputs": [],
   "source": [
    "game_list = [1,2,3]"
   ]
  },
  {
   "cell_type": "code",
   "execution_count": 2,
   "id": "aefe2bd1",
   "metadata": {},
   "outputs": [],
   "source": [
    "def display(game_list):\n",
    "    print(\"Here is the current list: \")\n",
    "    print(game_list)"
   ]
  },
  {
   "cell_type": "code",
   "execution_count": 4,
   "id": "582da100",
   "metadata": {},
   "outputs": [
    {
     "name": "stdout",
     "output_type": "stream",
     "text": [
      "Here is the current list: \n",
      "[1, 2, 3]\n"
     ]
    }
   ],
   "source": [
    "display(game_list)"
   ]
  },
  {
   "cell_type": "code",
   "execution_count": 5,
   "id": "607620fa",
   "metadata": {},
   "outputs": [],
   "source": [
    "def position_choice():\n",
    "    choice = \"Wrong\"\n",
    "    acceptable_choice = [\"0\",\"1\",\"2\"]\n",
    "    \n",
    "    while choice not in acceptable_choice:\n",
    "        choice = input(\"Please enter valid choice(1,2,3): \")\n",
    "        \n",
    "        if choice not in acceptable_choice:\n",
    "            print(\"Sorry, invalid choice!\")\n",
    "            \n",
    "    return int(choice)\n",
    "    "
   ]
  },
  {
   "cell_type": "code",
   "execution_count": 6,
   "id": "735e9a90",
   "metadata": {
    "scrolled": false
   },
   "outputs": [
    {
     "name": "stdout",
     "output_type": "stream",
     "text": [
      "Please enter valid choice(1,2,3): 1\n"
     ]
    },
    {
     "data": {
      "text/plain": [
       "1"
      ]
     },
     "execution_count": 6,
     "metadata": {},
     "output_type": "execute_result"
    }
   ],
   "source": [
    "position_choice()"
   ]
  },
  {
   "cell_type": "code",
   "execution_count": 7,
   "id": "c8eaa19d",
   "metadata": {},
   "outputs": [],
   "source": [
    "def replacement(game_list, pos):\n",
    "    user_placement = input(\"Please enter a string at position: \")\n",
    "    game_list[pos] = user_placement\n",
    "    \n",
    "    return game_list\n",
    "    "
   ]
  },
  {
   "cell_type": "code",
   "execution_count": 10,
   "id": "e5af0f99",
   "metadata": {},
   "outputs": [
    {
     "name": "stdout",
     "output_type": "stream",
     "text": [
      "Please enter a string at position: b\n"
     ]
    },
    {
     "data": {
      "text/plain": [
       "[1, 'b', 3]"
      ]
     },
     "execution_count": 10,
     "metadata": {},
     "output_type": "execute_result"
    }
   ],
   "source": [
    "replacement(game_list, 1)"
   ]
  },
  {
   "cell_type": "code",
   "execution_count": 11,
   "id": "ebb309ad",
   "metadata": {},
   "outputs": [],
   "source": [
    "def gameon_choice():\n",
    "    choice = \"Wrong\"\n",
    "    acceptable_choice = [\"Y\",\"N\"]\n",
    "    \n",
    "    while choice not in acceptable_choice:\n",
    "        choice = input(\"Keep Playing (Y or N): \")\n",
    "        \n",
    "        if choice not in acceptable_choice:\n",
    "            print(\"Sorry, I dont Understand, please choose Y or N\")\n",
    "            \n",
    "    if choice == \"Y\":\n",
    "        return True\n",
    "    else:\n",
    "        return False"
   ]
  },
  {
   "cell_type": "code",
   "execution_count": 12,
   "id": "b6ff67e4",
   "metadata": {},
   "outputs": [
    {
     "name": "stdout",
     "output_type": "stream",
     "text": [
      "Keep Playing (Y or N): Y\n"
     ]
    },
    {
     "data": {
      "text/plain": [
       "True"
      ]
     },
     "execution_count": 12,
     "metadata": {},
     "output_type": "execute_result"
    }
   ],
   "source": [
    "gameon_choice()"
   ]
  },
  {
   "cell_type": "markdown",
   "id": "a8da26ad",
   "metadata": {},
   "source": [
    "## Complie"
   ]
  },
  {
   "cell_type": "code",
   "execution_count": 13,
   "id": "0f491fde",
   "metadata": {},
   "outputs": [
    {
     "name": "stdout",
     "output_type": "stream",
     "text": [
      "Here is the current list: \n",
      "[0, 1, 2]\n",
      "Please enter valid choice(1,2,3): 1\n",
      "Please enter a string at position: Padam\n",
      "Here is the current list: \n",
      "[0, 'Padam', 2]\n",
      "Keep Playing (Y or N): Y\n",
      "Here is the current list: \n",
      "[0, 'Padam', 2]\n",
      "Please enter valid choice(1,2,3): 2\n",
      "Please enter a string at position: Vikram\n",
      "Here is the current list: \n",
      "[0, 'Padam', 'Vikram']\n",
      "Keep Playing (Y or N): Y\n",
      "Here is the current list: \n",
      "[0, 'Padam', 'Vikram']\n",
      "Please enter valid choice(1,2,3): 0\n",
      "Please enter a string at position: Ganesh\n",
      "Here is the current list: \n",
      "['Ganesh', 'Padam', 'Vikram']\n",
      "Keep Playing (Y or N): Y\n",
      "Here is the current list: \n",
      "['Ganesh', 'Padam', 'Vikram']\n",
      "Please enter valid choice(1,2,3): as\n",
      "Sorry, invalid choice!\n",
      "Please enter valid choice(1,2,3): 45\n",
      "Sorry, invalid choice!\n",
      "Please enter valid choice(1,2,3): 1\n",
      "Please enter a string at position: Padam\n",
      "Here is the current list: \n",
      "['Ganesh', 'Padam', 'Vikram']\n",
      "Keep Playing (Y or N): N\n"
     ]
    }
   ],
   "source": [
    "game_on = True\n",
    "game_list = [0,1,2]\n",
    "\n",
    "while game_on:\n",
    "    display(game_list)\n",
    "    position = position_choice()\n",
    "    game_list = replacement(game_list,position)\n",
    "    display(game_list)\n",
    "    game_on = gameon_choice()"
   ]
  },
  {
   "cell_type": "code",
   "execution_count": null,
   "id": "44a54929",
   "metadata": {},
   "outputs": [],
   "source": []
  }
 ],
 "metadata": {
  "kernelspec": {
   "display_name": "Python 3 (ipykernel)",
   "language": "python",
   "name": "python3"
  },
  "language_info": {
   "codemirror_mode": {
    "name": "ipython",
    "version": 3
   },
   "file_extension": ".py",
   "mimetype": "text/x-python",
   "name": "python",
   "nbconvert_exporter": "python",
   "pygments_lexer": "ipython3",
   "version": "3.11.5"
  }
 },
 "nbformat": 4,
 "nbformat_minor": 5
}
