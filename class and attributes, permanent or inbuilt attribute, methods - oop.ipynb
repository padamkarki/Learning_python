{
 "cells": [
  {
   "cell_type": "code",
   "execution_count": 105,
   "id": "a2d96347",
   "metadata": {},
   "outputs": [],
   "source": [
    "class Dog():\n",
    "    \n",
    "    #permanent attribute or inbuilt attribute, cannot be changed by parameter\n",
    "    #Class object attribute\n",
    "    species = \"mammals\"\n",
    "    \n",
    "    # - __init__ is special method(constructor)\n",
    "    def __init__(self, breed,  name, spots):\n",
    "        \n",
    "        #self = keyword for accessing data from this class\n",
    "        #self.breed = here breed is now attribute name\n",
    "        #= breed = here breed is parameter value, which is assigned to .breed attribute in your object class\n",
    "        self.breed = breed\n",
    "        self.name = name\n",
    "        \n",
    "        #expect boolean\n",
    "        self.spots = spots\n",
    "    \n",
    "    # methods - Operations/ Actions\n",
    "    def barks(self):  #self keyword is required\n",
    "        print(\"Wooof \" + self.name)\n",
    "    \n",
    "    def name_number(self, number):  #number should be provided when calling this method\n",
    "        print(f\"Wooof {self.name} {number}\")"
   ]
  },
  {
   "cell_type": "code",
   "execution_count": 96,
   "id": "31fe9a5f",
   "metadata": {},
   "outputs": [],
   "source": [
    "my_dog = Dog(\"Lab\", \"YOYO\", True)"
   ]
  },
  {
   "cell_type": "code",
   "execution_count": 97,
   "id": "7f6608fc",
   "metadata": {},
   "outputs": [
    {
     "data": {
      "text/plain": [
       "__main__.Dog"
      ]
     },
     "execution_count": 97,
     "metadata": {},
     "output_type": "execute_result"
    }
   ],
   "source": [
    "type(my_dog)"
   ]
  },
  {
   "cell_type": "code",
   "execution_count": 98,
   "id": "86a1b66e",
   "metadata": {},
   "outputs": [
    {
     "name": "stdout",
     "output_type": "stream",
     "text": [
      "Lab\n"
     ]
    }
   ],
   "source": [
    "print(my_dog.breed)"
   ]
  },
  {
   "cell_type": "code",
   "execution_count": 99,
   "id": "c133617b",
   "metadata": {},
   "outputs": [
    {
     "data": {
      "text/plain": [
       "'Lab'"
      ]
     },
     "execution_count": 99,
     "metadata": {},
     "output_type": "execute_result"
    }
   ],
   "source": [
    "my_dog.breed"
   ]
  },
  {
   "cell_type": "code",
   "execution_count": 100,
   "id": "1bf88cb1",
   "metadata": {},
   "outputs": [
    {
     "data": {
      "text/plain": [
       "'YOYO'"
      ]
     },
     "execution_count": 100,
     "metadata": {},
     "output_type": "execute_result"
    }
   ],
   "source": [
    "my_dog.name"
   ]
  },
  {
   "cell_type": "code",
   "execution_count": 101,
   "id": "942eb923",
   "metadata": {},
   "outputs": [
    {
     "data": {
      "text/plain": [
       "True"
      ]
     },
     "execution_count": 101,
     "metadata": {},
     "output_type": "execute_result"
    }
   ],
   "source": [
    "my_dog.spots"
   ]
  },
  {
   "cell_type": "code",
   "execution_count": 102,
   "id": "63af3bec",
   "metadata": {},
   "outputs": [
    {
     "data": {
      "text/plain": [
       "'mammals'"
      ]
     },
     "execution_count": 102,
     "metadata": {},
     "output_type": "execute_result"
    }
   ],
   "source": [
    "my_dog.species"
   ]
  },
  {
   "cell_type": "code",
   "execution_count": 103,
   "id": "d8101bd6",
   "metadata": {},
   "outputs": [
    {
     "name": "stdout",
     "output_type": "stream",
     "text": [
      "Wooof YOYO\n"
     ]
    }
   ],
   "source": [
    "my_dog.barks()"
   ]
  },
  {
   "cell_type": "code",
   "execution_count": 104,
   "id": "addab478",
   "metadata": {},
   "outputs": [
    {
     "name": "stdout",
     "output_type": "stream",
     "text": [
      "Wooof YOYO 12\n"
     ]
    }
   ],
   "source": [
    "my_dog.name_number(12)"
   ]
  },
  {
   "cell_type": "markdown",
   "id": "2eaed8c8",
   "metadata": {},
   "source": [
    "## Methods"
   ]
  },
  {
   "cell_type": "code",
   "execution_count": 112,
   "id": "92c15a55",
   "metadata": {},
   "outputs": [],
   "source": [
    "class Circle():\n",
    "    pi = 3.14\n",
    "    \n",
    "    def __init__(self, radius = 1):\n",
    "        self.radius = radius\n",
    "        self.area = radius * radius * Circle.pi      #object attribut alternative prefered\n",
    "    \n",
    "    def get_circum(self):\n",
    "        return self.radius * Circle.pi * 2"
   ]
  },
  {
   "cell_type": "code",
   "execution_count": 113,
   "id": "b5c52294",
   "metadata": {},
   "outputs": [],
   "source": [
    "my_circle = Circle(30)"
   ]
  },
  {
   "cell_type": "code",
   "execution_count": 114,
   "id": "f8903bda",
   "metadata": {},
   "outputs": [
    {
     "data": {
      "text/plain": [
       "3.14"
      ]
     },
     "execution_count": 114,
     "metadata": {},
     "output_type": "execute_result"
    }
   ],
   "source": [
    "my_circle.pi"
   ]
  },
  {
   "cell_type": "code",
   "execution_count": 115,
   "id": "e3bd0bad",
   "metadata": {},
   "outputs": [
    {
     "data": {
      "text/plain": [
       "2826.0"
      ]
     },
     "execution_count": 115,
     "metadata": {},
     "output_type": "execute_result"
    }
   ],
   "source": [
    "my_circle.area"
   ]
  },
  {
   "cell_type": "code",
   "execution_count": 116,
   "id": "8ba62771",
   "metadata": {},
   "outputs": [
    {
     "data": {
      "text/plain": [
       "188.4"
      ]
     },
     "execution_count": 116,
     "metadata": {},
     "output_type": "execute_result"
    }
   ],
   "source": [
    "my_circle.get_circum()"
   ]
  },
  {
   "cell_type": "code",
   "execution_count": null,
   "id": "63345526",
   "metadata": {},
   "outputs": [],
   "source": []
  },
  {
   "cell_type": "code",
   "execution_count": null,
   "id": "73f440ae",
   "metadata": {},
   "outputs": [],
   "source": []
  }
 ],
 "metadata": {
  "kernelspec": {
   "display_name": "Python 3 (ipykernel)",
   "language": "python",
   "name": "python3"
  },
  "language_info": {
   "codemirror_mode": {
    "name": "ipython",
    "version": 3
   },
   "file_extension": ".py",
   "mimetype": "text/x-python",
   "name": "python",
   "nbconvert_exporter": "python",
   "pygments_lexer": "ipython3",
   "version": "3.11.5"
  }
 },
 "nbformat": 4,
 "nbformat_minor": 5
}
