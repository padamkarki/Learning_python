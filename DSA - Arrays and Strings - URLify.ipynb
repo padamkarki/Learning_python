{
 "cells": [
  {
   "cell_type": "markdown",
   "id": "c9ca7da7",
   "metadata": {},
   "source": [
    "### URLify: \n",
    "Write a method to replace all spaces in a string with '%20: You may assume that the string\n",
    "has sufficient space at the end to hold the additional characters, and that you are given the \"true\"\n",
    "length of the string. (Note: If implementing in Java, please use a character array so that you can\n",
    "perform this operation in place.)\n",
    "\n",
    "EXAMPLE\n",
    "Input: \"Mr John Smith    \", 13\n",
    "\n",
    "Output: \"Mr%20John%20Smith\"\n",
    "\n",
    "Hints: #53, #118"
   ]
  },
  {
   "cell_type": "code",
   "execution_count": 34,
   "id": "acb276bd",
   "metadata": {},
   "outputs": [],
   "source": [
    "def url_ifelse(string,num):\n",
    "    n_string = \"\"\n",
    "    for char in string[:num]:\n",
    "        if char == \" \":\n",
    "            n_string += \"%20\"\n",
    "        else:\n",
    "            n_string += char\n",
    "    \n",
    "    return n_string"
   ]
  },
  {
   "cell_type": "code",
   "execution_count": 35,
   "id": "7fd63ff0",
   "metadata": {},
   "outputs": [
    {
     "data": {
      "text/plain": [
       "'Mr%20John%20Smith'"
      ]
     },
     "execution_count": 35,
     "metadata": {},
     "output_type": "execute_result"
    }
   ],
   "source": [
    "url_ifelse(\"Mr John Smith    \", 13)"
   ]
  },
  {
   "cell_type": "markdown",
   "id": "4efdf2f8",
   "metadata": {},
   "source": [
    "### Using List"
   ]
  },
  {
   "cell_type": "code",
   "execution_count": 36,
   "id": "f65ee865",
   "metadata": {},
   "outputs": [],
   "source": [
    "def url_list(string,num):\n",
    "    \n",
    "    n_string_list = []\n",
    "    \n",
    "    for char in string[:num]:\n",
    "        if char == \" \":\n",
    "            n_string_list.extend(\"%20\")\n",
    "        else:\n",
    "            n_string_list.extend(char)\n",
    "    \n",
    "    n_string = \"\".join(n_string_list)\n",
    "    \n",
    "    return n_string"
   ]
  },
  {
   "cell_type": "code",
   "execution_count": 37,
   "id": "f1af51eb",
   "metadata": {},
   "outputs": [
    {
     "data": {
      "text/plain": [
       "'Mr%20John%20Smith'"
      ]
     },
     "execution_count": 37,
     "metadata": {},
     "output_type": "execute_result"
    }
   ],
   "source": [
    "url_list(\"Mr John Smith    \", 13)"
   ]
  },
  {
   "cell_type": "markdown",
   "id": "cc0c43eb",
   "metadata": {},
   "source": [
    "### Replace method"
   ]
  },
  {
   "cell_type": "code",
   "execution_count": 38,
   "id": "26b059fa",
   "metadata": {},
   "outputs": [],
   "source": [
    "def url_rplc(string, num):\n",
    "    return string[:num].replace(\" \", \"%20\")"
   ]
  },
  {
   "cell_type": "code",
   "execution_count": 39,
   "id": "904f3d10",
   "metadata": {},
   "outputs": [
    {
     "data": {
      "text/plain": [
       "'Mr%20John%20Smith'"
      ]
     },
     "execution_count": 39,
     "metadata": {},
     "output_type": "execute_result"
    }
   ],
   "source": [
    "url_rplc(\"Mr John Smith    \", 13)"
   ]
  },
  {
   "cell_type": "code",
   "execution_count": null,
   "id": "f8c3896f",
   "metadata": {},
   "outputs": [],
   "source": []
  }
 ],
 "metadata": {
  "kernelspec": {
   "display_name": "Python 3 (ipykernel)",
   "language": "python",
   "name": "python3"
  },
  "language_info": {
   "codemirror_mode": {
    "name": "ipython",
    "version": 3
   },
   "file_extension": ".py",
   "mimetype": "text/x-python",
   "name": "python",
   "nbconvert_exporter": "python",
   "pygments_lexer": "ipython3",
   "version": "3.11.5"
  }
 },
 "nbformat": 4,
 "nbformat_minor": 5
}
