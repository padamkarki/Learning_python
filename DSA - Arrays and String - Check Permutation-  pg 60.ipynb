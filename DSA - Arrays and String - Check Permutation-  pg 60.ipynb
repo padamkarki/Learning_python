{
 "cells": [
  {
   "cell_type": "markdown",
   "id": "9fe09d5b",
   "metadata": {},
   "source": [
    "### 1.2 Check Permutation: \n",
    "Given two strings, write a method to decide if one is a permutation of the other.\n",
    "Hints: #7, #84, #722, #737"
   ]
  },
  {
   "cell_type": "code",
   "execution_count": 1,
   "id": "c54a5434",
   "metadata": {},
   "outputs": [],
   "source": [
    "def check_permu(a,b):\n",
    "    \n",
    "    if len(a)!= len(b):\n",
    "        return False\n",
    "    \n",
    "    a = a.lower()\n",
    "    b = b.lower()\n",
    "    s = list(a)\n",
    "    \n",
    "    print(s)\n",
    "    print(a)\n",
    "    print(b)\n",
    "    \n",
    "    for char in b:\n",
    "        if char in s:\n",
    "            s.remove(char)\n",
    "    if s != []:\n",
    "        return False\n",
    "    \n",
    "    return True"
   ]
  },
  {
   "cell_type": "code",
   "execution_count": 2,
   "id": "61597a08",
   "metadata": {},
   "outputs": [
    {
     "name": "stdout",
     "output_type": "stream",
     "text": [
      "['l', 'i', 's', 't', 'e', 'n']\n",
      "listen\n",
      "silent\n"
     ]
    },
    {
     "data": {
      "text/plain": [
       "True"
      ]
     },
     "execution_count": 2,
     "metadata": {},
     "output_type": "execute_result"
    }
   ],
   "source": [
    "check_permu(\"listen\", \"silent\")"
   ]
  },
  {
   "cell_type": "code",
   "execution_count": 3,
   "id": "f5f7b656",
   "metadata": {},
   "outputs": [
    {
     "name": "stdout",
     "output_type": "stream",
     "text": [
      "['h', 'e', 'l', 'l', 'o']\n",
      "hello\n",
      "world\n"
     ]
    },
    {
     "data": {
      "text/plain": [
       "False"
      ]
     },
     "execution_count": 3,
     "metadata": {},
     "output_type": "execute_result"
    }
   ],
   "source": [
    "check_permu(\"Hello\", \"World\")"
   ]
  },
  {
   "cell_type": "code",
   "execution_count": 4,
   "id": "41dc7e39",
   "metadata": {},
   "outputs": [
    {
     "name": "stdout",
     "output_type": "stream",
     "text": [
      "['p', 'a', 'd', 'a', 'm']\n",
      "padam\n",
      "madap\n"
     ]
    },
    {
     "data": {
      "text/plain": [
       "True"
      ]
     },
     "execution_count": 4,
     "metadata": {},
     "output_type": "execute_result"
    }
   ],
   "source": [
    "check_permu(\"Padam\", \"madap\")"
   ]
  },
  {
   "cell_type": "code",
   "execution_count": 5,
   "id": "04ba7f52",
   "metadata": {},
   "outputs": [
    {
     "data": {
      "text/plain": [
       "False"
      ]
     },
     "execution_count": 5,
     "metadata": {},
     "output_type": "execute_result"
    }
   ],
   "source": [
    "check_permu(\"Padamm\", \"madap\")"
   ]
  },
  {
   "cell_type": "markdown",
   "id": "ab1c7d56",
   "metadata": {},
   "source": [
    "### using dictionary"
   ]
  },
  {
   "cell_type": "code",
   "execution_count": 6,
   "id": "acf49d8f",
   "metadata": {},
   "outputs": [],
   "source": [
    "def check_permu_dict(a,b):\n",
    "    if len(a)!= len(b):\n",
    "        return False\n",
    "    \n",
    "    char_count = {}\n",
    "    \n",
    "    #counting\n",
    "    for char in a:\n",
    "        char_count[char] = char_count.get(char, 0) + 1     # .get(keyname, default value if not exist)\n",
    "        \n",
    "    \n",
    "    #cross checking count\n",
    "    for char in b:\n",
    "        if char not in char_count or char_count[char] == 0:   #if not in dict | if count of that char already 0 after subtracting previous chars\n",
    "            return False\n",
    "        char_count[char] -= 1                                 # reducing count for that character\n",
    "    return True"
   ]
  },
  {
   "cell_type": "code",
   "execution_count": 7,
   "id": "2119858b",
   "metadata": {},
   "outputs": [
    {
     "data": {
      "text/plain": [
       "True"
      ]
     },
     "execution_count": 7,
     "metadata": {},
     "output_type": "execute_result"
    }
   ],
   "source": [
    "check_permu_dict(\"listen\", \"silent\")"
   ]
  },
  {
   "cell_type": "code",
   "execution_count": 8,
   "id": "94fe8413",
   "metadata": {},
   "outputs": [
    {
     "data": {
      "text/plain": [
       "True"
      ]
     },
     "execution_count": 8,
     "metadata": {},
     "output_type": "execute_result"
    }
   ],
   "source": [
    "check_permu_dict(\"padam\", \"madap\")"
   ]
  },
  {
   "cell_type": "code",
   "execution_count": 9,
   "id": "0353011d",
   "metadata": {},
   "outputs": [
    {
     "data": {
      "text/plain": [
       "False"
      ]
     },
     "execution_count": 9,
     "metadata": {},
     "output_type": "execute_result"
    }
   ],
   "source": [
    "check_permu_dict(\"Hello\", \"World\")"
   ]
  },
  {
   "cell_type": "code",
   "execution_count": null,
   "id": "0bfef956",
   "metadata": {},
   "outputs": [],
   "source": []
  }
 ],
 "metadata": {
  "kernelspec": {
   "display_name": "Python 3 (ipykernel)",
   "language": "python",
   "name": "python3"
  },
  "language_info": {
   "codemirror_mode": {
    "name": "ipython",
    "version": 3
   },
   "file_extension": ".py",
   "mimetype": "text/x-python",
   "name": "python",
   "nbconvert_exporter": "python",
   "pygments_lexer": "ipython3",
   "version": "3.11.5"
  }
 },
 "nbformat": 4,
 "nbformat_minor": 5
}
